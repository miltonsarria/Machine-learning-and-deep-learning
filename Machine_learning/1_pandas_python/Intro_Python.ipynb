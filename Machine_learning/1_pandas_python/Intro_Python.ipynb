{
 "cells": [
  {
   "cell_type": "markdown",
   "metadata": {},
   "source": [
    "## Introducción informal a Python\n",
    "### Parte 1:  tipos de datos"
   ]
  },
  {
   "cell_type": "markdown",
   "metadata": {},
   "source": [
    "### palabras reservadas\n",
    "\n",
    "\n",
    "\n",
    "|   |   |   |   |   |\n",
    "|:-:|:-:|:-:|:-:|:-:|\n",
    "| and  |  exec | not  |  assert |  finally |\n",
    "| or  |  for |  pass |  break | class  |\n",
    "|  from |  print | continue  | global  |  raise |\n",
    "| def  |  if | return  |  del |  import |\n",
    "|  try | elif  | in  | while  | else  |\n",
    "|  is |  with |  except |  lambda |  yield |\n",
    "\n"
   ]
  },
  {
   "cell_type": "markdown",
   "metadata": {},
   "source": [
    "### Tipos de datos:\n",
    "\n",
    "Enteros, flotantes, texto.... \n",
    "\n",
    "Listas, diccionarios"
   ]
  },
  {
   "cell_type": "code",
   "execution_count": 1,
   "metadata": {},
   "outputs": [],
   "source": [
    "entero   = 14\n",
    "flotante = 0.455\n",
    "texto    = 'hola mundo'"
   ]
  },
  {
   "cell_type": "code",
   "execution_count": 2,
   "metadata": {},
   "outputs": [
    {
     "name": "stdout",
     "output_type": "stream",
     "text": [
      "14.455\n"
     ]
    }
   ],
   "source": [
    "z= entero+flotante\n",
    "print(z)"
   ]
  },
  {
   "cell_type": "code",
   "execution_count": 3,
   "metadata": {},
   "outputs": [],
   "source": [
    "#solo enteros\n",
    "lista1 = [1,2,3,4,5]\n",
    "#solo texto\n",
    "lista2 = ['uno','dos','tres','cuatro']\n",
    "#diferentes tipos de datos\n",
    "lista3 = ['hola',1,0.5]"
   ]
  },
  {
   "cell_type": "code",
   "execution_count": 4,
   "metadata": {},
   "outputs": [
    {
     "data": {
      "text/plain": [
       "'dos'"
      ]
     },
     "execution_count": 4,
     "metadata": {},
     "output_type": "execute_result"
    }
   ],
   "source": [
    "lista2[1]"
   ]
  },
  {
   "cell_type": "code",
   "execution_count": 3,
   "metadata": {},
   "outputs": [],
   "source": [
    "dict1 = {'nombre': 'john','codigo':6734, 'departamento': 'ventas'}"
   ]
  },
  {
   "cell_type": "code",
   "execution_count": 4,
   "metadata": {},
   "outputs": [
    {
     "name": "stdout",
     "output_type": "stream",
     "text": [
      "dict_keys(['nombre', 'codigo', 'departamento'])\n"
     ]
    }
   ],
   "source": [
    "print(dict1.keys())"
   ]
  },
  {
   "cell_type": "code",
   "execution_count": 5,
   "metadata": {},
   "outputs": [
    {
     "name": "stdout",
     "output_type": "stream",
     "text": [
      "dict_values(['john', 6734, 'ventas'])\n"
     ]
    }
   ],
   "source": [
    "print(dict1.values())"
   ]
  },
  {
   "cell_type": "code",
   "execution_count": 6,
   "metadata": {},
   "outputs": [
    {
     "data": {
      "text/plain": [
       "'john'"
      ]
     },
     "execution_count": 6,
     "metadata": {},
     "output_type": "execute_result"
    }
   ],
   "source": [
    "dict1['nombre']"
   ]
  },
  {
   "cell_type": "markdown",
   "metadata": {},
   "source": [
    "## Parte 2: Ciclos y condiciones"
   ]
  },
  {
   "cell_type": "code",
   "execution_count": 7,
   "metadata": {},
   "outputs": [
    {
     "name": "stdout",
     "output_type": "stream",
     "text": [
      "Felicidades, tienes 1\n",
      "Felicidades, tienes 2\n",
      "Felicidades, tienes 3\n",
      "Felicidades, tienes 4\n",
      "Felicidades, tienes 5\n",
      "Felicidades, tienes 6\n",
      "Felicidades, tienes 7\n",
      "Felicidades, tienes 8\n",
      "Felicidades, tienes 9\n",
      "Felicidades, tienes 10\n",
      "Felicidades, tienes 11\n",
      "Felicidades, tienes 12\n",
      "Felicidades, tienes 13\n",
      "Felicidades, tienes 14\n",
      "Felicidades, tienes 15\n",
      "Felicidades, tienes 16\n",
      "Felicidades, tienes 17\n",
      "Felicidades, tienes 18\n",
      "\n",
      "OHH ya eres adulto!\n"
     ]
    }
   ],
   "source": [
    "edad = 0\n",
    "while edad < 18:\n",
    "    edad = edad + 1\n",
    "    print('Felicidades, tienes ' + str(edad))\n",
    "    \n",
    "print('\\nOHH ya eres adulto!')   "
   ]
  },
  {
   "cell_type": "code",
   "execution_count": 8,
   "metadata": {},
   "outputs": [
    {
     "name": "stdout",
     "output_type": "stream",
     "text": [
      "uno\n",
      "dos\n",
      "tres\n"
     ]
    }
   ],
   "source": [
    "secuencia = ['uno', 'dos', 'tres']\n",
    "for elemento in secuencia:\n",
    "    print(elemento)"
   ]
  },
  {
   "cell_type": "code",
   "execution_count": 11,
   "metadata": {},
   "outputs": [
    {
     "name": "stdout",
     "output_type": "stream",
     "text": [
      "Ingrese un texto (combinar numeros y letras):  jsjsuweu88e\n",
      "Letras 9\n",
      "Numeros 2\n"
     ]
    }
   ],
   "source": [
    "texto = input(\"Ingrese un texto (combinar numeros y letras):  \")\n",
    "d=l=0\n",
    "for c in texto:\n",
    "    if c.isdigit():\n",
    "     d=d+1\n",
    "    elif c.isalpha():\n",
    "        l=l+1\n",
    "    else:\n",
    "        pass\n",
    "print(\"Letras\", l)\n",
    "print(\"Numeros\", d)"
   ]
  },
  {
   "cell_type": "markdown",
   "metadata": {},
   "source": [
    "### Usar diccionarios\n",
    "\n",
    "Considere el siguiente diccionario  con listas de diferente longitud, que corresponde a datos estadisticos de diferentes personas (no es relevante saber que significa cada numero). "
   ]
  },
  {
   "cell_type": "code",
   "execution_count": 13,
   "metadata": {},
   "outputs": [],
   "source": [
    "Calificaciones = {\n",
    "'Julio': [2.6, 3.33, 1.11, 4.14],\n",
    "'Francisco': [3.66, 4.78, 3.98, 4.2],\n",
    "'Maria': [2.6,2.8,4.99,1.1],\n",
    "'Andrea': [4.22, 4.22, 4.43],\n",
    "'Carolina': [3.2, 1.5, 1.3],\n",
    "'Eduardo': [1.45],\n",
    "'Carlos': [0.25, 0.3],\n",
    "'Ana': [4.22],\n",
    "'Gerardo': [4.45, 4.66, 4.75, 3.99, 3.15, 4.66],\n",
    "'Manuela': [1.29],\n",
    "'Teofilo': [1.68, 1.56],\n",
    "'Edgar': [0.99],\n",
    "'Jully': [1.61, 4.65, 3.71],\n",
    "'Samanta': [2.73, 3.86, 3.84, 4.51, 4.99],\n",
    "'German': [0.45, 2.49, 3.36]\n",
    "}\n"
   ]
  },
  {
   "cell_type": "code",
   "execution_count": 14,
   "metadata": {},
   "outputs": [
    {
     "name": "stdout",
     "output_type": "stream",
     "text": [
      "Verificar si Julio esta en la lista:\n",
      "True\n",
      "Verificar si Alberto esta en la lista:\n",
      "False\n"
     ]
    }
   ],
   "source": [
    "print('Verificar si Julio esta en la lista:')\n",
    "print('Julio' in Calificaciones)\n",
    "\n",
    "print('Verificar si Alberto esta en la lista:')\n",
    "print('Alberto' in Calificaciones)"
   ]
  },
  {
   "cell_type": "code",
   "execution_count": 15,
   "metadata": {},
   "outputs": [
    {
     "name": "stdout",
     "output_type": "stream",
     "text": [
      "Nombre: Julio\n",
      "Promedio: 2.795 , Min: 1.11 , Max: 4.14\n"
     ]
    }
   ],
   "source": [
    "#calcular el promedio, minimo y maximo de una persona en la lista\n",
    "avg_Julio = sum(Calificaciones['Julio']) / len(Calificaciones['Julio'])\n",
    "min_Julio = min(Calificaciones['Julio'])\n",
    "max_Julio = max(Calificaciones['Julio'])\n",
    "\n",
    "print(\"Nombre:\",'Julio')\n",
    "print(\"Promedio:\",avg_Julio, \", Min:\",min_Julio, \", Max:\",max_Julio)\n"
   ]
  },
  {
   "cell_type": "markdown",
   "metadata": {},
   "source": [
    "### Ejercicio\n",
    "Considere el diccionario anterior. Escribir un escript que permita imprimir la longitud y promedio de la lista asociada a cada persona\n"
   ]
  },
  {
   "cell_type": "code",
   "execution_count": 18,
   "metadata": {},
   "outputs": [
    {
     "name": "stdout",
     "output_type": "stream",
     "text": [
      "[2.6, 3.33, 1.11, 4.14]\n",
      "[3.66, 4.78, 3.98, 4.2]\n",
      "[2.6, 2.8, 4.99, 1.1]\n",
      "[4.22, 4.22, 4.43]\n",
      "[3.2, 1.5, 1.3]\n",
      "[1.45]\n",
      "[0.25, 0.3]\n",
      "[4.22]\n",
      "[4.45, 4.66, 4.75, 3.99, 3.15, 4.66]\n",
      "[1.29]\n",
      "[1.68, 1.56]\n",
      "[0.99]\n",
      "[1.61, 4.65, 3.71]\n",
      "[2.73, 3.86, 3.84, 4.51, 4.99]\n",
      "[0.45, 2.49, 3.36]\n"
     ]
    }
   ],
   "source": [
    "#su codigo va aqui\n",
    "names = Calificaciones.keys()\n",
    "for name in names:\n",
    "    cal = Calificaciones[name]\n",
    "    print(cal)"
   ]
  },
  {
   "cell_type": "markdown",
   "metadata": {},
   "source": [
    "## Parte 3: Librerias\n",
    "\n",
    "**NumPy**  es una extensión de Python, que le agrega mayor soporte para vectores y matrices, constituyendo una biblioteca de funciones matemáticas de alto nivel para operar con esos vectores o matrices.\n",
    "\n",
    "https://numpy.org/devdocs/user/quickstart.html\n",
    "\n",
    "**Matplotlib** es una biblioteca para la generación de gráficos a partir de datos contenidos en listas o arrays. Proporciona una API, pylab, diseñada para recordar a la de MATLAB. \n",
    "\n",
    "https://matplotlib.org/"
   ]
  },
  {
   "cell_type": "code",
   "execution_count": 2,
   "metadata": {},
   "outputs": [
    {
     "data": {
      "text/plain": [
       "[<matplotlib.lines.Line2D at 0x7fdeb0c94310>]"
      ]
     },
     "execution_count": 2,
     "metadata": {},
     "output_type": "execute_result"
    },
    {
     "data": {
      "image/png": "[encoded data removed]",
      "text/plain": [
       "<Figure size 432x288 with 1 Axes>"
      ]
     },
     "metadata": {
      "needs_background": "light"
     },
     "output_type": "display_data"
    }
   ],
   "source": [
    "import numpy\n",
    "from matplotlib import pyplot\n",
    "%matplotlib inline\n",
    "\n",
    "x = numpy.linspace(0, 2 * numpy.pi, 100)\n",
    "y = numpy.sin(x)\n",
    "pyplot.plot(x, y)\n",
    "\n"
   ]
  },
  {
   "cell_type": "code",
   "execution_count": 3,
   "metadata": {},
   "outputs": [
    {
     "data": {
      "text/plain": [
       "[<matplotlib.lines.Line2D at 0x7fdeb0bc9710>]"
      ]
     },
     "execution_count": 3,
     "metadata": {},
     "output_type": "execute_result"
    },
    {
     "data": {
      "image/png": "[encoded data removed]",
      "text/plain": [
       "<Figure size 432x288 with 1 Axes>"
      ]
     },
     "metadata": {
      "needs_background": "light"
     },
     "output_type": "display_data"
    }
   ],
   "source": [
    "#usar alias para las librerias\n",
    "import numpy as np\n",
    "import matplotlib.pyplot as plt\n",
    "%matplotlib inline\n",
    "\n",
    "x = np.linspace(0, 2 * np.pi, 100)\n",
    "y = np.sin(x)\n",
    "plt.plot(x, y)\n",
    "\n"
   ]
  },
  {
   "cell_type": "markdown",
   "metadata": {},
   "source": [
    "### Arrays"
   ]
  },
  {
   "cell_type": "code",
   "execution_count": 4,
   "metadata": {},
   "outputs": [],
   "source": [
    "a = np.array( [20,30,40,50] )"
   ]
  },
  {
   "cell_type": "code",
   "execution_count": 5,
   "metadata": {
    "scrolled": true
   },
   "outputs": [
    {
     "name": "stdout",
     "output_type": "stream",
     "text": [
      "50\n",
      "20\n",
      "35.0\n",
      "[ 400  900 1600 2500]\n"
     ]
    }
   ],
   "source": [
    "print(a.max())\n",
    "print(a.min())\n",
    "print(a.mean())\n",
    "print(a**2)"
   ]
  },
  {
   "cell_type": "code",
   "execution_count": 6,
   "metadata": {},
   "outputs": [
    {
     "name": "stdout",
     "output_type": "stream",
     "text": [
      "(12,)\n",
      "[ 1  2  3  4  5  6  7  8  9 10 11 12]\n"
     ]
    }
   ],
   "source": [
    "a1 = np.arange(1, 13)  # numeros 1 a 12\n",
    "print(a1.shape)\n",
    "print(a1)\n"
   ]
  },
  {
   "cell_type": "markdown",
   "metadata": {},
   "source": [
    "<img src=\"img/img1.png\" width=\"400\">\n"
   ]
  },
  {
   "cell_type": "markdown",
   "metadata": {},
   "source": [
    "### Usar reshape()###\n",
    "\n",
    "https://docs.scipy.org/doc/numpy/reference/generated/numpy.reshape.html"
   ]
  },
  {
   "cell_type": "code",
   "execution_count": 7,
   "metadata": {},
   "outputs": [
    {
     "name": "stdout",
     "output_type": "stream",
     "text": [
      "(3, 4)\n",
      "[[ 1  2  3  4]\n",
      " [ 5  6  7  8]\n",
      " [ 9 10 11 12]]\n"
     ]
    }
   ],
   "source": [
    "a1_2d = a1.reshape(3, 4)  # 3_4\n",
    "print(a1_2d.shape)\n",
    "print(a1_2d)"
   ]
  },
  {
   "cell_type": "markdown",
   "metadata": {},
   "source": [
    "<img src=\"img/img2.png\" width=\"150\">"
   ]
  },
  {
   "cell_type": "markdown",
   "metadata": {},
   "source": [
    "**Si usted quiere que numpy automaticamente determine una de las dos dimensiones, usar el argumento -1**"
   ]
  },
  {
   "cell_type": "code",
   "execution_count": 33,
   "metadata": {},
   "outputs": [
    {
     "data": {
      "text/plain": [
       "array([[ 1,  2,  3,  4],\n",
       "       [ 5,  6,  7,  8],\n",
       "       [ 9, 10, 11, 12]])"
      ]
     },
     "execution_count": 33,
     "metadata": {},
     "output_type": "execute_result"
    }
   ],
   "source": [
    "a1.reshape(-1, 4) "
   ]
  },
  {
   "cell_type": "code",
   "execution_count": null,
   "metadata": {},
   "outputs": [],
   "source": [
    "a1.reshape(3, -1) "
   ]
  },
  {
   "cell_type": "code",
   "execution_count": null,
   "metadata": {},
   "outputs": [],
   "source": [
    "a1.reshape(2, 6)"
   ]
  },
  {
   "cell_type": "code",
   "execution_count": 9,
   "metadata": {},
   "outputs": [
    {
     "data": {
      "text/plain": [
       "array([[ 1,  2,  3,  4,  5,  6],\n",
       "       [ 7,  8,  9, 10, 11, 12]])"
      ]
     },
     "execution_count": 9,
     "metadata": {},
     "output_type": "execute_result"
    }
   ],
   "source": [
    "a1.reshape(2, -1)  "
   ]
  },
  {
   "cell_type": "code",
   "execution_count": 10,
   "metadata": {},
   "outputs": [
    {
     "ename": "ValueError",
     "evalue": "cannot reshape array of size 12 into shape (5,newaxis)",
     "output_type": "error",
     "traceback": [
      "\u001b[0;31m---------------------------------------------------------------------------\u001b[0m",
      "\u001b[0;31mValueError\u001b[0m                                Traceback (most recent call last)",
      "\u001b[0;32m<ipython-input-10-78b2ef50cc25>\u001b[0m in \u001b[0;36m<module>\u001b[0;34m\u001b[0m\n\u001b[0;32m----> 1\u001b[0;31m \u001b[0ma1\u001b[0m\u001b[0;34m.\u001b[0m\u001b[0mreshape\u001b[0m\u001b[0;34m(\u001b[0m\u001b[0;36m5\u001b[0m\u001b[0;34m,\u001b[0m \u001b[0;34m-\u001b[0m\u001b[0;36m1\u001b[0m\u001b[0;34m)\u001b[0m\u001b[0;34m\u001b[0m\u001b[0;34m\u001b[0m\u001b[0m\n\u001b[0m",
      "\u001b[0;31mValueError\u001b[0m: cannot reshape array of size 12 into shape (5,newaxis)"
     ]
    }
   ],
   "source": [
    "a1.reshape(5, -1)  "
   ]
  },
  {
   "cell_type": "code",
   "execution_count": 11,
   "metadata": {},
   "outputs": [
    {
     "data": {
      "text/plain": [
       "array([[ 1,  2,  3,  4],\n",
       "       [ 5,  6,  7,  8],\n",
       "       [ 9, 10, 11, 12]])"
      ]
     },
     "execution_count": 11,
     "metadata": {},
     "output_type": "execute_result"
    }
   ],
   "source": [
    "a1.reshape(3, 4, order='C') "
   ]
  },
  {
   "cell_type": "code",
   "execution_count": 12,
   "metadata": {
    "scrolled": true
   },
   "outputs": [
    {
     "data": {
      "text/plain": [
       "array([[ 1,  4,  7, 10],\n",
       "       [ 2,  5,  8, 11],\n",
       "       [ 3,  6,  9, 12]])"
      ]
     },
     "execution_count": 12,
     "metadata": {},
     "output_type": "execute_result"
    }
   ],
   "source": [
    "a1.reshape(3, 4, order='F') "
   ]
  },
  {
   "cell_type": "markdown",
   "metadata": {},
   "source": [
    "### Concatenar arrays / stack() ###\n",
    "\n",
    "https://docs.scipy.org/doc/numpy/reference/generated/numpy.stack.html\n",
    "\n",
    "<img src=\"img/img3.png\" width=\"400\">"
   ]
  },
  {
   "cell_type": "code",
   "execution_count": 13,
   "metadata": {},
   "outputs": [
    {
     "name": "stdout",
     "output_type": "stream",
     "text": [
      "[ 1  2  3  4  5  6  7  8  9 10 11 12]\n",
      "[13 14 15 16 17 18 19 20 21 22 23 24]\n"
     ]
    }
   ],
   "source": [
    "a1 = np.arange(1, 13)\n",
    "print(a1)\n",
    "a2 = np.arange(13, 25)\n",
    "print(a2)"
   ]
  },
  {
   "cell_type": "code",
   "execution_count": 14,
   "metadata": {},
   "outputs": [
    {
     "name": "stdout",
     "output_type": "stream",
     "text": [
      "(4, 12)\n",
      "[[ 1  2  3  4  5  6  7  8  9 10 11 12]\n",
      " [ 1  2  3  4  5  6  7  8  9 10 11 12]\n",
      " [13 14 15 16 17 18 19 20 21 22 23 24]\n",
      " [13 14 15 16 17 18 19 20 21 22 23 24]]\n"
     ]
    }
   ],
   "source": [
    "stack0 = np.stack((a1, a1, a2, a2))  # default  0th axis\n",
    "print(stack0.shape)\n",
    "print(stack0)"
   ]
  },
  {
   "cell_type": "code",
   "execution_count": 15,
   "metadata": {},
   "outputs": [
    {
     "name": "stdout",
     "output_type": "stream",
     "text": [
      "(12, 4)\n",
      "[[ 1  1 13 13]\n",
      " [ 2  2 14 14]\n",
      " [ 3  3 15 15]\n",
      " [ 4  4 16 16]\n",
      " [ 5  5 17 17]\n",
      " [ 6  6 18 18]\n",
      " [ 7  7 19 19]\n",
      " [ 8  8 20 20]\n",
      " [ 9  9 21 21]\n",
      " [10 10 22 22]\n",
      " [11 11 23 23]\n",
      " [12 12 24 24]]\n"
     ]
    }
   ],
   "source": [
    "stack1 = np.stack((a1, a1, a2, a2), axis=1)\n",
    "print(stack1.shape)\n",
    "print(stack1)"
   ]
  },
  {
   "cell_type": "code",
   "execution_count": 16,
   "metadata": {},
   "outputs": [
    {
     "name": "stdout",
     "output_type": "stream",
     "text": [
      "(24,)\n",
      "[ 1  2  3  4  5  6  7  8  9 10 11 12 13 14 15 16 17 18 19 20 21 22 23 24]\n"
     ]
    }
   ],
   "source": [
    "stack_long = np.hstack((a1, a2))\n",
    "print(stack_long.shape)\n",
    "print(stack_long)"
   ]
  },
  {
   "cell_type": "markdown",
   "metadata": {},
   "source": [
    "**Crear arrays 3D al concatenar arrays en diferentes ejes / dimensiones (axes/dimensions)**\n",
    "\n",
    "<img src=\"img/img4.png\" width=\"600\">"
   ]
  },
  {
   "cell_type": "code",
   "execution_count": 17,
   "metadata": {},
   "outputs": [],
   "source": [
    "a1 = np.arange(1, 13).reshape(3, -1)  # 3_4\n",
    "a2 = np.arange(13, 25).reshape(3, -1)  # 3_4"
   ]
  },
  {
   "cell_type": "code",
   "execution_count": 18,
   "metadata": {},
   "outputs": [
    {
     "name": "stdout",
     "output_type": "stream",
     "text": [
      "(2, 3, 4)\n",
      "(3, 2, 4)\n",
      "(3, 4, 2)\n"
     ]
    }
   ],
   "source": [
    "a3_0 = np.stack((a1, a2))  # (dimension 0)\n",
    "a3_1 = np.stack((a1, a2), axis=1)  # dimension 1\n",
    "a3_2 = np.stack((a1, a2), axis=2)  #  dimension 2\n",
    "\n",
    "print(a3_0.shape)\n",
    "print(a3_1.shape)\n",
    "print(a3_2.shape)\n"
   ]
  },
  {
   "cell_type": "markdown",
   "metadata": {},
   "source": [
    "**convertir arreglos multidimencionales a arreglos en una sola dimension**\n",
    "\n",
    "https://docs.scipy.org/doc/numpy/reference/generated/numpy.ravel.html\n",
    "\n",
    "<img src=\"img/img5.png\" width=\"600\">"
   ]
  },
  {
   "cell_type": "code",
   "execution_count": 22,
   "metadata": {},
   "outputs": [
    {
     "name": "stdout",
     "output_type": "stream",
     "text": [
      "[[[ 1  2  3  4]\n",
      "  [ 5  6  7  8]\n",
      "  [ 9 10 11 12]]\n",
      "\n",
      " [[13 14 15 16]\n",
      "  [17 18 19 20]\n",
      "  [21 22 23 24]]]\n"
     ]
    }
   ],
   "source": [
    "print(a3_0)"
   ]
  },
  {
   "cell_type": "code",
   "execution_count": 23,
   "metadata": {},
   "outputs": [
    {
     "name": "stdout",
     "output_type": "stream",
     "text": [
      "[ 1  2  3  4  5  6  7  8  9 10 11 12 13 14 15 16 17 18 19 20 21 22 23 24]\n",
      "[ 1 13  5 17  9 21  2 14  6 18 10 22  3 15  7 19 11 23  4 16  8 20 12 24]\n"
     ]
    }
   ],
   "source": [
    "print(a3_0.ravel())\n",
    "print(a3_0.ravel(order='F'))"
   ]
  },
  {
   "cell_type": "code",
   "execution_count": null,
   "metadata": {},
   "outputs": [],
   "source": []
  },
  {
   "cell_type": "markdown",
   "metadata": {},
   "source": [
    " **Pandas** es una librería de python destinada al análisis de datos, que proporciona unas estructuras de datos flexibles y que permiten trabajar de forma muy eficiente. Pandas ofrece las siguientes estructuras de datos:\n",
    "\n",
    "1. **Series**: Son arrays unidimensionales con indexación (arrays con índice o etiquetados), similar a los diccionarios. Pueden generarse a partir de diccionarios o de listas.\n",
    "2. **DataFrame**: Son estructuras de datos similares a las tablas de bases de datos relacionales como SQL.\n",
    "\n",
    "https://pandas.pydata.org/"
   ]
  },
  {
   "cell_type": "code",
   "execution_count": 1,
   "metadata": {},
   "outputs": [],
   "source": [
    "import pandas as pd"
   ]
  },
  {
   "cell_type": "code",
   "execution_count": 2,
   "metadata": {},
   "outputs": [],
   "source": [
    "#crear diccionario\n",
    "jugadores = \\\n",
    "{\n",
    "        'Nombre': ['Casillas', 'Ramos', 'Ronaldo', 'Messi', 'Neymar', 'Roberto Carlos', 'Falcao', 'James',\n",
    "                 'David Ospina', 'Valderrama', 'Jorge Bermudez'],\n",
    "        'Posicion': ['Arquero', 'Defensa', 'Delantero', 'Delantero','Delantero', 'Defensa', 'Delantero',\n",
    "                        'Medio campo', 'Arquero', 'Medio campo', 'Defensa'],\n",
    "        'Pais': ['España', 'España', 'Portugal', 'Argentina', 'Brasil', 'Brasil',\n",
    "                 'Colombia', 'Colombia', 'Colombia', 'Colombia', 'Colombia']\n",
    "    }\n",
    "\n",
    "#crear data frame\n",
    "jugadores_df = pd.DataFrame(jugadores\n",
    "    , columns=['Nombre', 'Posicion', 'Pais'], #index = range(1,12)\n",
    ")\n"
   ]
  },
  {
   "cell_type": "code",
   "execution_count": 3,
   "metadata": {},
   "outputs": [
    {
     "data": {
      "text/html": [
       "<div>\n",
       "<style scoped>\n",
       "    .dataframe tbody tr th:only-of-type {\n",
       "        vertical-align: middle;\n",
       "    }\n",
       "\n",
       "    .dataframe tbody tr th {\n",
       "        vertical-align: top;\n",
       "    }\n",
       "\n",
       "    .dataframe thead th {\n",
       "        text-align: right;\n",
       "    }\n",
       "</style>\n",
       "<table border=\"1\" class=\"dataframe\">\n",
       "  <thead>\n",
       "    <tr style=\"text-align: right;\">\n",
       "      <th></th>\n",
       "      <th>Nombre</th>\n",
       "      <th>Posicion</th>\n",
       "      <th>Pais</th>\n",
       "    </tr>\n",
       "  </thead>\n",
       "  <tbody>\n",
       "    <tr>\n",
       "      <td>0</td>\n",
       "      <td>Casillas</td>\n",
       "      <td>Arquero</td>\n",
       "      <td>España</td>\n",
       "    </tr>\n",
       "    <tr>\n",
       "      <td>1</td>\n",
       "      <td>Ramos</td>\n",
       "      <td>Defensa</td>\n",
       "      <td>España</td>\n",
       "    </tr>\n",
       "    <tr>\n",
       "      <td>2</td>\n",
       "      <td>Ronaldo</td>\n",
       "      <td>Delantero</td>\n",
       "      <td>Portugal</td>\n",
       "    </tr>\n",
       "    <tr>\n",
       "      <td>3</td>\n",
       "      <td>Messi</td>\n",
       "      <td>Delantero</td>\n",
       "      <td>Argentina</td>\n",
       "    </tr>\n",
       "    <tr>\n",
       "      <td>4</td>\n",
       "      <td>Neymar</td>\n",
       "      <td>Delantero</td>\n",
       "      <td>Brasil</td>\n",
       "    </tr>\n",
       "    <tr>\n",
       "      <td>5</td>\n",
       "      <td>Roberto Carlos</td>\n",
       "      <td>Defensa</td>\n",
       "      <td>Brasil</td>\n",
       "    </tr>\n",
       "    <tr>\n",
       "      <td>6</td>\n",
       "      <td>Falcao</td>\n",
       "      <td>Delantero</td>\n",
       "      <td>Colombia</td>\n",
       "    </tr>\n",
       "    <tr>\n",
       "      <td>7</td>\n",
       "      <td>James</td>\n",
       "      <td>Medio campo</td>\n",
       "      <td>Colombia</td>\n",
       "    </tr>\n",
       "    <tr>\n",
       "      <td>8</td>\n",
       "      <td>David Ospina</td>\n",
       "      <td>Arquero</td>\n",
       "      <td>Colombia</td>\n",
       "    </tr>\n",
       "    <tr>\n",
       "      <td>9</td>\n",
       "      <td>Valderrama</td>\n",
       "      <td>Medio campo</td>\n",
       "      <td>Colombia</td>\n",
       "    </tr>\n",
       "    <tr>\n",
       "      <td>10</td>\n",
       "      <td>Jorge Bermudez</td>\n",
       "      <td>Defensa</td>\n",
       "      <td>Colombia</td>\n",
       "    </tr>\n",
       "  </tbody>\n",
       "</table>\n",
       "</div>"
      ],
      "text/plain": [
       "            Nombre     Posicion       Pais\n",
       "0         Casillas      Arquero     España\n",
       "1            Ramos      Defensa     España\n",
       "2          Ronaldo    Delantero   Portugal\n",
       "3            Messi    Delantero  Argentina\n",
       "4           Neymar    Delantero     Brasil\n",
       "5   Roberto Carlos      Defensa     Brasil\n",
       "6           Falcao    Delantero   Colombia\n",
       "7            James  Medio campo   Colombia\n",
       "8     David Ospina      Arquero   Colombia\n",
       "9       Valderrama  Medio campo   Colombia\n",
       "10  Jorge Bermudez      Defensa   Colombia"
      ]
     },
     "execution_count": 3,
     "metadata": {},
     "output_type": "execute_result"
    }
   ],
   "source": [
    "jugadores_df"
   ]
  },
  {
   "cell_type": "code",
   "execution_count": 15,
   "metadata": {},
   "outputs": [
    {
     "data": {
      "text/html": [
       "<div>\n",
       "<style scoped>\n",
       "    .dataframe tbody tr th:only-of-type {\n",
       "        vertical-align: middle;\n",
       "    }\n",
       "\n",
       "    .dataframe tbody tr th {\n",
       "        vertical-align: top;\n",
       "    }\n",
       "\n",
       "    .dataframe thead th {\n",
       "        text-align: right;\n",
       "    }\n",
       "</style>\n",
       "<table border=\"1\" class=\"dataframe\">\n",
       "  <thead>\n",
       "    <tr style=\"text-align: right;\">\n",
       "      <th></th>\n",
       "      <th>Nombre</th>\n",
       "      <th>Posicion</th>\n",
       "      <th>Pais</th>\n",
       "    </tr>\n",
       "  </thead>\n",
       "  <tbody>\n",
       "    <tr>\n",
       "      <td>0</td>\n",
       "      <td>Casillas</td>\n",
       "      <td>Arquero</td>\n",
       "      <td>España</td>\n",
       "    </tr>\n",
       "    <tr>\n",
       "      <td>1</td>\n",
       "      <td>Ramos</td>\n",
       "      <td>Defensa</td>\n",
       "      <td>España</td>\n",
       "    </tr>\n",
       "    <tr>\n",
       "      <td>2</td>\n",
       "      <td>Ronaldo</td>\n",
       "      <td>Delantero</td>\n",
       "      <td>Portugal</td>\n",
       "    </tr>\n",
       "    <tr>\n",
       "      <td>3</td>\n",
       "      <td>Messi</td>\n",
       "      <td>Delantero</td>\n",
       "      <td>Argentina</td>\n",
       "    </tr>\n",
       "    <tr>\n",
       "      <td>4</td>\n",
       "      <td>Neymar</td>\n",
       "      <td>Delantero</td>\n",
       "      <td>Brasil</td>\n",
       "    </tr>\n",
       "    <tr>\n",
       "      <td>5</td>\n",
       "      <td>Roberto Carlos</td>\n",
       "      <td>Defensa</td>\n",
       "      <td>Brasil</td>\n",
       "    </tr>\n",
       "    <tr>\n",
       "      <td>6</td>\n",
       "      <td>Falcao</td>\n",
       "      <td>Delantero</td>\n",
       "      <td>Colombia</td>\n",
       "    </tr>\n",
       "    <tr>\n",
       "      <td>7</td>\n",
       "      <td>James</td>\n",
       "      <td>Medio campo</td>\n",
       "      <td>Colombia</td>\n",
       "    </tr>\n",
       "    <tr>\n",
       "      <td>8</td>\n",
       "      <td>David Ospina</td>\n",
       "      <td>Arquero</td>\n",
       "      <td>Colombia</td>\n",
       "    </tr>\n",
       "    <tr>\n",
       "      <td>9</td>\n",
       "      <td>Valderrama</td>\n",
       "      <td>Medio campo</td>\n",
       "      <td>Colombia</td>\n",
       "    </tr>\n",
       "    <tr>\n",
       "      <td>10</td>\n",
       "      <td>Jorge Bermudez</td>\n",
       "      <td>Defensa</td>\n",
       "      <td>Colombia</td>\n",
       "    </tr>\n",
       "    <tr>\n",
       "      <td>11</td>\n",
       "      <td>Buffon</td>\n",
       "      <td>Arquero</td>\n",
       "      <td>Italia</td>\n",
       "    </tr>\n",
       "  </tbody>\n",
       "</table>\n",
       "</div>"
      ],
      "text/plain": [
       "            Nombre     Posicion       Pais\n",
       "0         Casillas      Arquero     España\n",
       "1            Ramos      Defensa     España\n",
       "2          Ronaldo    Delantero   Portugal\n",
       "3            Messi    Delantero  Argentina\n",
       "4           Neymar    Delantero     Brasil\n",
       "5   Roberto Carlos      Defensa     Brasil\n",
       "6           Falcao    Delantero   Colombia\n",
       "7            James  Medio campo   Colombia\n",
       "8     David Ospina      Arquero   Colombia\n",
       "9       Valderrama  Medio campo   Colombia\n",
       "10  Jorge Bermudez      Defensa   Colombia\n",
       "11          Buffon      Arquero     Italia"
      ]
     },
     "execution_count": 15,
     "metadata": {},
     "output_type": "execute_result"
    }
   ],
   "source": [
    "jugadores_df.loc[11] = ['Buffon', 'Arquero', 'Italia']\n",
    "jugadores_df"
   ]
  },
  {
   "cell_type": "code",
   "execution_count": 71,
   "metadata": {},
   "outputs": [
    {
     "data": {
      "text/html": [
       "<div>\n",
       "<style scoped>\n",
       "    .dataframe tbody tr th:only-of-type {\n",
       "        vertical-align: middle;\n",
       "    }\n",
       "\n",
       "    .dataframe tbody tr th {\n",
       "        vertical-align: top;\n",
       "    }\n",
       "\n",
       "    .dataframe thead th {\n",
       "        text-align: right;\n",
       "    }\n",
       "</style>\n",
       "<table border=\"1\" class=\"dataframe\">\n",
       "  <thead>\n",
       "    <tr style=\"text-align: right;\">\n",
       "      <th></th>\n",
       "      <th>Nombre</th>\n",
       "      <th>Posicion</th>\n",
       "      <th>Pais</th>\n",
       "      <th>Estado</th>\n",
       "    </tr>\n",
       "  </thead>\n",
       "  <tbody>\n",
       "    <tr>\n",
       "      <td>0</td>\n",
       "      <td>Casillas</td>\n",
       "      <td>Arquero</td>\n",
       "      <td>España</td>\n",
       "      <td>activo</td>\n",
       "    </tr>\n",
       "    <tr>\n",
       "      <td>1</td>\n",
       "      <td>Ramos</td>\n",
       "      <td>Defensa</td>\n",
       "      <td>España</td>\n",
       "      <td>activo</td>\n",
       "    </tr>\n",
       "    <tr>\n",
       "      <td>2</td>\n",
       "      <td>Ronaldo</td>\n",
       "      <td>Delantero</td>\n",
       "      <td>Portugal</td>\n",
       "      <td>activo</td>\n",
       "    </tr>\n",
       "    <tr>\n",
       "      <td>3</td>\n",
       "      <td>Messi</td>\n",
       "      <td>Delantero</td>\n",
       "      <td>Argentina</td>\n",
       "      <td>activo</td>\n",
       "    </tr>\n",
       "    <tr>\n",
       "      <td>4</td>\n",
       "      <td>Neymar</td>\n",
       "      <td>Delantero</td>\n",
       "      <td>Brasil</td>\n",
       "      <td>activo</td>\n",
       "    </tr>\n",
       "    <tr>\n",
       "      <td>5</td>\n",
       "      <td>Roberto Carlos</td>\n",
       "      <td>Defensa</td>\n",
       "      <td>Brasil</td>\n",
       "      <td>retirado</td>\n",
       "    </tr>\n",
       "    <tr>\n",
       "      <td>6</td>\n",
       "      <td>Falcao</td>\n",
       "      <td>Delantero</td>\n",
       "      <td>Colombia</td>\n",
       "      <td>activo</td>\n",
       "    </tr>\n",
       "    <tr>\n",
       "      <td>7</td>\n",
       "      <td>James</td>\n",
       "      <td>Medio campo</td>\n",
       "      <td>Colombia</td>\n",
       "      <td>activo</td>\n",
       "    </tr>\n",
       "    <tr>\n",
       "      <td>8</td>\n",
       "      <td>David Ospina</td>\n",
       "      <td>Arquero</td>\n",
       "      <td>Colombia</td>\n",
       "      <td>activo</td>\n",
       "    </tr>\n",
       "    <tr>\n",
       "      <td>9</td>\n",
       "      <td>Valderrama</td>\n",
       "      <td>Medio campo</td>\n",
       "      <td>Colombia</td>\n",
       "      <td>retirado</td>\n",
       "    </tr>\n",
       "    <tr>\n",
       "      <td>10</td>\n",
       "      <td>Jorge Bermudez</td>\n",
       "      <td>Defensa</td>\n",
       "      <td>Colombia</td>\n",
       "      <td>retirado</td>\n",
       "    </tr>\n",
       "    <tr>\n",
       "      <td>11</td>\n",
       "      <td>Buffon</td>\n",
       "      <td>Arquero</td>\n",
       "      <td>Italia</td>\n",
       "      <td>activo</td>\n",
       "    </tr>\n",
       "  </tbody>\n",
       "</table>\n",
       "</div>"
      ],
      "text/plain": [
       "            Nombre     Posicion       Pais    Estado\n",
       "0         Casillas      Arquero     España    activo\n",
       "1            Ramos      Defensa     España    activo\n",
       "2          Ronaldo    Delantero   Portugal    activo\n",
       "3            Messi    Delantero  Argentina    activo\n",
       "4           Neymar    Delantero     Brasil    activo\n",
       "5   Roberto Carlos      Defensa     Brasil  retirado\n",
       "6           Falcao    Delantero   Colombia    activo\n",
       "7            James  Medio campo   Colombia    activo\n",
       "8     David Ospina      Arquero   Colombia    activo\n",
       "9       Valderrama  Medio campo   Colombia  retirado\n",
       "10  Jorge Bermudez      Defensa   Colombia  retirado\n",
       "11          Buffon      Arquero     Italia    activo"
      ]
     },
     "execution_count": 71,
     "metadata": {},
     "output_type": "execute_result"
    }
   ],
   "source": [
    "#agregar nueva columna\n",
    "jugadores_df['Estado'] = \\\n",
    "['activo','activo','activo','activo','activo','retirado','activo','activo','activo','retirado','retirado','activo']\n",
    "jugadores_df"
   ]
  },
  {
   "cell_type": "code",
   "execution_count": 73,
   "metadata": {},
   "outputs": [
    {
     "data": {
      "text/html": [
       "<div>\n",
       "<style scoped>\n",
       "    .dataframe tbody tr th:only-of-type {\n",
       "        vertical-align: middle;\n",
       "    }\n",
       "\n",
       "    .dataframe tbody tr th {\n",
       "        vertical-align: top;\n",
       "    }\n",
       "\n",
       "    .dataframe thead th {\n",
       "        text-align: right;\n",
       "    }\n",
       "</style>\n",
       "<table border=\"1\" class=\"dataframe\">\n",
       "  <thead>\n",
       "    <tr style=\"text-align: right;\">\n",
       "      <th></th>\n",
       "      <th>Nombre</th>\n",
       "      <th>Posicion</th>\n",
       "      <th>Pais</th>\n",
       "      <th>Estado</th>\n",
       "    </tr>\n",
       "  </thead>\n",
       "  <tbody>\n",
       "    <tr>\n",
       "      <td>5</td>\n",
       "      <td>Roberto Carlos</td>\n",
       "      <td>Defensa</td>\n",
       "      <td>Brasil</td>\n",
       "      <td>retirado</td>\n",
       "    </tr>\n",
       "    <tr>\n",
       "      <td>9</td>\n",
       "      <td>Valderrama</td>\n",
       "      <td>Medio campo</td>\n",
       "      <td>Colombia</td>\n",
       "      <td>retirado</td>\n",
       "    </tr>\n",
       "    <tr>\n",
       "      <td>10</td>\n",
       "      <td>Jorge Bermudez</td>\n",
       "      <td>Defensa</td>\n",
       "      <td>Colombia</td>\n",
       "      <td>retirado</td>\n",
       "    </tr>\n",
       "  </tbody>\n",
       "</table>\n",
       "</div>"
      ],
      "text/plain": [
       "            Nombre     Posicion      Pais    Estado\n",
       "5   Roberto Carlos      Defensa    Brasil  retirado\n",
       "9       Valderrama  Medio campo  Colombia  retirado\n",
       "10  Jorge Bermudez      Defensa  Colombia  retirado"
      ]
     },
     "execution_count": 73,
     "metadata": {},
     "output_type": "execute_result"
    }
   ],
   "source": [
    "#filtar datos\n",
    "jugadores_df[jugadores_df['Estado']=='retirado']"
   ]
  },
  {
   "cell_type": "code",
   "execution_count": 74,
   "metadata": {},
   "outputs": [
    {
     "data": {
      "text/html": [
       "<div>\n",
       "<style scoped>\n",
       "    .dataframe tbody tr th:only-of-type {\n",
       "        vertical-align: middle;\n",
       "    }\n",
       "\n",
       "    .dataframe tbody tr th {\n",
       "        vertical-align: top;\n",
       "    }\n",
       "\n",
       "    .dataframe thead th {\n",
       "        text-align: right;\n",
       "    }\n",
       "</style>\n",
       "<table border=\"1\" class=\"dataframe\">\n",
       "  <thead>\n",
       "    <tr style=\"text-align: right;\">\n",
       "      <th></th>\n",
       "      <th>Nombre</th>\n",
       "      <th>Posicion</th>\n",
       "      <th>Pais</th>\n",
       "      <th>Estado</th>\n",
       "    </tr>\n",
       "  </thead>\n",
       "  <tbody>\n",
       "    <tr>\n",
       "      <td>0</td>\n",
       "      <td>Casillas</td>\n",
       "      <td>Arquero</td>\n",
       "      <td>España</td>\n",
       "      <td>activo</td>\n",
       "    </tr>\n",
       "    <tr>\n",
       "      <td>8</td>\n",
       "      <td>David Ospina</td>\n",
       "      <td>Arquero</td>\n",
       "      <td>Colombia</td>\n",
       "      <td>activo</td>\n",
       "    </tr>\n",
       "    <tr>\n",
       "      <td>11</td>\n",
       "      <td>Buffon</td>\n",
       "      <td>Arquero</td>\n",
       "      <td>Italia</td>\n",
       "      <td>activo</td>\n",
       "    </tr>\n",
       "  </tbody>\n",
       "</table>\n",
       "</div>"
      ],
      "text/plain": [
       "          Nombre Posicion      Pais  Estado\n",
       "0       Casillas  Arquero    España  activo\n",
       "8   David Ospina  Arquero  Colombia  activo\n",
       "11        Buffon  Arquero    Italia  activo"
      ]
     },
     "execution_count": 74,
     "metadata": {},
     "output_type": "execute_result"
    }
   ],
   "source": [
    "jugadores_df[jugadores_df['Posicion']=='Arquero']"
   ]
  },
  {
   "cell_type": "markdown",
   "metadata": {},
   "source": [
    "### Métodos y atributos útiles\n",
    "1. ```DataFrame.head()```  \n",
    "2. ```DataFrame.tail()```  \n",
    "3. ```DataFrame.shape```   \n",
    "4. ```DataFrame.columns``` \n",
    "5. ```DataFrame.index```   \n"
   ]
  },
  {
   "cell_type": "code",
   "execution_count": 9,
   "metadata": {},
   "outputs": [
    {
     "data": {
      "text/plain": [
       "RangeIndex(start=0, stop=11, step=1)"
      ]
     },
     "execution_count": 9,
     "metadata": {},
     "output_type": "execute_result"
    }
   ],
   "source": [
    "jugadores_df.index"
   ]
  },
  {
   "cell_type": "code",
   "execution_count": 10,
   "metadata": {},
   "outputs": [
    {
     "data": {
      "text/plain": [
       "Colombia     5\n",
       "España       2\n",
       "Brasil       2\n",
       "Argentina    1\n",
       "Portugal     1\n",
       "Name: Pais, dtype: int64"
      ]
     },
     "execution_count": 10,
     "metadata": {},
     "output_type": "execute_result"
    }
   ],
   "source": [
    "#contar valores\n",
    "jugadores_df['Pais'].value_counts()"
   ]
  },
  {
   "cell_type": "code",
   "execution_count": 78,
   "metadata": {},
   "outputs": [
    {
     "data": {
      "text/plain": [
       "<matplotlib.axes._subplots.AxesSubplot at 0x7f48f7707450>"
      ]
     },
     "execution_count": 78,
     "metadata": {},
     "output_type": "execute_result"
    },
    {
     "data": {
      "image/png": "[encoded data removed]",
      "text/plain": [
       "<Figure size 432x288 with 1 Axes>"
      ]
     },
     "metadata": {
      "needs_background": "light"
     },
     "output_type": "display_data"
    }
   ],
   "source": [
    "jugadores_df['Pais'].value_counts().plot()"
   ]
  },
  {
   "cell_type": "code",
   "execution_count": 79,
   "metadata": {
    "scrolled": true
   },
   "outputs": [
    {
     "data": {
      "text/plain": [
       "<matplotlib.axes._subplots.AxesSubplot at 0x7f48f4d79cd0>"
      ]
     },
     "execution_count": 79,
     "metadata": {},
     "output_type": "execute_result"
    },
    {
     "data": {
      "image/png": "[encoded data removed]",
      "text/plain": [
       "<Figure size 432x288 with 1 Axes>"
      ]
     },
     "metadata": {
      "needs_background": "light"
     },
     "output_type": "display_data"
    }
   ],
   "source": [
    "jugadores_df['Pais'].value_counts().plot.bar()"
   ]
  },
  {
   "cell_type": "code",
   "execution_count": null,
   "metadata": {},
   "outputs": [],
   "source": []
  }
 ],
 "metadata": {
  "kernelspec": {
   "display_name": "Python 3 (ipykernel)",
   "language": "python",
   "name": "python3"
  },
  "language_info": {
   "codemirror_mode": {
    "name": "ipython",
    "version": 3
   },
   "file_extension": ".py",
   "mimetype": "text/x-python",
   "name": "python",
   "nbconvert_exporter": "python",
   "pygments_lexer": "ipython3",
   "version": "3.9.12"
  }
 },
 "nbformat": 4,
 "nbformat_minor": 2
}
