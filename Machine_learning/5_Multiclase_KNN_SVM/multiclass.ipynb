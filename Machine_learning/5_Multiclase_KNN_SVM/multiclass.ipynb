{
 "cells": [
  {
   "cell_type": "markdown",
   "metadata": {},
   "source": [
    "# Multi‐class classification"
   ]
  },
  {
   "cell_type": "markdown",
   "metadata": {},
   "source": [
    "Multiclass classification, for some aspects, is very simple. There are some interesting issues in multiclass classification that are the stepping stone to more advanced topics in machine learning, such as structure predictions. So far we have been talking about binary classification. We talked about algorithms for\n",
    "linear models where the prediction is simple. Given an example $x$, the output is a single bit predicted by the sign of $\\theta^T x$, where $\\theta$ is the learned linear model.\n",
    "\n",
    "In many models, more expressive outputs are concerned, such as the multiclass classification task."
   ]
  },
  {
   "cell_type": "markdown",
   "metadata": {},
   "source": [
    "Given a data set $D = \\{x_i , y_i \\}^m _1$ , where $x_i \\in R^n$ , $y_i \\in \\{0, 2, ..., n\\}$, the task of\n",
    "multiclass classification is to learn a model that outputs a single class label $y$ given an example $x$."
   ]
  },
  {
   "cell_type": "markdown",
   "metadata": {},
   "source": [
    "### Using a binary classifier as a black box, can we reduce the task of multiclass classification to the binary case? ###"
   ]
  },
  {
   "cell_type": "markdown",
   "metadata": {},
   "source": [
    "## One-versus-all##"
   ]
  },
  {
   "cell_type": "markdown",
   "metadata": {},
   "source": [
    "Let’s assume that our black-box algorithm is a linear classifier, and each class can be separated from all the rest labels. If we do this, we are basically decomposing the task to learning $n$ independent binary classifiers, and we know how to do this."
   ]
  },
  {
   "cell_type": "markdown",
   "metadata": {},
   "source": [
    "\n",
    "<img src=\"img_multiclass/img1.png\" width=\"150\" align=\"left\" > \n",
    "\n",
    "\n",
    "<img src=\"img_multiclass/img2.png\" width=\"500\">\n"
   ]
  },
  {
   "cell_type": "markdown",
   "metadata": {},
   "source": [
    "The only caveat is that when some points with a certain label are not linearly separable from the other, like shown in the figure below, this scheme cannot be used. Basically, we are concerned about the expressivity of this paradigm. It is not always possible to learn, because it is not always separable in the way we want. Even though it works well and is the commonly used method, there is no theoretical justification for it."
   ]
  },
  {
   "cell_type": "markdown",
   "metadata": {},
   "source": [
    "<img src=\"img_multiclass/img3.png\" width=\"300\">\n",
    "Red points are not linearly separable from other points\n"
   ]
  },
  {
   "cell_type": "code",
   "execution_count": 1,
   "metadata": {},
   "outputs": [],
   "source": [
    "import numpy as np\n",
    "import matplotlib.pyplot       as plt\n",
    "from sklearn.linear_model import LogisticRegression\n",
    "\n",
    "%matplotlib inline"
   ]
  },
  {
   "cell_type": "code",
   "execution_count": 2,
   "metadata": {},
   "outputs": [],
   "source": [
    "def createData(N=[500,500,500]):\n",
    "    #generar puntos de forma artificial \n",
    "    #definir valor medio y desviacion\n",
    "    mvalues=np.array([[0.7,3],[3,0.3],[4,4]])\n",
    "    std = [0.8,0.6,0.4]\n",
    "    X=np.array([])\n",
    "    Y=np.array([])\n",
    "\n",
    "    for ii in range(len(N)):\n",
    "        x= std[ii]*np.random.randn(N[ii],2)+mvalues[ii]\n",
    "        if ii==0:\n",
    "            X= x\n",
    "        else:\n",
    "            X=np.vstack((X,x))\n",
    "        y=np.ones(N[ii])*ii; \n",
    "        Y= np.append(Y,y)\n",
    "    \n",
    "    Y=Y.astype(int)    \n",
    "\n",
    "    return X,Y"
   ]
  },
  {
   "cell_type": "code",
   "execution_count": 3,
   "metadata": {},
   "outputs": [
    {
     "data": {
      "image/png": "[encoded data removed]",
      "text/plain": [
       "<Figure size 432x288 with 1 Axes>"
      ]
     },
     "metadata": {
      "needs_background": "light"
     },
     "output_type": "display_data"
    }
   ],
   "source": [
    "X,Y=createData()\n",
    "#graficar\n",
    "labels=np.unique(Y)\n",
    "\n",
    "color='rbkg'\n",
    "for ii in labels:\n",
    "        key = 'o'+color[ii]  \n",
    "        plt.plot(X[Y==ii,0],X[Y==ii,1],key)"
   ]
  },
  {
   "cell_type": "code",
   "execution_count": 4,
   "metadata": {},
   "outputs": [
    {
     "data": {
      "text/plain": [
       "array([[0.4565457 , 1.91841256],\n",
       "       [1.2726005 , 3.08553039],\n",
       "       [0.65994512, 3.15311774],\n",
       "       ...,\n",
       "       [4.05389884, 4.13035216],\n",
       "       [3.61133456, 4.02557153],\n",
       "       [3.84215897, 4.96048889]])"
      ]
     },
     "execution_count": 4,
     "metadata": {},
     "output_type": "execute_result"
    }
   ],
   "source": [
    "X"
   ]
  },
  {
   "cell_type": "code",
   "execution_count": 4,
   "metadata": {},
   "outputs": [
    {
     "data": {
      "text/plain": [
       "[<matplotlib.lines.Line2D at 0x1fd0c50dca0>]"
      ]
     },
     "execution_count": 4,
     "metadata": {},
     "output_type": "execute_result"
    },
    {
     "data": {
      "image/png": "[encoded data removed]",
      "text/plain": [
       "<Figure size 432x288 with 1 Axes>"
      ]
     },
     "metadata": {
      "needs_background": "light"
     },
     "output_type": "display_data"
    }
   ],
   "source": [
    "plt.plot(Y)"
   ]
  },
  {
   "cell_type": "markdown",
   "metadata": {},
   "source": [
    "## Lets create one classifier to separate Class 0 from the others"
   ]
  },
  {
   "cell_type": "code",
   "execution_count": 5,
   "metadata": {},
   "outputs": [
    {
     "data": {
      "text/plain": [
       "array([ True,  True,  True, ..., False, False, False])"
      ]
     },
     "execution_count": 5,
     "metadata": {},
     "output_type": "execute_result"
    }
   ],
   "source": [
    "########################\n",
    "Y0=Y==0\n",
    "Y0"
   ]
  },
  {
   "cell_type": "code",
   "execution_count": 6,
   "metadata": {
    "scrolled": true
   },
   "outputs": [
    {
     "data": {
      "image/png": "[encoded data removed]",
      "text/plain": [
       "<Figure size 432x288 with 1 Axes>"
      ]
     },
     "metadata": {
      "needs_background": "light"
     },
     "output_type": "display_data"
    }
   ],
   "source": [
    "#create the classifier\n",
    "clf0 = LogisticRegression(solver='lbfgs')\n",
    "#Train the classifier\n",
    "clf0.fit(X,Y0)\n",
    "\n",
    "#show the results\n",
    "#Plot parameters\n",
    "theta0=clf0.intercept_ \n",
    "theta =clf0.coef_\n",
    "xx = np.linspace(0, 5, 100)\n",
    "yy=(-theta[0][0]*xx-theta0)/theta[0][1]\n",
    "plt.plot(xx,yy,'k',linewidth=1.5)\n",
    "labels=np.unique(Y0).astype(int)\n",
    "for ii in labels:\n",
    "        key = 'o'+color[ii]  \n",
    "        plt.plot(X[Y0==ii,0],X[Y0==ii,1],key)"
   ]
  },
  {
   "cell_type": "markdown",
   "metadata": {},
   "source": [
    "## Lets create one classifier to separate Class 1 from the others"
   ]
  },
  {
   "cell_type": "code",
   "execution_count": 7,
   "metadata": {},
   "outputs": [
    {
     "data": {
      "text/plain": [
       "array([False, False, False, ..., False, False, False])"
      ]
     },
     "execution_count": 7,
     "metadata": {},
     "output_type": "execute_result"
    }
   ],
   "source": [
    "########################\n",
    "Y1=Y==1\n",
    "Y1"
   ]
  },
  {
   "cell_type": "code",
   "execution_count": 8,
   "metadata": {},
   "outputs": [
    {
     "data": {
      "image/png": "[encoded data removed]",
      "text/plain": [
       "<Figure size 432x288 with 1 Axes>"
      ]
     },
     "metadata": {
      "needs_background": "light"
     },
     "output_type": "display_data"
    }
   ],
   "source": [
    "#create the classifier\n",
    "clf1 = LogisticRegression(solver='lbfgs')\n",
    "#Train the classifier\n",
    "clf1.fit(X,Y1)\n",
    "\n",
    "#show the results\n",
    "#Plot parameters\n",
    "theta0=clf1.intercept_ \n",
    "theta =clf1.coef_\n",
    "xx = np.linspace(0, 5, 100)\n",
    "yy=(-theta[0][0]*xx-theta0)/theta[0][1]\n",
    "plt.plot(xx,yy,'k',linewidth=1.5)\n",
    "labels=np.unique(Y1).astype(int)\n",
    "for ii in labels:\n",
    "        key = 'o'+color[ii]  \n",
    "        plt.plot(X[Y1==ii,0],X[Y1==ii,1],key)"
   ]
  },
  {
   "cell_type": "markdown",
   "metadata": {},
   "source": [
    "## Lets create one classifier to separate Class 2 from the others"
   ]
  },
  {
   "cell_type": "code",
   "execution_count": 9,
   "metadata": {},
   "outputs": [
    {
     "data": {
      "text/plain": [
       "array([False, False, False, ...,  True,  True,  True])"
      ]
     },
     "execution_count": 9,
     "metadata": {},
     "output_type": "execute_result"
    }
   ],
   "source": [
    "########################\n",
    "Y2=Y==2\n",
    "Y2"
   ]
  },
  {
   "cell_type": "code",
   "execution_count": 14,
   "metadata": {},
   "outputs": [
    {
     "data": {
      "image/png": "[encoded data removed]",
      "text/plain": [
       "<Figure size 432x288 with 1 Axes>"
      ]
     },
     "metadata": {
      "needs_background": "light"
     },
     "output_type": "display_data"
    }
   ],
   "source": [
    "#create the classifier\n",
    "clf2 = LogisticRegression(solver='lbfgs')\n",
    "#Train the classifier\n",
    "clf2.fit(X,Y2)\n",
    "\n",
    "#show the results\n",
    "#Plot parameters\n",
    "theta0=clf2.intercept_ \n",
    "theta =clf2.coef_\n",
    "xx = np.linspace(0, 5, 100)\n",
    "yy=(-theta[0][0]*xx-theta0)/theta[0][1]\n",
    "plt.plot(xx,yy,'k',linewidth=1.5)\n",
    "labels=np.unique(Y0).astype(int)\n",
    "for ii in labels:\n",
    "        key = 'o'+color[ii]  \n",
    "        plt.plot(X[Y2==ii,0],X[Y2==ii,1],key)"
   ]
  },
  {
   "cell_type": "code",
   "execution_count": 15,
   "metadata": {},
   "outputs": [],
   "source": [
    "CLF = [clf0,clf1,clf2]"
   ]
  },
  {
   "cell_type": "markdown",
   "metadata": {},
   "source": [
    "### Let's try the classifiers with the data"
   ]
  },
  {
   "cell_type": "code",
   "execution_count": 16,
   "metadata": {},
   "outputs": [],
   "source": [
    "#validar 3 clasificadores\n",
    "probs=np.zeros((Y.size,3))\n",
    "\n",
    "for i in np.unique(Y):\n",
    "    p_i=CLF[i].predict_log_proba(X)\n",
    "    probs[:,i]=p_i[:,1]\n",
    "    "
   ]
  },
  {
   "cell_type": "code",
   "execution_count": 15,
   "metadata": {},
   "outputs": [
    {
     "data": {
      "text/plain": [
       "array([[-4.36833884e-04, -9.47059333e+00, -9.74562737e+00],\n",
       "       [-5.07647204e-06, -1.33843313e+01, -1.10268914e+01],\n",
       "       [-1.14325073e-04, -1.28890228e+01, -7.29743254e+00],\n",
       "       ...,\n",
       "       [-3.96966748e+00, -9.56511489e+00, -1.20424989e-03],\n",
       "       [-7.12791052e+00, -5.53851191e+00, -2.31679841e-03],\n",
       "       [-4.74086778e+00, -6.55485969e+00, -1.80605634e-02]])"
      ]
     },
     "execution_count": 15,
     "metadata": {},
     "output_type": "execute_result"
    }
   ],
   "source": [
    "probs"
   ]
  },
  {
   "cell_type": "code",
   "execution_count": 22,
   "metadata": {},
   "outputs": [
    {
     "name": "stdout",
     "output_type": "stream",
     "text": [
      "[[-4.66553426e-03 -2.82648919e+00 -1.46520531e+01]]\n",
      "Clase real:  0\n",
      "-0.0046655342608435384\n",
      "Predicción:  [0]\n"
     ]
    }
   ],
   "source": [
    "x=X[0]\n",
    "probs=np.zeros((1,3))\n",
    "for i in np.unique(Y):\n",
    "    p_i=CLF[i].predict_log_proba(x.reshape(1, -1))\n",
    "    probs[:,i]=p_i[:,1]\n",
    "    \n",
    "print(probs)  \n",
    "print('Clase real: ',Y[0])\n",
    "print(np.max(probs))\n",
    "print('Predicción: ',np.argmax(probs,1))"
   ]
  },
  {
   "cell_type": "markdown",
   "metadata": {},
   "source": [
    "## It is necesary to find the column where log_prob has the maximum value per row"
   ]
  },
  {
   "cell_type": "code",
   "execution_count": 14,
   "metadata": {},
   "outputs": [
    {
     "name": "stdout",
     "output_type": "stream",
     "text": [
      "99.53333333333333\n"
     ]
    }
   ],
   "source": [
    "Y_pred=np.argmax(probs,1)\n",
    "Y_pred\n",
    "acc = np.sum(Y==Y_pred)/Y.size*100\n",
    "print(acc)"
   ]
  },
  {
   "cell_type": "markdown",
   "metadata": {},
   "source": [
    "Let's measure the error"
   ]
  },
  {
   "cell_type": "code",
   "execution_count": 10,
   "metadata": {},
   "outputs": [
    {
     "data": {
      "text/plain": [
       "70.0"
      ]
     },
     "execution_count": 10,
     "metadata": {},
     "output_type": "execute_result"
    }
   ],
   "source": [
    "y =np.array([1,1,1,1,2,2,2,3,3,3])\n",
    "yp=np.array([1,2,1,1,1,2,2,2,3,3])\n",
    "\n",
    "aciertos = np.sum(y==yp)\n",
    "aciertos/y.size*100"
   ]
  },
  {
   "cell_type": "markdown",
   "metadata": {},
   "source": [
    "### In a more realistic scenario, we have two sets, a training set to estimate all the parameters and adjust the classifier and a testing set, to evaluate how good is the classifier"
   ]
  },
  {
   "cell_type": "markdown",
   "metadata": {},
   "source": [
    "Let's create these two sets"
   ]
  },
  {
   "cell_type": "code",
   "execution_count": 25,
   "metadata": {},
   "outputs": [],
   "source": [
    "#Take 100 samples per class\n",
    "#first separate each class in a different matrix\n",
    "C0=X[(Y==0),:]\n",
    "C1=X[(Y==1),:]\n",
    "C2=X[(Y==2),:]\n",
    "LB0=Y[(Y==0)]\n",
    "LB1=Y[(Y==1)]\n",
    "LB2=Y[(Y==2)]\n",
    "#Put toguether all training samples\n",
    "X_train=np.vstack((C0[100:] ,C1[100:],C2[100:]))\n",
    "Y_train=np.hstack((LB0[100:] ,LB1[100:],LB2[100:]))\n",
    "\n",
    "#Put toguether all testing samples\n",
    "X_test=np.vstack((C0[:100] ,C1[:100],C2[:100]))\n",
    "Y_test=np.hstack((LB0[:100] ,LB1[:100],LB2[:100]))\n",
    "\n"
   ]
  },
  {
   "cell_type": "code",
   "execution_count": 28,
   "metadata": {},
   "outputs": [
    {
     "data": {
      "text/plain": [
       "(300, 2)"
      ]
     },
     "execution_count": 28,
     "metadata": {},
     "output_type": "execute_result"
    }
   ],
   "source": [
    "X_test.shape"
   ]
  },
  {
   "cell_type": "markdown",
   "metadata": {},
   "source": [
    "Doing all the previous process again"
   ]
  },
  {
   "cell_type": "code",
   "execution_count": 31,
   "metadata": {},
   "outputs": [],
   "source": [
    "####\n",
    "CLFs = [LogisticRegression(solver='lbfgs'), LogisticRegression(solver='lbfgs'),\n",
    "LogisticRegression(solver='lbfgs')]\n",
    "\n",
    "#C=[LogisticRegression(solver='lbfgs') for i in range(200)]\n",
    "#entrenar n clasificadores\n",
    "for i in np.unique(Y):\n",
    "    Y_i=Y_train==i\n",
    "    CLFs[i].fit(X_train,Y_i)\n",
    "\n",
    "\n",
    "\n",
    "#validar n clasificadores\n",
    "probs=np.zeros((Y_test.size,3))\n",
    "for i in np.unique(Y):\n",
    "    p_i=CLFs[i].predict_log_proba(X_test)\n",
    "    probs[:,i]=p_i[:,1]\n",
    "    \n",
    "    \n",
    "Y_pred2=np.argmax(probs,1)\n",
    "\n",
    "por2=(Y_test==Y_pred2).sum()/Y_test.size*100"
   ]
  },
  {
   "cell_type": "code",
   "execution_count": 32,
   "metadata": {
    "scrolled": true
   },
   "outputs": [
    {
     "data": {
      "text/plain": [
       "99.66666666666667"
      ]
     },
     "execution_count": 32,
     "metadata": {},
     "output_type": "execute_result"
    }
   ],
   "source": [
    "por2"
   ]
  },
  {
   "cell_type": "markdown",
   "metadata": {},
   "source": [
    "# Multi‐class classification: ##\n",
    "## One-vs‐all\n",
    "\n",
    "### Example with MNIST:\n",
    "database of handwritten digits, available from\n",
    "this page, has a training set of 60,000 examples, and a test set of 10,000\n",
    "examples. The digits have been size-normalized and centered in a fixed-size\n",
    "28x28 image."
   ]
  },
  {
   "cell_type": "code",
   "execution_count": 12,
   "metadata": {},
   "outputs": [
    {
     "name": "stdout",
     "output_type": "stream",
     "text": [
      "Collecting mlxtend\n",
      "  Downloading mlxtend-0.20.0-py2.py3-none-any.whl (1.3 MB)\n",
      "Requirement already satisfied: scikit-learn>=1.0.2 in c:\\users\\sarria\\anaconda3\\lib\\site-packages (from mlxtend) (1.0.2)\n",
      "Requirement already satisfied: setuptools in c:\\users\\sarria\\anaconda3\\lib\\site-packages (from mlxtend) (61.2.0)\n",
      "Requirement already satisfied: pandas>=0.24.2 in c:\\users\\sarria\\anaconda3\\lib\\site-packages (from mlxtend) (1.4.2)\n",
      "Requirement already satisfied: numpy>=1.16.2 in c:\\users\\sarria\\anaconda3\\lib\\site-packages (from mlxtend) (1.21.5)\n",
      "Requirement already satisfied: joblib>=0.13.2 in c:\\users\\sarria\\anaconda3\\lib\\site-packages (from mlxtend) (1.1.0)\n",
      "Requirement already satisfied: scipy>=1.2.1 in c:\\users\\sarria\\anaconda3\\lib\\site-packages (from mlxtend) (1.7.3)\n",
      "Requirement already satisfied: matplotlib>=3.0.0 in c:\\users\\sarria\\anaconda3\\lib\\site-packages (from mlxtend) (3.5.1)\n",
      "Requirement already satisfied: fonttools>=4.22.0 in c:\\users\\sarria\\anaconda3\\lib\\site-packages (from matplotlib>=3.0.0->mlxtend) (4.25.0)\n",
      "Requirement already satisfied: kiwisolver>=1.0.1 in c:\\users\\sarria\\anaconda3\\lib\\site-packages (from matplotlib>=3.0.0->mlxtend) (1.3.2)\n",
      "Requirement already satisfied: pyparsing>=2.2.1 in c:\\users\\sarria\\anaconda3\\lib\\site-packages (from matplotlib>=3.0.0->mlxtend) (3.0.4)\n",
      "Requirement already satisfied: python-dateutil>=2.7 in c:\\users\\sarria\\anaconda3\\lib\\site-packages (from matplotlib>=3.0.0->mlxtend) (2.8.2)\n",
      "Requirement already satisfied: packaging>=20.0 in c:\\users\\sarria\\anaconda3\\lib\\site-packages (from matplotlib>=3.0.0->mlxtend) (21.3)\n",
      "Requirement already satisfied: cycler>=0.10 in c:\\users\\sarria\\anaconda3\\lib\\site-packages (from matplotlib>=3.0.0->mlxtend) (0.11.0)\n",
      "Requirement already satisfied: pillow>=6.2.0 in c:\\users\\sarria\\anaconda3\\lib\\site-packages (from matplotlib>=3.0.0->mlxtend) (9.0.1)\n",
      "Requirement already satisfied: pytz>=2020.1 in c:\\users\\sarria\\anaconda3\\lib\\site-packages (from pandas>=0.24.2->mlxtend) (2021.3)\n",
      "Requirement already satisfied: six>=1.5 in c:\\users\\sarria\\anaconda3\\lib\\site-packages (from python-dateutil>=2.7->matplotlib>=3.0.0->mlxtend) (1.16.0)\n",
      "Requirement already satisfied: threadpoolctl>=2.0.0 in c:\\users\\sarria\\anaconda3\\lib\\site-packages (from scikit-learn>=1.0.2->mlxtend) (2.2.0)\n",
      "Installing collected packages: mlxtend\n",
      "Successfully installed mlxtend-0.20.0\n"
     ]
    }
   ],
   "source": [
    "!pip install mlxtend"
   ]
  },
  {
   "cell_type": "code",
   "execution_count": 23,
   "metadata": {
    "scrolled": true
   },
   "outputs": [
    {
     "name": "stdout",
     "output_type": "stream",
     "text": [
      "Training set dimensions: 60000 x 784\n",
      "Test set dimensions: 10000 x 784\n",
      "5\n"
     ]
    },
    {
     "data": {
      "image/png": "[encoded data removed]",
      "text/plain": [
       "<Figure size 432x288 with 1 Axes>"
      ]
     },
     "metadata": {
      "needs_background": "light"
     },
     "output_type": "display_data"
    }
   ],
   "source": [
    "from mlxtend.data import loadlocal_mnist\n",
    "\n",
    "X_train, y_train = loadlocal_mnist(\n",
    "        images_path='MNIST/train-images-idx3-ubyte', \n",
    "        labels_path='MNIST/train-labels-idx1-ubyte')\n",
    "\n",
    "X_test, y_test = loadlocal_mnist(\n",
    "        images_path='MNIST/t10k-images-idx3-ubyte', \n",
    "        labels_path='MNIST/t10k-labels-idx1-ubyte')\n",
    "        \n",
    "print('Training set dimensions: %s x %s' % (X_train.shape[0],X_train.shape[1]))\n",
    "print('Test set dimensions: %s x %s' % (X_test.shape[0], X_test.shape[1]))\n",
    "\n",
    "dim1=28\n",
    "dim2=28     \n",
    "image = X_train[2000].reshape((28,28))\n",
    "print(y_train[2000])\n",
    "plt.imshow(image,cmap=\"gray\");\n"
   ]
  },
  {
   "cell_type": "code",
   "execution_count": 24,
   "metadata": {},
   "outputs": [
    {
     "name": "stdout",
     "output_type": "stream",
     "text": [
      "[INFO] Normalize data .... \n",
      "[INFO] Done \n"
     ]
    }
   ],
   "source": [
    "from process import *\n",
    "#load data\n",
    "print('[INFO] Normalize data .... ')\n",
    "#dividir entre 255\n",
    "X1=X_train/255\n",
    "X2=X_test/255        \n",
    "#definir el algoritmo para procesar imagenes\n",
    "#normalizer = whiten()\n",
    "normalizer = zca()\n",
    "\n",
    "#entrenar el algoritmo de normalizar\n",
    "normalizer.fit(X1)\n",
    "\n",
    "#aplicar a los dos conjuntos\n",
    "X1 = normalizer.transform(X1)\n",
    "X2 = normalizer.transform(X2)\n",
    "\n",
    "print('[INFO] Done ')\n"
   ]
  },
  {
   "cell_type": "code",
   "execution_count": 26,
   "metadata": {},
   "outputs": [
    {
     "name": "stdout",
     "output_type": "stream",
     "text": [
      "5\n"
     ]
    },
    {
     "data": {
      "image/png": "[encoded data removed]",
      "text/plain": [
       "<Figure size 432x288 with 1 Axes>"
      ]
     },
     "metadata": {
      "needs_background": "light"
     },
     "output_type": "display_data"
    }
   ],
   "source": [
    "dim1=28\n",
    "dim2=28     \n",
    "image = X1[2000].reshape((28,28))\n",
    "print(y_train[2000])\n",
    "plt.imshow(image,cmap=\"gray\");"
   ]
  },
  {
   "cell_type": "code",
   "execution_count": 6,
   "metadata": {},
   "outputs": [
    {
     "name": "stdout",
     "output_type": "stream",
     "text": [
      "Train classifier: logistic regression using ZCA\n",
      "Tiempo total entrenamiento: 737.5360836982727 segundos\n",
      "LogisticRegression score: 91.920000\n",
      "Tiempo total evaluando: 0.045879364013671875 segundos\n"
     ]
    }
   ],
   "source": [
    "import time\n",
    "#aplicar el clasificador usando ZCA para procesar las imagenes\n",
    "\n",
    "print('Train classifier: logistic regression using ZCA')\n",
    "clf = LogisticRegression(max_iter=1000, multi_class='ovr', solver='liblinear')\n",
    "#entrenar\n",
    "\n",
    "start = time.time()#inicar medida del tiempo\n",
    "clf.fit(X1, y_train)\n",
    "end = time.time() #tomar el tiempo final\n",
    "#tomar el tiempo para entrenar clasificador\n",
    "total=end - start\n",
    "print('Tiempo total entrenamiento: ' + str(total) + ' segundos')\n",
    "\n",
    "#evaluar\n",
    "start = time.time()#inicar medida del tiempo\n",
    "score = clf.score(X2, y_test)*100\n",
    "end = time.time() #tomar el tiempo final\n",
    "\n",
    "print('LogisticRegression score: %f'% score)\n",
    "#tomar el tiempo para evaluar clasificador\n",
    "total=end - start\n",
    "print('Tiempo total evaluando: ' + str(total) + ' segundos')\n"
   ]
  },
  {
   "cell_type": "code",
   "execution_count": 7,
   "metadata": {},
   "outputs": [
    {
     "name": "stdout",
     "output_type": "stream",
     "text": [
      "Train classifier: logistic regression with raw data\n",
      "Tiempo total entrenamiento: 7808.546591520309 segundos\n",
      "LogisticRegression score: 91.820000\n",
      "Tiempo total evaluando: 0.05663132667541504 segundos\n"
     ]
    }
   ],
   "source": [
    "#aplicar el clasificador sin ningun tipo de proceso, usando las imagenes directamente\n",
    "print('Train classifier: logistic regression with raw data')\n",
    "clf = LogisticRegression(max_iter=1000, multi_class='ovr', solver='liblinear')\n",
    "#entrenar\n",
    "\n",
    "start = time.time()#inicar medida del tiempo\n",
    "clf.fit(X_train, y_train)\n",
    "end = time.time() #tomar el tiempo final\n",
    "#tomar el tiempo para entrenar clasificador\n",
    "total=end - start\n",
    "print('Tiempo total entrenamiento: ' + str(total) + ' segundos')\n",
    "\n",
    "#evaluar\n",
    "start = time.time()#inicar medida del tiempo\n",
    "score = clf.score(X_test, y_test)*100\n",
    "end = time.time() #tomar el tiempo final\n",
    "\n",
    "print('LogisticRegression score: %f'% score)\n",
    "#tomar el tiempo para evaluar clasificador\n",
    "total=end - start\n",
    "print('Tiempo total evaluando: ' + str(total) + ' segundos')\n"
   ]
  },
  {
   "cell_type": "code",
   "execution_count": 11,
   "metadata": {},
   "outputs": [
    {
     "name": "stdout",
     "output_type": "stream",
     "text": [
      "Tiempo total entrenamiento: 7.523693323135376 segundos\n",
      "Tiempo total evaluando: 1075.4904870986938 segundos\n",
      "KNN score: 0.919300\n"
     ]
    }
   ],
   "source": [
    "from sklearn.neighbors import KNeighborsClassifier\n",
    "\n",
    "#logistic = LogisticRegression(max_iter=1000, multi_class='ovr', solver='liblinear')\n",
    "knn = KNeighborsClassifier(n_neighbors=3)\n",
    "\n",
    "\n",
    "#train \n",
    "start = time.time()#inicar medida del tiempo\n",
    "knn.fit(X1, y_train)\n",
    "end = time.time() #tomar el tiempo final\n",
    "total=end - start\n",
    "\n",
    "print('Tiempo total entrenamiento: ' + str(total) + ' segundos')\n",
    "\n",
    "start = time.time()#inicar medida del tiempo\n",
    "score= knn.score(X2, y_test)\n",
    "end = time.time() #tomar el tiempo final\n",
    "total=end - start\n",
    "\n",
    "print('Tiempo total evaluando: ' + str(total) + ' segundos')\n",
    "\n",
    "\n",
    "print('KNN score: %f' % score*100)\n",
    "\n"
   ]
  }
 ],
 "metadata": {
  "kernelspec": {
   "display_name": "Python 3 (ipykernel)",
   "language": "python",
   "name": "python3"
  },
  "language_info": {
   "codemirror_mode": {
    "name": "ipython",
    "version": 3
   },
   "file_extension": ".py",
   "mimetype": "text/x-python",
   "name": "python",
   "nbconvert_exporter": "python",
   "pygments_lexer": "ipython3",
   "version": "3.9.12"
  }
 },
 "nbformat": 4,
 "nbformat_minor": 4
}
