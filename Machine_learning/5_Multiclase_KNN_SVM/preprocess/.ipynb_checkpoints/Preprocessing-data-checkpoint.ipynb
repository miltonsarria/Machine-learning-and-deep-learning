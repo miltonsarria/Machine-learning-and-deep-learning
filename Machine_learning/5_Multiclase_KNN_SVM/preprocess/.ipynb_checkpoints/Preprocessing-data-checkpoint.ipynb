{
 "cells": [
  {
   "cell_type": "code",
   "execution_count": 1,
   "metadata": {
    "hideCode": false,
    "hidePrompt": false
   },
   "outputs": [],
   "source": [
    "import numpy as np\n",
    "import matplotlib.pyplot as plt\n",
    "import seaborn as sns"
   ]
  },
  {
   "cell_type": "code",
   "execution_count": 2,
   "metadata": {
    "hideCode": false,
    "hidePrompt": false
   },
   "outputs": [],
   "source": [
    "plt.style.use('ggplot')\n",
    "plt.rcParams['axes.facecolor']='w'\n",
    "plt.rcParams['axes.edgecolor'] = '#D6D6D6'\n",
    "plt.rcParams['axes.linewidth'] = 2"
   ]
  },
  {
   "cell_type": "markdown",
   "metadata": {
    "hideCode": false,
    "hidePrompt": false
   },
   "source": [
    "`\n",
    "\n",
    "pip install seaborn\n",
    "\n",
    "conda install seaborn\n",
    "\n",
    "`"
   ]
  },
  {
   "cell_type": "markdown",
   "metadata": {
    "hideCode": false,
    "hidePrompt": false
   },
   "source": [
    "# Preprocessing for Machine learning\n",
    "\n",
    "\n",
    "We will start with basic but very useful concepts in data science and machine learning/deep learning like variance and covariance matrix and we will go further to some preprocessing techniques used to feed images into neural networks. We will try to get more concrete insights using code to actually see what each equation is doing.\n",
    "\n",
    "We call preprocessing all transformations on the raw data before it is fed to the machine learning algorithm. For instance, training a convolutional neural network on raw images will probably lead to bad classification performances ([Pal & Sudeep, 2016](https://ieeexplore.ieee.org/document/7808140/)). The preprocessing is also important to speed up training (for instance, centering and scaling techniques, see [Lecun et al., 2012; see 4.3](http://yann.lecun.com/exdb/publis/pdf/lecun-98b.pdf)).\n",
    "\n",
    "\n",
    "\n",
    "1. **Background**: In the first part, we will get some reminders about variance and covariance and see how to generate and plot fake data to get a better understanding of these concepts.\n",
    "\n",
    "2. **Preprocessing**: In the second part, we will see the basics of some preprocessing techniques that can be applied to any kind of data: mean normalization, standardisation and whitening.\n",
    "\n",
    "3. **Whitening images**: In the third part, we will use the tools and concepts gained in 1. and 2. to do a special kind of whitening called Zero Component Analysis (ZCA). It can be used to preprocess images. !\n"
   ]
  },
  {
   "cell_type": "markdown",
   "metadata": {
    "hideCode": false,
    "hidePrompt": false
   },
   "source": [
    "# 1. Background\n",
    "\n",
    "## A. Variance and covariance\n",
    "\n",
    "The variance of a variable describes how much the values are spread. The covariance is a measure that tells the amount of dependency between two variables. A positive covariance means that values of the first variable are large when values of the second variables are also large. A negative covariance means the opposite: large values from one variable are associated with small values of the other. The covariance value depends on the scale of the variable so it is hard to analyse it. It is possible to use the correlation coefficient that is easier to interpret. It is just the covariance normalized.\n",
    "\n",
    "<img src=\"images/negative-and-positive-covariance.png\" width=\"500\" alt=\"Intuition about the covariance between two variables\" title=\"Representation of the covariance between two variables.\">\n",
    "<em>A positive covariance means that large values of one variable are associated with big values from the other (left). A negative covariance means that large values of one variable are associated with small values of the other one (right).</em>\n",
    "\n",
    "The covariance matrix is a matrix that summarizes the variances and covariances of a set of vectors and it can tell a lot of things about your variables. The diagonal corresponds to the variance of each vector:\n",
    "\n",
    "<img src=\"images/covariance1.png\" width=\"400\" alt=\"Variance in the matrix of covariance\" title=\"Variance in the matrix of covariance is on the diagonal\">\n",
    "<em>A matrix $\\boldsymbol{A}$ and its matrix of covariance. The diagonal corresponds to the variance of each column vector.</em>\n",
    "\n",
    "Let's just check with the formula of the variance:\n",
    "\n",
    "$$\n",
    "V(\\boldsymbol{X}) = \\frac{1}{n}\\sum_{i=1}^{n}(x_i-\\bar{x})^2\n",
    "$$\n",
    "\n",
    "with $n$ the length of the vector, and $\\bar{x}$ the mean of the vector. For instance, the variance of the first column vector of $\\boldsymbol{A}$ is:\n",
    "\n",
    "$$\n",
    "V(\\boldsymbol{A}_{:,1}) = \\frac{(1-3)^2+(5-3)^2+(3-3)^2}{3} = 2.67\n",
    "$$"
   ]
  },
  {
   "cell_type": "markdown",
   "metadata": {
    "hideCode": false,
    "hidePrompt": false
   },
   "source": [
    "This is the first cell of our covariance matrix. The second element on the diagonal corresponds of the variance of the second column vector from $\\boldsymbol{A}$ and so on.\n",
    "\n",
    "*Note*: the vectors extracted from the matrix $\\boldsymbol{A}$ correspond to the columns of $\\boldsymbol{A}$.\n",
    "\n",
    "The other cells correspond to the covariance between two column vectors from $\\boldsymbol{A}$. For instance, the covariance between the first and the third column is located in the covariance matrix as the column 1 and the row 3 (or the column 3 and the row 1).\n",
    "\n",
    "<img src=\"images/covariance2.png\" width=\"400\" alt=\"Covariance in the matrix of covariance\" title=\"The position in the covariance matrix.\">\n",
    "<em>The position in the covariance matrix. Column corresponds to the first variable and row to the second (or the opposite). The covariance between the first and the third column vector of $\\boldsymbol{A}$ is the element in column 1 and row 3 (or the opposite = same value).</em>\n"
   ]
  },
  {
   "cell_type": "markdown",
   "metadata": {
    "hideCode": false,
    "hidePrompt": false
   },
   "source": [
    "Let's check that the covariance between the first and the third column vector of $\\boldsymbol{A}$ is equal to $-2.67$. The formula of the covariance between two variables $\\boldsymbol{X}$ and $\\boldsymbol{Y}$ is:\n",
    "\n",
    "$$\n",
    "cov(\\boldsymbol{X},\\boldsymbol{Y}) = \\frac{1}{n} \\sum_{i=1}^{n}(x_i-\\bar{x})(y_i-\\bar{y})\n",
    "$$\n",
    "\n",
    "The variables $\\boldsymbol{X}$ and $\\boldsymbol{Y}$ are the first and the third column vectors in the last example. Let's split this formula:\n",
    "\n",
    "1. $(x_1-\\bar{x})$. The sum symbol means that we will iterate on the elements of the vectors. We will start with the first element ($i=1$) and calculate the first element of $\\bs{X}$ minus the mean of the vector $\\bs{X}$.\n",
    "2. $(x_1-\\bar{x})(y_1-\\bar{y})$. Multiply the result with the first element of $\\bs{Y}$ minus the mean of the vector $\\bs{Y}$.\n",
    "3. $\\sum_{i=1}^{n}(x_i-\\bar{x})(y_i-\\bar{y})$. Reiterate the process for each element of the vectors and calculate the sum of all results.\n",
    "4. $\\frac{1}{n} \\sum_{i=1}^{n}(x_i-\\bar{x})(y_i-\\bar{y})$. Divide by the number of elements in the vector.\n",
    "\n",
    "\n",
    "#### Example 1.\n",
    "\n",
    "Let's start with the matrix $\\boldsymbol{A}$:\n",
    "\n",
    "$$\n",
    "\\boldsymbol{A}=\n",
    "\\begin{bmatrix}\n",
    "    1 & 3 & 5\\\\\\\\\n",
    "    5 & 4 & 1\\\\\\\\\n",
    "    3 & 8 & 6\n",
    "\\end{bmatrix}\n",
    "$$\n",
    "\n",
    "We will calculate the covariance between the first and the third column vectors:\n",
    "\n",
    "$$\n",
    "\\boldsymbol{X} = \\begin{bmatrix}\n",
    "    1\\\\\\\\\n",
    "    5\\\\\\\\\n",
    "    3\n",
    "\\end{bmatrix}\n",
    "$$\n",
    "\n",
    "and\n",
    "\n",
    "$$\\boldsymbol{Y} = \\begin{bmatrix}\n",
    "    5\\\\\\\\\n",
    "    1\\\\\\\\\n",
    "    6\n",
    "\\end{bmatrix}\n",
    "$$\n",
    "\n",
    "$\\bar{x}=3$, $\\bar{y}=4$ and $n=3$ so we have:\n",
    "\n",
    "$$\n",
    "cov(X,Y) = \\frac{(1-3)(5-4)+(5-3)(1-4)+(3-3)(6-4)}{3}=\\frac{-8}{3}=-2.67\n",
    "$$\n",
    "\n",
    "That the value of the covariance matrix.\n",
    "\n",
    "With Numpy, the covariance matrix can be calculated with the function `np.cov`. It is worth noting that if you want Numpy to use the columns as vectors, the parameter `rowvar=False` has to be used. Also, `bias=True` allows to divide by $n$ and not by $n-1$.\n",
    "\n",
    "Let's create the array first:"
   ]
  },
  {
   "cell_type": "code",
   "execution_count": 94,
   "metadata": {
    "hideCode": false,
    "hidePrompt": false
   },
   "outputs": [
    {
     "data": {
      "text/plain": [
       "array([[1, 3, 5],\n",
       "       [5, 4, 1],\n",
       "       [3, 8, 6]])"
      ]
     },
     "execution_count": 94,
     "metadata": {},
     "output_type": "execute_result"
    }
   ],
   "source": [
    "A = np.array([[1, 3, 5], [5, 4, 1], [3, 8, 6]])\n",
    "A"
   ]
  },
  {
   "cell_type": "markdown",
   "metadata": {
    "hideCode": false,
    "hidePrompt": false
   },
   "source": [
    "Now we will calculate the covariance with the Numpy function:"
   ]
  },
  {
   "cell_type": "code",
   "execution_count": 95,
   "metadata": {
    "hideCode": false,
    "hidePrompt": false
   },
   "outputs": [
    {
     "data": {
      "text/plain": [
       "array([[ 2.66666667,  0.66666667, -2.66666667],\n",
       "       [ 0.66666667,  4.66666667,  2.33333333],\n",
       "       [-2.66666667,  2.33333333,  4.66666667]])"
      ]
     },
     "execution_count": 95,
     "metadata": {},
     "output_type": "execute_result"
    }
   ],
   "source": [
    "np.cov(A, rowvar=False, bias=True)"
   ]
  },
  {
   "cell_type": "markdown",
   "metadata": {
    "hideCode": false,
    "hidePrompt": false
   },
   "source": []
  },
  {
   "cell_type": "markdown",
   "metadata": {
    "hideCode": false,
    "hidePrompt": false
   },
   "source": [
    "### Finding the covariance matrix with the dot product\n",
    "\n",
    "There is another way to compute the covariance matrix of $\\boldsymbol{A}$. You can center $\n",
    "\\boldsymbol{A}$ around 0 (subtract the mean of the vector to each element of the vector to have a vector of mean equal to 0, *cf*. below), multiply it with its own transpose and divide by the number of observations. Let's start with an implementation and then we'll try to understand the link with the previous equation:"
   ]
  },
  {
   "cell_type": "code",
   "execution_count": 99,
   "metadata": {},
   "outputs": [
    {
     "data": {
      "text/plain": [
       "(3, 3)"
      ]
     },
     "execution_count": 99,
     "metadata": {},
     "output_type": "execute_result"
    }
   ],
   "source": [
    "A.shape"
   ]
  },
  {
   "cell_type": "code",
   "execution_count": 96,
   "metadata": {
    "hideCode": false,
    "hidePrompt": false
   },
   "outputs": [],
   "source": [
    "def calculateCovariance(X):\n",
    "    meanX = np.mean(X, axis = 0)\n",
    "    lenX = X.shape[0]\n",
    "    X = X - meanX\n",
    "    covariance = X.T.dot(X)/lenX\n",
    "    return covariance"
   ]
  },
  {
   "cell_type": "markdown",
   "metadata": {
    "hideCode": false,
    "hidePrompt": false
   },
   "source": [
    "Let's test it on our matrix $\\boldsymbol{A}$:"
   ]
  },
  {
   "cell_type": "code",
   "execution_count": 97,
   "metadata": {
    "hideCode": false,
    "hidePrompt": false
   },
   "outputs": [
    {
     "data": {
      "text/plain": [
       "array([[ 2.66666667,  0.66666667, -2.66666667],\n",
       "       [ 0.66666667,  4.66666667,  2.33333333],\n",
       "       [-2.66666667,  2.33333333,  4.66666667]])"
      ]
     },
     "execution_count": 97,
     "metadata": {},
     "output_type": "execute_result"
    }
   ],
   "source": [
    "calculateCovariance(A)"
   ]
  },
  {
   "cell_type": "markdown",
   "metadata": {
    "hideCode": false,
    "hidePrompt": false
   },
   "source": [
    "The dot product between two vectors can be expressed:\n",
    "\n",
    "$$\n",
    "\\boldsymbol{X^\\text{T}Y}= \\sum_{i=1}^{n}(x_i)(y_i)\n",
    "$$\n",
    "\n",
    "It is the sum of the products of each element of the vectors:\n",
    "\n",
    "<img src=\"images/dot-product.png\" width=\"400\" alt=\"The dot product corresponds to the sum of the products of each elements of the vectors\" title=\"The dot product.\">\n",
    "<em>The dot product corresponds to the sum of the products of each element of the vectors.</em>\n",
    "\n",
    "If $n$ is the number of elements in our vectors and that we divide by $n$:\n",
    "\n",
    "$$\n",
    "\\frac{1}{n}\\boldsymbol{X^\\text{T}Y}= \\frac{1}{n}\\sum_{i=1}^{n}(x_i)(y_i)\n",
    "$$\n",
    "\n",
    "You can note that this is not too far from the formula of the covariance we have seen above:\n",
    "\n",
    "$$\n",
    "cov(\\boldsymbol{X},\\boldsymbol{Y}) = \\frac{1}{n} \\sum_{i=1}^{n}(x_i-\\bar{x})(y_i-\\bar{y})\n",
    "$$\n",
    "\n",
    "The only difference is that in the covariance formula we subtract the mean of a vector to each of its elements. This is why we need to center the data before doing the dot product.\n",
    "\n",
    "Now if we have a matrix $\\boldsymbol{A}$, the dot product between $\\boldsymbol{A}$ and its transpose will give you a new matrix:\n",
    "\n",
    "<img src=\"images/covariance-dot-product.png\" width=\"400\" alt=\"Covariance matrix and dot product\" title=\"Covariance matrix and dot product.\">\n",
    "<em>If you start with a zero-centered matrix, the dot product between this matrix and its transpose will give you the variance of each vector and covariance between them, that is to say the covariance matrix.</em>\n",
    "\n",
    "This is the covariance matrix"
   ]
  },
  {
   "cell_type": "markdown",
   "metadata": {
    "hideCode": false,
    "hidePrompt": false
   },
   "source": [
    "## B. Visualize data and covariance matrices\n",
    "\n",
    "In order to get more insights about the covariance matrix and how it can be useful, we will create a function used to visualize it along with 2D data. You will be able to see the link between the covariance matrix and the data.\n",
    "\n",
    "This function will calculate the covariance matrix as we have seen above. It will create two subplots: one for the covariance matrix and one for the data. The `heatmap` function from Seaborn is used to create gradients of color: small values will be colored in light green and large values in dark blue. The data is represented as a scatterplot. We choose one of our palette colors, but you may prefer other colors."
   ]
  },
  {
   "cell_type": "code",
   "execution_count": 100,
   "metadata": {
    "hideCode": false,
    "hidePrompt": false
   },
   "outputs": [],
   "source": [
    "def plotDataAndCov(data):\n",
    "    ACov = np.cov(data, rowvar=False, bias=True)\n",
    "    print('Covariance matrix:\\n', ACov)\n",
    "\n",
    "    fig, ax = plt.subplots(nrows=1, ncols=2)\n",
    "    fig.set_size_inches(10, 10)\n",
    "\n",
    "    ax0 = plt.subplot(2, 2, 1)\n",
    "    \n",
    "    # Choosing the colors\n",
    "    cmap = sns.color_palette(\"GnBu\", 10)\n",
    "    sns.heatmap(ACov, cmap=cmap, vmin=ACov.min(),vmax=ACov.max())\n",
    "\n",
    "    ax1 = plt.subplot(2, 2, 2)\n",
    "    \n",
    "    # data can include the colors\n",
    "    if data.shape[1]==3:\n",
    "        c=data[:,2]\n",
    "    else:\n",
    "        c=\"#0A98BE\"\n",
    "    ax1.scatter(data[:,0], data[:,1], c=c, s=40)\n",
    "    \n",
    "    # Remove the top and right axes from the data plot\n",
    "    ax1.spines['right'].set_visible(False)\n",
    "    ax1.spines['top'].set_visible(False)"
   ]
  },
  {
   "cell_type": "markdown",
   "metadata": {
    "hideCode": false,
    "hidePrompt": false
   },
   "source": [
    "## C. Simulating data\n",
    "\n",
    "### Uncorrelated data\n",
    "\n",
    "Now that we have the plot function, we will generate some random data to visualize what the covariance matrice can tell us. We will start with some data drawn from a normal distribution with the Numpy function `np.random.normal()`.\n",
    "\n",
    "<img src=\"images/np.random.normal.png\" width=\"400\" alt=\"Parameters of numpy random normal\" title=\"Parameters of Numpy random normal.\">\n",
    "<em>Drawing sample from a normal distribution with Numpy.</em>\n",
    "\n",
    "This function needs the mean, the standard deviation and the number of observations of the distribution as input. We will create two random variables of 300 observations with a standard deviation of 1. The first will have a mean of 1 and the second a mean of 2. If we draw two times 300 observations from a normal distribution, both vectors will be uncorrelated."
   ]
  },
  {
   "cell_type": "code",
   "execution_count": 106,
   "metadata": {
    "hideCode": false,
    "hidePrompt": false
   },
   "outputs": [
    {
     "data": {
      "text/plain": [
       "(300, 2)"
      ]
     },
     "execution_count": 106,
     "metadata": {},
     "output_type": "execute_result"
    }
   ],
   "source": [
    "np.random.seed(1234)\n",
    "a1 = np.random.normal(2, 1, 300)\n",
    "a2 = np.random.normal(1, 1, 300)\n",
    "A = np.array([a1, a2]).T\n",
    "A.shape"
   ]
  },
  {
   "cell_type": "markdown",
   "metadata": {
    "hideCode": false,
    "hidePrompt": false
   },
   "source": [
    "*Note 1*:  We transpose the data with `.T` because the original shape is (2, 300) and we want the number of observations as rows (so with shape (300, 2)).\n",
    "\n",
    "*Note 2*: We use `np.random.seed` function for reproducibility. The same random number will be used the next time we run the cell!\n",
    "\n",
    "Let's check how the data looks like:"
   ]
  },
  {
   "cell_type": "code",
   "execution_count": 102,
   "metadata": {
    "hideCode": false,
    "hidePrompt": false
   },
   "outputs": [
    {
     "data": {
      "text/plain": [
       "array([[ 2.47143516,  1.52704645],\n",
       "       [ 0.80902431,  1.7111124 ],\n",
       "       [ 3.43270697,  0.78245452],\n",
       "       [ 1.6873481 ,  3.63779121],\n",
       "       [ 1.27941127, -0.74213763],\n",
       "       [ 2.88716294,  0.90556519],\n",
       "       [ 2.85958841,  2.43118375],\n",
       "       [ 1.3634765 ,  1.59275845],\n",
       "       [ 2.01569637,  1.1702969 ],\n",
       "       [-0.24268495, -0.75170595]])"
      ]
     },
     "execution_count": 102,
     "metadata": {},
     "output_type": "execute_result"
    }
   ],
   "source": [
    "A[:10,:]"
   ]
  },
  {
   "cell_type": "markdown",
   "metadata": {
    "hideCode": false,
    "hidePrompt": false
   },
   "source": [
    "Nice, we have our two columns vectors.\n",
    "\n",
    "Now, we can check that the distributions are normal:"
   ]
  },
  {
   "cell_type": "code",
   "execution_count": 107,
   "metadata": {
    "hideCode": false,
    "hidePrompt": false
   },
   "outputs": [
    {
     "data": {
      "image/png": "[encoded data removed]",
      "text/plain": [
       "<Figure size 432x288 with 1 Axes>"
      ]
     },
     "metadata": {},
     "output_type": "display_data"
    }
   ],
   "source": [
    "sns.distplot(A[:,0], color=\"#53BB04\")\n",
    "sns.distplot(A[:,1], color=\"#0A98BE\")\n",
    "plt.show()\n"
   ]
  },
  {
   "cell_type": "markdown",
   "metadata": {
    "hideCode": false,
    "hidePrompt": false
   },
   "source": [
    "Looks good! We can see that the distributions have equivalent standard deviations but different means (1 and 2). So that's exactly what we have asked for!"
   ]
  },
  {
   "cell_type": "markdown",
   "metadata": {
    "hideCode": false,
    "hidePrompt": false
   },
   "source": [
    "Now we can plot our dataset and its covariance matrix with our function:"
   ]
  },
  {
   "cell_type": "code",
   "execution_count": 108,
   "metadata": {
    "hideCode": false,
    "hidePrompt": false,
    "scrolled": true
   },
   "outputs": [
    {
     "name": "stdout",
     "output_type": "stream",
     "text": [
      "Covariance matrix:\n",
      " [[ 0.95171641 -0.0447816 ]\n",
      " [-0.0447816   0.87959853]]\n"
     ]
    },
    {
     "data": {
      "image/png": "[encoded data removed]",
      "text/plain": [
       "<Figure size 720x720 with 3 Axes>"
      ]
     },
     "metadata": {},
     "output_type": "display_data"
    }
   ],
   "source": [
    "plotDataAndCov(A)\n",
    "\n"
   ]
  },
  {
   "cell_type": "markdown",
   "metadata": {
    "hideCode": false,
    "hidePrompt": false
   },
   "source": [
    "We can see on the scatterplot that the two dimensions are uncorrelated. Note that we have one dimension with a mean of 1 and the other with the mean of 2. Also, the covariance matrix shows that the variance of each variable is very large (around 1) and the covariance of columns 1 and 2 is very small (around 0). Since we insured that the two vectors are independent this is coherent (the opposite is not necessarily true: a covariance of 0 doesn't guaranty independency."
   ]
  },
  {
   "cell_type": "markdown",
   "metadata": {
    "hideCode": false,
    "hidePrompt": false
   },
   "source": [
    "### Correlated data\n",
    "\n",
    "Now, let's construct dependent data by specifying one column from the other one."
   ]
  },
  {
   "cell_type": "code",
   "execution_count": 109,
   "metadata": {
    "hideCode": false,
    "hidePrompt": false
   },
   "outputs": [
    {
     "name": "stdout",
     "output_type": "stream",
     "text": [
      "Covariance matrix:\n",
      " [[0.95171641 0.92932561]\n",
      " [0.92932561 1.12683445]]\n"
     ]
    },
    {
     "data": {
      "image/png": "[encoded data removed]",
      "text/plain": [
       "<Figure size 720x720 with 3 Axes>"
      ]
     },
     "metadata": {},
     "output_type": "display_data"
    }
   ],
   "source": [
    "np.random.seed(1234)\n",
    "b1 =  np.random.normal(3, 1, 300)\n",
    "b2 = b1 + np.random.normal(7, 1, 300)/2.\n",
    "B = np.array([b1, b2]).T\n",
    "plotDataAndCov(B)\n"
   ]
  },
  {
   "cell_type": "markdown",
   "metadata": {
    "hideCode": false,
    "hidePrompt": false
   },
   "source": [
    "The correlation between the two dimensions is visible on the scatter plot. We can see that a line could be drawn and used to predict $\\boldsymbol{y}$ from $\\boldsymbol{x}$ and vice versa. The covariance matrix is not diagonal (there are non-zero cells outside of the diagonal). That means that the covariance between dimensions is non-zero.\n",
    "\n",
    "We now have all the tools to see different preprocessing techniques."
   ]
  },
  {
   "cell_type": "markdown",
   "metadata": {
    "hideCode": false,
    "hidePrompt": false
   },
   "source": [
    "# 2. Preprocessing\n",
    "\n",
    "## A. Mean normalization\n",
    "\n",
    "Mean normalization is just removing the mean from each observation.\n",
    "\n",
    "$$\n",
    "\\boldsymbol{X'} = \\boldsymbol{X} - \\bar{x}\n",
    "$$\n",
    "\n",
    "where $\\boldsymbol{X'}$ is the normalized dataset, $\\boldsymbol{X}$ the original dataset and $\\bar{x}$ the mean of $\\boldsymbol{X}$.\n",
    "\n",
    "It will have the effect of centering the data around 0. We will create the function `center()` to do that:"
   ]
  },
  {
   "cell_type": "code",
   "execution_count": 110,
   "metadata": {
    "code_folding": [],
    "hideCode": false,
    "hidePrompt": false
   },
   "outputs": [],
   "source": [
    "def center(X):\n",
    "    newX = X - np.mean(X, axis = 0)\n",
    "    return newX"
   ]
  },
  {
   "cell_type": "markdown",
   "metadata": {
    "hideCode": false,
    "hidePrompt": false
   },
   "source": [
    "Let's give it a try with the matrix $\\boldsymbol{B}$ we have created above:"
   ]
  },
  {
   "cell_type": "code",
   "execution_count": 111,
   "metadata": {
    "hideCode": false,
    "hidePrompt": false
   },
   "outputs": [
    {
     "name": "stdout",
     "output_type": "stream",
     "text": [
      "Before:\n",
      "\n",
      "\n",
      "Covariance matrix:\n",
      " [[0.95171641 0.92932561]\n",
      " [0.92932561 1.12683445]]\n",
      "After:\n",
      "\n",
      "\n",
      "Covariance matrix:\n",
      " [[0.95171641 0.92932561]\n",
      " [0.92932561 1.12683445]]\n"
     ]
    },
    {
     "data": {
      "image/png": "[encoded data removed]",
      "text/plain": [
       "<Figure size 720x720 with 3 Axes>"
      ]
     },
     "metadata": {},
     "output_type": "display_data"
    },
    {
     "data": {
      "image/png": "[encoded data removed]",
      "text/plain": [
       "<Figure size 720x720 with 3 Axes>"
      ]
     },
     "metadata": {},
     "output_type": "display_data"
    }
   ],
   "source": [
    "BCentered = center(B)\n",
    "\n",
    "print('Before:\\n\\n')\n",
    "\n",
    "plotDataAndCov(B)\n",
    "\n",
    "\n",
    "print('After:\\n\\n')\n",
    "\n",
    "plotDataAndCov(BCentered)\n"
   ]
  },
  {
   "cell_type": "markdown",
   "metadata": {
    "hideCode": false,
    "hidePrompt": false
   },
   "source": [
    "The first plot shows again the original data $\\boldsymbol{B}$ and the second plot shows the centered data (look at the scale)."
   ]
  },
  {
   "cell_type": "markdown",
   "metadata": {
    "hideCode": false,
    "hidePrompt": false
   },
   "source": [
    "## B. Standardization\n",
    "\n",
    "The standardization is used to put all features on the same scale. The way to do it is to divide each zero-centered dimension by its standard deviation.\n",
    "\n",
    "$$\n",
    "\\boldsymbol{X'} = \\frac{\\boldsymbol{X} - \\bar{x}}{\\sigma_{\\boldsymbol{X}}}\n",
    "$$\n",
    "\n",
    "where $\\boldsymbol{X'}$ is the standardized dataset, $\\boldsymbol{X}$ the original dataset, $\\bar{x}$ the mean of $\\boldsymbol{X}$ and $\\sigma_{\\boldsymbol{X}}$ the standard deviation of $\\boldsymbol{X}$."
   ]
  },
  {
   "cell_type": "code",
   "execution_count": 86,
   "metadata": {
    "hideCode": false,
    "hidePrompt": false
   },
   "outputs": [],
   "source": [
    "def standardize(X):\n",
    "    newX = center(X)/np.std(X, axis = 0)\n",
    "    return newX"
   ]
  },
  {
   "cell_type": "markdown",
   "metadata": {
    "hideCode": false,
    "hidePrompt": false
   },
   "source": [
    "Let's create another dataset with a different scale to check that it is working."
   ]
  },
  {
   "cell_type": "code",
   "execution_count": 113,
   "metadata": {
    "hideCode": false,
    "hidePrompt": false
   },
   "outputs": [
    {
     "name": "stdout",
     "output_type": "stream",
     "text": [
      "Covariance matrix:\n",
      " [[0.95171641 0.83976242]\n",
      " [0.83976242 6.22529922]]\n"
     ]
    },
    {
     "data": {
      "text/plain": [
       "(0, 15)"
      ]
     },
     "execution_count": 113,
     "metadata": {},
     "output_type": "execute_result"
    },
    {
     "data": {
      "image/png": "[encoded data removed]",
      "text/plain": [
       "<Figure size 720x720 with 3 Axes>"
      ]
     },
     "metadata": {},
     "output_type": "display_data"
    }
   ],
   "source": [
    "np.random.seed(1234)\n",
    "c1 =  np.random.normal(3, 1, 300)\n",
    "c2 = c1 + np.random.normal(7, 5, 300)/2.\n",
    "C = np.array([c1, c2]).T\n",
    "\n",
    "\n",
    "plotDataAndCov(C)\n",
    "plt.xlim(0, 15)\n",
    "plt.ylim(0, 15)\n"
   ]
  },
  {
   "cell_type": "markdown",
   "metadata": {
    "hideCode": false,
    "hidePrompt": false
   },
   "source": [
    "We can see that the scales of $x$ and $y$ are different. Note also that the correlation seems smaller because of the scale differences. Now let's standardise it:"
   ]
  },
  {
   "cell_type": "code",
   "execution_count": 114,
   "metadata": {
    "hideCode": false,
    "hidePrompt": false
   },
   "outputs": [
    {
     "name": "stdout",
     "output_type": "stream",
     "text": [
      "Covariance matrix:\n",
      " [[1.         0.34500274]\n",
      " [0.34500274 1.        ]]\n"
     ]
    },
    {
     "data": {
      "image/png": "[encoded data removed]",
      "text/plain": [
       "<Figure size 720x720 with 3 Axes>"
      ]
     },
     "metadata": {},
     "output_type": "display_data"
    }
   ],
   "source": [
    "CStandardized = standardize(C)\n",
    "\n",
    "plotDataAndCov(CStandardized)\n"
   ]
  },
  {
   "cell_type": "markdown",
   "metadata": {
    "hideCode": false,
    "hidePrompt": false
   },
   "source": [
    "Looks good! You can see that the scales are the same and that the dataset is zero-centered according to both axes. Now, have a look at the covariance matrix: you can see that the variance of each coordinate (the top-left cell and the bottom-right cell) is equal to 1. By the way, this new covariance matrix is actually the correlation matrix. The Pearson correlation coefficient between the two variables ($\\bs{c1}$ and $\\bs{c2}$) is 0.54220151."
   ]
  },
  {
   "cell_type": "markdown",
   "metadata": {
    "hideCode": false,
    "hidePrompt": false
   },
   "source": [
    "## C. Whitening\n",
    "\n",
    "Whitening or sphering data means that we want to transform it in a way to have a covariance matrix that is the identity matrix (1 in the diagonal and 0 for the other cells. It is called whitening in reference to white noise.\n",
    "\n",
    "Whitening is a bit more complicated but we now have all the tools that we need to do it. It involves the following steps:\n",
    "\n",
    "    1- Zero-center the data\n",
    "    2- Decorrelate the data\n",
    "    3- Rescale the data\n",
    "    \n",
    "Let's take again $\\boldsymbol{C}$ and try to do these steps.\n",
    "\n",
    "#### 1. Zero-centering"
   ]
  },
  {
   "cell_type": "code",
   "execution_count": 115,
   "metadata": {
    "hideCode": false,
    "hidePrompt": false
   },
   "outputs": [
    {
     "name": "stdout",
     "output_type": "stream",
     "text": [
      "Covariance matrix:\n",
      " [[0.95171641 0.83976242]\n",
      " [0.83976242 6.22529922]]\n"
     ]
    },
    {
     "data": {
      "image/png": "[encoded data removed]",
      "text/plain": [
       "<Figure size 720x720 with 3 Axes>"
      ]
     },
     "metadata": {},
     "output_type": "display_data"
    }
   ],
   "source": [
    "CCentered = center(C)\n",
    "\n",
    "plotDataAndCov(CCentered)\n"
   ]
  },
  {
   "cell_type": "markdown",
   "metadata": {
    "hideCode": false,
    "hidePrompt": false
   },
   "source": [
    "#### 2. Decorrelate\n",
    "\n",
    "At this point, we need to decorrelate our data. Intuitively, it means that we want to rotate the data until there is no correlation anymore. Look at the following cartoon to see what I mean:\n",
    "\n",
    "<img src=\"images/rotation.png\" width=\"500\" alt=\"Rotation to decorrelate the data\" title=\"The rotation can decorrelate the data.\">\n",
    "<em>The left plot shows correlated data. For instance, if you take a data point with a big $x$ value, chances are that $y$ will also be quite big. Now take all data points and do a rotation (maybe around 45 degrees counterclockwise): the new data (plotted on the right) is not correlated anymore.</em>\n",
    "\n",
    "The question is: how could we find the right rotation in order to get the uncorrelated data? Actually, it is exactly what the **eigenvectors** of the covariance matrix do: they indicate the direction where the spread of the data is at its maximum:\n",
    "\n",
    "<img src=\"images/maxVar.png\" width=\"300\" alt=\"Direction where the variance is maximum\" title=\"There is one direction where the variance is maximum.\">\n",
    "<em>The eigenvectors of the covariance matrix give you the direction that maximizes the variance. The direction of the green line is where the variance is maximum. Just look at the smallest and largest point projected on this line: the spread is big. Compare that with the projection on the orange line: the spread is very small.</em>\n",
    "\n",
    "\n",
    "So we can decorrelate the data by projecting it on the eigenvectors basis. This will have the effect to apply the rotation needed and remove correlations between the dimensions. Here are the steps:\n",
    "\n",
    "    1- Calculate the covariance matrix\n",
    "    2- Calculate the eigenvectors of the covariance matrix\n",
    "    3- Apply the matrix of eigenvectors to the data (this will apply the rotation)\n",
    "    \n",
    "Let's pack that into a function:"
   ]
  },
  {
   "cell_type": "code",
   "execution_count": 117,
   "metadata": {
    "hideCode": false,
    "hidePrompt": false
   },
   "outputs": [],
   "source": [
    "def decorrelate(X):\n",
    "    newX = center(X)\n",
    "    cov = X.T.dot(X)/float(X.shape[0])\n",
    "    # Calculate the eigenvalues and eigenvectors of the covariance matrix\n",
    "    eigVals, eigVecs = np.linalg.eig(cov)\n",
    "    # Apply the eigenvectors to X\n",
    "    decorrelated = X.dot(eigVecs)\n",
    "    return decorrelated"
   ]
  },
  {
   "cell_type": "markdown",
   "metadata": {
    "hideCode": false,
    "hidePrompt": false
   },
   "source": [
    "Let's try to decorrelate our zero-centered matrix $\\boldsymbol{C}$ to see it in action:"
   ]
  },
  {
   "cell_type": "code",
   "execution_count": 118,
   "metadata": {
    "hideCode": false,
    "hidePrompt": false
   },
   "outputs": [
    {
     "name": "stdout",
     "output_type": "stream",
     "text": [
      "Covariance matrix:\n",
      " [[0.95171641 0.83976242]\n",
      " [0.83976242 6.22529922]]\n"
     ]
    },
    {
     "data": {
      "image/png": "[encoded data removed]",
      "text/plain": [
       "<Figure size 720x720 with 3 Axes>"
      ]
     },
     "metadata": {},
     "output_type": "display_data"
    },
    {
     "name": "stdout",
     "output_type": "stream",
     "text": [
      "Covariance matrix:\n",
      " [[8.21222171e-01 8.28966525e-17]\n",
      " [8.28966525e-17 6.35579346e+00]]\n"
     ]
    },
    {
     "data": {
      "image/png": "[encoded data removed]",
      "text/plain": [
       "<Figure size 720x720 with 3 Axes>"
      ]
     },
     "metadata": {},
     "output_type": "display_data"
    }
   ],
   "source": [
    "plotDataAndCov(C)\n",
    "plt.show()\n",
    "plt.close()\n",
    "\n",
    "CDecorrelated = decorrelate(CCentered)\n",
    "plotDataAndCov(CDecorrelated)\n",
    "plt.xlim(-5,5)\n",
    "plt.ylim(-5,5)\n",
    "plt.show()\n",
    "plt.close()"
   ]
  },
  {
   "cell_type": "markdown",
   "metadata": {
    "hideCode": false,
    "hidePrompt": false
   },
   "source": [
    "\n",
    "\n",
    "We can see that the correlation is not here anymore and that the covariance matrix (now a diagonal matrix) confirms that the covariance between the two dimensions is equal to 0."
   ]
  },
  {
   "cell_type": "markdown",
   "metadata": {
    "hideCode": false,
    "hidePrompt": false
   },
   "source": [
    "#### 3. Rescale the data\n",
    "\n",
    "The next step is to scale the uncorrelated matrix in order to obtain a covariance matrix corresponding to the identity matrix (ones on the diagonal and zeros on the other cells). To do that we scale our decorrelated data by dividing each dimension by the square-root of its corresponding eigenvalue."
   ]
  },
  {
   "cell_type": "code",
   "execution_count": 119,
   "metadata": {
    "hideCode": false,
    "hidePrompt": false
   },
   "outputs": [],
   "source": [
    "def whiten(X):\n",
    "    newX = center(X)\n",
    "    cov = X.T.dot(X)/float(X.shape[0])\n",
    "    # Calculate the eigenvalues and eigenvectors of the covariance matrix\n",
    "    eigVals, eigVecs = np.linalg.eig(cov)\n",
    "    # Apply the eigenvectors to X\n",
    "    decorrelated = X.dot(eigVecs)\n",
    "    # Rescale the decorrelated data\n",
    "    whitened = decorrelated / np.sqrt(eigVals + 1e-5)\n",
    "    return whitened"
   ]
  },
  {
   "cell_type": "markdown",
   "metadata": {
    "hideCode": false,
    "hidePrompt": false
   },
   "source": [
    "*Note:* we add a small value (here $10^{-5}$) to avoid the division by $0$."
   ]
  },
  {
   "cell_type": "code",
   "execution_count": 120,
   "metadata": {
    "hideCode": false,
    "hidePrompt": false
   },
   "outputs": [
    {
     "name": "stdout",
     "output_type": "stream",
     "text": [
      "Covariance matrix:\n",
      " [[9.99987823e-01 2.51650552e-17]\n",
      " [2.51650552e-17 9.99998427e-01]]\n"
     ]
    },
    {
     "data": {
      "text/plain": [
       "(-5, 5)"
      ]
     },
     "execution_count": 120,
     "metadata": {},
     "output_type": "execute_result"
    },
    {
     "data": {
      "image/png": "[encoded data removed]",
      "text/plain": [
       "<Figure size 720x720 with 3 Axes>"
      ]
     },
     "metadata": {},
     "output_type": "display_data"
    }
   ],
   "source": [
    "CWhitened = whiten(CCentered)\n",
    "\n",
    "plotDataAndCov(CWhitened)\n",
    "plt.xlim(-5,5)\n",
    "plt.ylim(-5,5)\n"
   ]
  },
  {
   "cell_type": "markdown",
   "metadata": {
    "hideCode": false,
    "hidePrompt": false
   },
   "source": [
    "We can see that with the covariance matrix that this is all good. We have something that really looks to the identity matrix ($1$ on the diagonal and $0$ elsewhere). "
   ]
  },
  {
   "cell_type": "markdown",
   "metadata": {
    "hideCode": false,
    "hidePrompt": false
   },
   "source": [
    "# 3. Image whitening\n",
    "\n",
    "We will see how whitening can be applied to preprocess image dataset. To do so we will use the paper of [Pal & Sudeep (2016)](https://ieeexplore.ieee.org/document/7808140/) where they give some details about the process. This preprocessing technique is called Zero component analysis (ZCA).\n",
    "\n",
    "Check out the paper, but here is the kind of result they got:\n",
    "\n",
    "<img src=\"images/whitening-images-cifar10-pal-sudeep.png\" width=\"800\" alt=\"Whitening images from the CIFAR10 dataset. Results from the paper of Pal & Sudeep (2016).\">\n",
    "<em>Whitening images from the CIFAR10 dataset. Results from the paper of Pal & Sudeep (2016). The original images (left) and the images after the ZCA (right) are shown.</em>\n",
    "\n",
    "We will load images from the CIFAR dataset. This dataset is available online and you can download it [here](https://www.cs.toronto.edu/~kriz/cifar.html).\n",
    "\n",
    "\n",
    "The archive contains the files data_batch_1, data_batch_2, ..., data_batch_5, as well as test_batch. Each of these files is a Python \"pickled\" object produced with cPickle. \n",
    "\n",
    "Loaded in this way, each of the batch files contains a dictionary with the following elements:\n",
    "\n",
    "1. data -- a 10000x3072 numpy array of uint8s. Each row of the array stores a 32x32 colour image. The first 1024 entries contain the red channel values, the next 1024 the green, and the final 1024 the blue. The image is stored in row-major order, so that the first 32 entries of the array are the red channel values of the first row of the image.\n",
    "2. labels -- a list of 10000 numbers in the range 0-9. The number at index i indicates the label of the ith image in the array data.\n",
    "\n",
    "\n",
    "The CIFAR-10 dataset consists of 60000 32x32 colour images in 10 classes, with 6000 images per class. There are 50000 training images and 10000 test images. \n",
    "\n",
    "\n",
    "<img src=\"images/cidar10.png\" width=\"400\">\n",
    "\n"
   ]
  },
  {
   "cell_type": "code",
   "execution_count": 121,
   "metadata": {},
   "outputs": [],
   "source": [
    "def unpickle(file):\n",
    "    import pickle\n",
    "    with open(file, 'rb') as fo:\n",
    "        dict = pickle.load(fo, encoding='bytes')\n",
    "    return dict\n"
   ]
  },
  {
   "cell_type": "markdown",
   "metadata": {},
   "source": [
    "We will start by selecting only a subset of the images, let's say 10000:\n"
   ]
  },
  {
   "cell_type": "code",
   "execution_count": 123,
   "metadata": {},
   "outputs": [
    {
     "name": "stdout",
     "output_type": "stream",
     "text": [
      "(10000, 3072)\n",
      "(10000,)\n"
     ]
    }
   ],
   "source": [
    "file_name = 'cifar-10-batches-py/data_batch_1'\n",
    "\n",
    "\n",
    "D = unpickle(file_name)\n",
    "X=D[b'data']\n",
    "y=np.array(D[b'labels'])\n",
    "print(X.shape)\n",
    "print(y.shape)"
   ]
  },
  {
   "cell_type": "code",
   "execution_count": 122,
   "metadata": {},
   "outputs": [
    {
     "data": {
      "text/plain": [
       "dict_keys([b'batch_label', b'labels', b'data', b'filenames'])"
      ]
     },
     "execution_count": 122,
     "metadata": {},
     "output_type": "execute_result"
    }
   ],
   "source": [
    "D.keys()"
   ]
  },
  {
   "cell_type": "markdown",
   "metadata": {},
   "source": [
    "The next step is to be able to see the images. The function imshow() from Matplotlib (doc) can be used to show images. It needs images with the shape (𝑀×𝑁×3) so let's create a function to reshape the images and be able to visualize them from the shape (1, 3072)."
   ]
  },
  {
   "cell_type": "code",
   "execution_count": 45,
   "metadata": {},
   "outputs": [],
   "source": [
    "def plotImage(X):\n",
    "    plt.figure(figsize=(1.5, 1.5))\n",
    "    \n",
    "    r=X[0:1024].reshape(32,32)\n",
    "    g=X[1024:2048].reshape(32,32)\n",
    "    b=X[2048:3072].reshape(32,32)\n",
    "    \n",
    "    im=np.stack((r,g,b),axis=2)\n",
    "    plt.imshow(im)\n",
    "    plt.grid(None)\n",
    "    plt.show()\n",
    "    plt.close()"
   ]
  },
  {
   "cell_type": "code",
   "execution_count": 128,
   "metadata": {},
   "outputs": [
    {
     "data": {
      "image/png": "[encoded data removed]",
      "text/plain": [
       "<Figure size 108x108 with 1 Axes>"
      ]
     },
     "metadata": {},
     "output_type": "display_data"
    }
   ],
   "source": [
    "plotImage(X[1000,:])"
   ]
  },
  {
   "cell_type": "markdown",
   "metadata": {
    "hideCode": false,
    "hidePrompt": false
   },
   "source": [
    "We can now implement the whitening of the images. [Pal & Sudeep (2016)](https://ieeexplore.ieee.org/document/7808140/) describe the process:\n",
    "\n",
    "1. The first step is to rescale the images to obtain the range [0, 1] by dividing by 255 (the maximum value of the pixels).\n",
    "\n",
    "Remind that the formula to obtain the range [0, 1] is:\n",
    "\n",
    "$$\\frac{data - min(data)}{max(data) - min(data)}$$\n",
    "\n",
    "but here, the minimum value is 0, so this leads to:\n",
    "\n",
    "$$\\frac{data}{max(data)} = \\frac{data}{255}$$"
   ]
  },
  {
   "cell_type": "code",
   "execution_count": 129,
   "metadata": {
    "hideCode": false,
    "hidePrompt": false
   },
   "outputs": [
    {
     "name": "stdout",
     "output_type": "stream",
     "text": [
      "X.min() 0.0\n",
      "X.max() 1.0\n"
     ]
    }
   ],
   "source": [
    "X_norm = X / 255.\n",
    "print('X.min()', X_norm.min())\n",
    "print('X.max()', X_norm.max())"
   ]
  },
  {
   "cell_type": "code",
   "execution_count": 130,
   "metadata": {},
   "outputs": [
    {
     "name": "stdout",
     "output_type": "stream",
     "text": [
      "X.min() 0\n",
      "X.max() 255\n"
     ]
    }
   ],
   "source": [
    "print('X.min()', X.min())\n",
    "print('X.max()', X.max())"
   ]
  },
  {
   "cell_type": "markdown",
   "metadata": {
    "hideCode": false,
    "hidePrompt": false
   },
   "source": [
    "### Mean subtraction: per-pixel or per-image?\n",
    "\n",
    "The range of our pixel values is between 0 and 1 now. The next step is:\n",
    "\n",
    "2. Subtract the mean from all image.\n",
    "\n",
    "\n",
    "\n",
    "One way to do it is to take each image and remove the mean of this image from every pixel ([Jarrett et al., 2009](https://www.computer.org/csdl/proceedings/iccv/2009/4420/00/05459469.pdf)). The intuition behind this process is that it centers the pixels of each image around 0.\n",
    "\n",
    "Another way to do it is to take each of the 3072 pixels that we have (32 by 32 pixels for R, G and B) for every image and subtract the mean of that pixel across all images. This is called per-pixel mean subtraction. This time, each pixel will be centered around 0 *according to all images*. When you will feed your network with the images, each pixel is considered as a different feature. With the per-pixel mean subtraction, we have centered each feature (pixel) around 0. This technique is commonly used (e.g [Wan et al., 2013](http://proceedings.mlr.press/v28/wan13.html)).\n",
    "\n",
    "We will now do the per-pixel mean subtraction from our 1000 images. Our data are organized with these dimensions (images, pixels). It was (1000, 3072) because there are 1000 images with $32 \\times 32 \\times 3 = 3072$ pixels. The mean per-pixel can thus be obtained from the first axis:"
   ]
  },
  {
   "cell_type": "code",
   "execution_count": 131,
   "metadata": {
    "hideCode": false,
    "hidePrompt": false
   },
   "outputs": [
    {
     "data": {
      "text/plain": [
       "(3072,)"
      ]
     },
     "execution_count": 131,
     "metadata": {},
     "output_type": "execute_result"
    }
   ],
   "source": [
    "X_norm.mean(axis=0).shape"
   ]
  },
  {
   "cell_type": "markdown",
   "metadata": {
    "hideCode": false,
    "hidePrompt": false
   },
   "source": [
    "This gives us 3072 values which is the number of means: one per pixel. Let's see the kind of values we have:"
   ]
  },
  {
   "cell_type": "code",
   "execution_count": 132,
   "metadata": {
    "hideCode": false,
    "hidePrompt": false
   },
   "outputs": [
    {
     "data": {
      "text/plain": [
       "array([0.51767961, 0.51502588, 0.51840471, ..., 0.44751255, 0.44832196,\n",
       "       0.4513949 ])"
      ]
     },
     "execution_count": 132,
     "metadata": {},
     "output_type": "execute_result"
    }
   ],
   "source": [
    "X_norm.mean(axis=0)"
   ]
  },
  {
   "cell_type": "markdown",
   "metadata": {
    "hideCode": false,
    "hidePrompt": false
   },
   "source": [
    "This is near 0.5 because we already have normalized to the range [0, 1]. However, we still need to remove the mean from each pixel:"
   ]
  },
  {
   "cell_type": "code",
   "execution_count": 133,
   "metadata": {
    "hideCode": false,
    "hidePrompt": false
   },
   "outputs": [],
   "source": [
    "X_norm = X_norm - X_norm.mean(axis=0)"
   ]
  },
  {
   "cell_type": "markdown",
   "metadata": {
    "hideCode": false,
    "hidePrompt": false
   },
   "source": [
    "Just to convince ourselves that it worked, we will compute the mean of the first pixel. Let's hope that it is 0."
   ]
  },
  {
   "cell_type": "code",
   "execution_count": 134,
   "metadata": {
    "hideCode": false,
    "hidePrompt": false
   },
   "outputs": [
    {
     "data": {
      "text/plain": [
       "array([ 3.27909921e-16, -1.91170413e-15, -9.40053591e-16, ...,\n",
       "        5.09417508e-15,  4.30362412e-15,  5.14428500e-15])"
      ]
     },
     "execution_count": 134,
     "metadata": {},
     "output_type": "execute_result"
    }
   ],
   "source": [
    "X_norm.mean(axis=0)"
   ]
  },
  {
   "cell_type": "markdown",
   "metadata": {
    "hideCode": false,
    "hidePrompt": false
   },
   "source": [
    "This is not exactly 0 but it is small enough that we can consider that it worked"
   ]
  },
  {
   "cell_type": "markdown",
   "metadata": {
    "hideCode": false,
    "hidePrompt": false
   },
   "source": [
    "Now we want to calculate the covariance matrix of the zero-centered data. Like we have seen above, we can calculate it with the `np.cov()` function from Numpy.\n",
    "\n",
    "There are two possible correlation matrices that we can calculate from the matrix $\\bs{X}$: either the correlation between rows or between columns. In our case, each row of the matrix $\\bs{X}$ is an image, so the rows of the matrix correspond to the observations and the columns of the matrix corresponds to the features (the images pixels). We want to calculate the correlation between the pixels because the goal of the whitening is to remove these correlations to force the algorithm to focus on higher-order relations.\n",
    "\n",
    "To do so, we will tell this to Numpy with the parameter `rowvar=False` (see the [doc](https://docs.scipy.org/doc/numpy/reference/generated/numpy.cov.html)): it will use the columns as variables (or features) and the rows as observations."
   ]
  },
  {
   "cell_type": "code",
   "execution_count": 135,
   "metadata": {
    "hideCode": false,
    "hidePrompt": false
   },
   "outputs": [],
   "source": [
    "cov = np.cov(X_norm, rowvar=False)"
   ]
  },
  {
   "cell_type": "markdown",
   "metadata": {},
   "source": [
    "The covariance matrix should have a shape of 3072 by 3072 to represent the correlation between each pair of pixels (and there are 3072 pixels):"
   ]
  },
  {
   "cell_type": "code",
   "execution_count": 136,
   "metadata": {},
   "outputs": [
    {
     "data": {
      "text/plain": [
       "(3072, 3072)"
      ]
     },
     "execution_count": 136,
     "metadata": {},
     "output_type": "execute_result"
    }
   ],
   "source": [
    "cov.shape"
   ]
  },
  {
   "cell_type": "markdown",
   "metadata": {
    "hideCode": false,
    "hidePrompt": false
   },
   "source": [
    "Now the magic part: we will calculate the singular values and vectors of the covariance matrix and use them to rotate our dataset. Have a look at [my post](https://hadrienj.github.io/posts/Deep-Learning-Book-Series-2.8-Singular-Value-Decomposition/) on the singular value decomposition if you need more details!"
   ]
  },
  {
   "cell_type": "code",
   "execution_count": 137,
   "metadata": {
    "hideCode": false,
    "hidePrompt": false
   },
   "outputs": [],
   "source": [
    "U,S,V = np.linalg.svd(cov)"
   ]
  },
  {
   "cell_type": "markdown",
   "metadata": {
    "hideCode": false,
    "hidePrompt": false
   },
   "source": [
    "In the paper, they used the following equation:\n",
    "\n",
    "$\n",
    "{X}_{ZCA} = {U}.diag(\\frac{1}{\\sqrt{diag({S}) + \\epsilon}}).{U^\\text{T}.X}\n",
    "$\n",
    "\n",
    "with ${U}$ the left singular vectors, and $\\bs{S}$ the singular values of the covariance of the initial normalized dataset of images and $\\bs{X}$ the normalized dataset. $\\epsilon$ (*epsilon*) is an hyper-parameter called the whitening coefficient. $diag(a)$ corresponds to a matrix with the vector $a$ as a diagonal and 0 in all other cells.\n",
    "\n",
    "We will try to implement this equation. Let's start by checking the dimensions of the SVD:"
   ]
  },
  {
   "cell_type": "code",
   "execution_count": 138,
   "metadata": {
    "hideCode": false,
    "hidePrompt": false
   },
   "outputs": [
    {
     "name": "stdout",
     "output_type": "stream",
     "text": [
      "(3072, 3072) (3072,)\n"
     ]
    }
   ],
   "source": [
    "print(U.shape, S.shape)"
   ]
  },
  {
   "cell_type": "markdown",
   "metadata": {
    "hideCode": false,
    "hidePrompt": false
   },
   "source": [
    "$\\bs{S}$ is a vector containing 3072 elements (the singular values). $diag(\\bs{S})$ will thus be of shape (3072, 3072) with $\\bs{S}$ as the diagonal:"
   ]
  },
  {
   "cell_type": "code",
   "execution_count": 139,
   "metadata": {
    "hideCode": false,
    "hidePrompt": false
   },
   "outputs": [
    {
     "name": "stdout",
     "output_type": "stream",
     "text": [
      "[[5.61776152e+01 0.00000000e+00 0.00000000e+00 ... 0.00000000e+00\n",
      "  0.00000000e+00 0.00000000e+00]\n",
      " [0.00000000e+00 2.16597772e+01 0.00000000e+00 ... 0.00000000e+00\n",
      "  0.00000000e+00 0.00000000e+00]\n",
      " [0.00000000e+00 0.00000000e+00 1.25954689e+01 ... 0.00000000e+00\n",
      "  0.00000000e+00 0.00000000e+00]\n",
      " ...\n",
      " [0.00000000e+00 0.00000000e+00 0.00000000e+00 ... 9.23536054e-07\n",
      "  0.00000000e+00 0.00000000e+00]\n",
      " [0.00000000e+00 0.00000000e+00 0.00000000e+00 ... 0.00000000e+00\n",
      "  9.08946499e-07 0.00000000e+00]\n",
      " [0.00000000e+00 0.00000000e+00 0.00000000e+00 ... 0.00000000e+00\n",
      "  0.00000000e+00 9.08406437e-07]]\n",
      "\n",
      "shape: (3072, 3072)\n"
     ]
    }
   ],
   "source": [
    "print(np.diag(S))\n",
    "print('\\nshape:', np.diag(S).shape)"
   ]
  },
  {
   "cell_type": "markdown",
   "metadata": {
    "hideCode": false,
    "hidePrompt": false
   },
   "source": [
    "$diag(\\frac{1}{\\sqrt{diag(\\bs{S}) + \\epsilon}})$ is also of shape (3072, 3072) as well as $\\bs{U}$ and $\\bs{U^{\\text{T}}}$. We have seen also that $\\bs{X}$ has the shape (1000, 3072) and we need to transpose it to have (3072, 1000). The shape of $\\bs{X}_{ZCA}$ is thus:\n",
    "\n",
    "$$\n",
    "(3072, 3072) . (3072, 3072) . (1000, 3072)^{\\text{T}} = (3072, 3072) . (3072, 1000) = (3072, 1000)\n",
    "$$\n",
    "\n",
    "which corresponds to the shape of the initial dataset after transposition. Nice!\n",
    "\n",
    "We have:"
   ]
  },
  {
   "cell_type": "code",
   "execution_count": 140,
   "metadata": {
    "hideCode": false,
    "hidePrompt": false
   },
   "outputs": [],
   "source": [
    "epsilon = 0.1\n",
    "X_ZCA = U.dot(np.diag(1.0/np.sqrt(S + epsilon))).dot(U.T).dot(X_norm.T).T"
   ]
  },
  {
   "cell_type": "markdown",
   "metadata": {},
   "source": [
    "Let's rescale the images:"
   ]
  },
  {
   "cell_type": "code",
   "execution_count": 141,
   "metadata": {
    "hideCode": false,
    "hidePrompt": false
   },
   "outputs": [
    {
     "name": "stdout",
     "output_type": "stream",
     "text": [
      "min: 0.0\n",
      "max: 1.0\n"
     ]
    }
   ],
   "source": [
    "X_ZCA_rescaled = (X_ZCA - X_ZCA.min()) / (X_ZCA.max() - X_ZCA.min())\n",
    "print('min:', X_ZCA_rescaled.min())\n",
    "print('max:', X_ZCA_rescaled.max())"
   ]
  },
  {
   "cell_type": "markdown",
   "metadata": {},
   "source": [
    "Finally, we can look at the effect of whitening by comparing an image before and after whitening:"
   ]
  },
  {
   "cell_type": "code",
   "execution_count": 142,
   "metadata": {
    "hideCode": false,
    "hidePrompt": false
   },
   "outputs": [
    {
     "data": {
      "image/png": "[encoded data removed]",
      "text/plain": [
       "<Figure size 108x108 with 1 Axes>"
      ]
     },
     "metadata": {},
     "output_type": "display_data"
    },
    {
     "data": {
      "image/png": "[encoded data removed]",
      "text/plain": [
       "<Figure size 108x108 with 1 Axes>"
      ]
     },
     "metadata": {},
     "output_type": "display_data"
    }
   ],
   "source": [
    "plotImage(X[1, :])\n",
    "plotImage(X_ZCA_rescaled[1, :])"
   ]
  },
  {
   "cell_type": "markdown",
   "metadata": {
    "hideCode": false,
    "hidePrompt": false
   },
   "source": [
    "It looks like the images from the paper [Pal & Sudeep (2016)](https://ieeexplore.ieee.org/document/7808140/). They used `epsilon = 0.1`. You can try other values to see the effect on the image."
   ]
  },
  {
   "cell_type": "markdown",
   "metadata": {
    "hideCode": false,
    "hidePrompt": false
   },
   "source": []
  },
  {
   "cell_type": "markdown",
   "metadata": {
    "hideCode": false,
    "hidePrompt": false
   },
   "source": []
  }
 ],
 "metadata": {
  "hide_code_all_hidden": false,
  "kernelspec": {
   "display_name": "Python 3",
   "language": "python",
   "name": "python3"
  },
  "language_info": {
   "codemirror_mode": {
    "name": "ipython",
    "version": 3
   },
   "file_extension": ".py",
   "mimetype": "text/x-python",
   "name": "python",
   "nbconvert_exporter": "python",
   "pygments_lexer": "ipython3",
   "version": "3.8.3"
  },
  "toc": {
   "base_numbering": 1,
   "nav_menu": {},
   "number_sections": false,
   "sideBar": true,
   "skip_h1_title": false,
   "title_cell": "Table of Contents",
   "title_sidebar": "Contents",
   "toc_cell": false,
   "toc_position": {},
   "toc_section_display": true,
   "toc_window_display": false
  },
  "varInspector": {
   "cols": {
    "lenName": 16,
    "lenType": 16,
    "lenVar": 40
   },
   "kernels_config": {
    "python": {
     "delete_cmd_postfix": "",
     "delete_cmd_prefix": "del ",
     "library": "var_list.py",
     "varRefreshCmd": "print(var_dic_list())"
    },
    "r": {
     "delete_cmd_postfix": ") ",
     "delete_cmd_prefix": "rm(",
     "library": "var_list.r",
     "varRefreshCmd": "cat(var_dic_list()) "
    }
   },
   "types_to_exclude": [
    "module",
    "function",
    "builtin_function_or_method",
    "instance",
    "_Feature"
   ],
   "window_display": false
  }
 },
 "nbformat": 4,
 "nbformat_minor": 2
}
