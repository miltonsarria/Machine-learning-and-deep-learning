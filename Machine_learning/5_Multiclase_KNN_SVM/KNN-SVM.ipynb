{
 "cells": [
  {
   "cell_type": "markdown",
   "metadata": {},
   "source": [
    "## What is K-Nearest Neighbors (KNN)?\n",
    "\n",
    "K-Nearest Neighbors is a machine learning technique and algorithm that can be used for both regression and classification tasks. K-Nearest Neighbors examines the labels of a chosen number of data points surrounding a target data point, in order to make a prediction about the class that the data point falls into. K-Nearest Neighbors (KNN) is a conceptually simple yet very powerful algorithm, and for those reasons, it’s one of the most popular machine learning algorithms. \n",
    "\n",
    "## How a KNN Algorithm Operates\n",
    "\n",
    "A KNN algorithm goes through three main phases as it is carried out:\n",
    "\n",
    "    1. Setting K to the chosen number of neighbors.\n",
    "    2. Calculating the distance between a provided/test example and the dataset examples.\n",
    "    3. Sorting the calculated distances.\n",
    "    4. Getting the labels of the top K entries.\n",
    "    5. Returning a prediction about the test example.\n",
    "\n",
    "In the first step, K is chosen by the user and it tells the algorithm how many neighbors (how many surrounding data points) should be considered when rendering a judgment about the group the target example belongs to. In the second step, note that the model checks the distance between the target example and every example in the dataset. The distances are then added into a list and sorted. Afterward, the sorted list is checked and the labels for the top K elements are returned. In other words, if K is set to 5, the model checks the labels of the top 5 closest data points to the target data point. \n",
    "\n",
    "## Why The Value Of K Matters\n",
    "\n",
    "The main limitation when using KNN is that in an improper value of K (the wrong number of neighbors to be considered) might be chosen. If this happen, the predictions that are returned can be off substantially. It’s very important that, when using a KNN algorithm, the proper value for K is chosen. You want to choose a value for K that maximizes the model’s ability to make predictions on unseen data while reducing the number of errors it makes.\n",
    "\n",
    "## KNN Pros And Cons\n",
    "### Pros:\n",
    "\n",
    "1. KNN can be used for both regression and classification tasks, unlike some other supervised learning algorithms.\n",
    "\n",
    "2. KNN is highly accurate and simple to use. It’s easy to interpret, understand, and implement.\n",
    "\n",
    "3. KNN doesn’t make any assumptions about the data, meaning it can be used for a wide variety of problems.\n",
    "\n",
    "### Cons:\n",
    "\n",
    "1. KNN stores most or all of the data, which means that the model requires a lot of memory and its computationally expensive. Large datasets can also cause predictions to be take a long time.\n",
    "\n",
    "2. KNN proves to be very sensitive to the scale of the dataset and it can be thrown off by irrelevant features fairly easily in comparison to other models.\n",
    "\n",
    "Taken from: https://www.unite.ai/what-is-k-nearest-neighbors/"
   ]
  },
  {
   "cell_type": "markdown",
   "metadata": {},
   "source": [
    "Supose you have 4 data points stored in $X$, and a fith one as a test point stored in $w$. You need to compute the distance to each data point in $X$:\n",
    "\n",
    "$$\n",
    "\\boldsymbol{X}=\n",
    "\\begin{bmatrix}\n",
    "    1 & 1 \\\\\\\\\n",
    "    3 & 2 \\\\\\\\\n",
    "    2 & 1 \\\\\\\\\n",
    "    2 & 2\n",
    "\\end{bmatrix}\n",
    "$$\n",
    "\n",
    "$w=[1,2]$\n",
    "\n",
    "\n",
    "The easiest way is using the euclidean distance, let us consider $x^{(i)}$ the i-th data point in $X$, and $x^{(i)}_j$ the j-th coordinate of that data point. For example $x^{(2)}=[3,2]$ and $x^{(2)}_1 =3$.\n",
    "\n",
    "the distance $d$ from $w$ to $x^{(i)}$ can be calculated as: $d=\\sqrt(\\sum _{j=1} ^2(w_j -x^{(i)}_j)^2 )= \\sqrt((w_1-x^{(i)}_1)^2 + (w_2-x^{(i)}_2)^2 )$. Let's say for example I want to compute the distance from $w$ to $x^{(2)}$. $d = \\sqrt((1-3)^2 + (2-2)^2 ) = 2$. We can compute in the same way the distance from $w$ to the other data points in $X$ and store it in the distance vector $D$:\n",
    "\n",
    "$D = [1,2,1.41,1]$\n",
    "\n",
    "\n",
    "\n",
    "\n",
    "\n"
   ]
  },
  {
   "cell_type": "markdown",
   "metadata": {},
   "source": [
    "## Execise\n",
    "\n",
    "Implemente a code in python to compute the distances from $w$ to each point in $X$"
   ]
  },
  {
   "cell_type": "code",
   "execution_count": 14,
   "metadata": {},
   "outputs": [
    {
     "data": {
      "image/png": "[encoded data removed]",
      "text/plain": [
       "<Figure size 432x288 with 1 Axes>"
      ]
     },
     "metadata": {
      "needs_background": "light"
     },
     "output_type": "display_data"
    }
   ],
   "source": [
    "import numpy as np\n",
    "import matplotlib.pyplot as plt\n",
    "%matplotlib inline\n",
    "X = np.array([[1,1],[3,2],[2,1],[2,2]])\n",
    "w = np.array([1,2])\n",
    "\n",
    "#plot the data points\n",
    "plt.plot(X[:,0],X[:,1],'ro');\n",
    "plt.plot(w[0],w[1],'ks');\n"
   ]
  },
  {
   "cell_type": "code",
   "execution_count": 12,
   "metadata": {},
   "outputs": [
    {
     "name": "stdout",
     "output_type": "stream",
     "text": [
      "[1.         2.         1.41421356 1.        ]\n"
     ]
    }
   ],
   "source": [
    "#your code goes here\n",
    "d = np.sqrt(((X-w)**2).sum(axis=1))\n",
    "print(d)"
   ]
  },
  {
   "cell_type": "code",
   "execution_count": 11,
   "metadata": {},
   "outputs": [
    {
     "name": "stdout",
     "output_type": "stream",
     "text": [
      "[1.         1.         1.41421356 2.        ]\n"
     ]
    }
   ],
   "source": [
    "#sort the distances\n",
    "print(np.sort(d))\n",
    "#which is the closest data point in X to w"
   ]
  },
  {
   "cell_type": "code",
   "execution_count": 13,
   "metadata": {},
   "outputs": [
    {
     "name": "stdout",
     "output_type": "stream",
     "text": [
      "x:\n",
      " [[ 1  2]\n",
      " [ 3  4]\n",
      " [ 5  6]\n",
      " [ 7  8]\n",
      " [ 9 10]\n",
      " [11 12]\n",
      " [13 14]\n",
      " [15 16]\n",
      " [17 18]\n",
      " [19 20]\n",
      " [21 22]\n",
      " [23 24]]\n",
      "y: \n",
      " [0 1 1 0 1 0 0 1 1 0 1 0]\n"
     ]
    }
   ],
   "source": [
    "from sklearn.model_selection import train_test_split\n",
    "x = np.arange(1, 25).reshape(12, 2)\n",
    "y = np.array([0, 1, 1, 0, 1, 0, 0, 1, 1, 0, 1, 0])\n",
    "print('x:\\n',x)\n",
    "print('y: \\n',y)\n"
   ]
  },
  {
   "cell_type": "code",
   "execution_count": 26,
   "metadata": {},
   "outputs": [
    {
     "name": "stdout",
     "output_type": "stream",
     "text": [
      "x train:\n",
      " [[ 9 10]\n",
      " [ 1  2]\n",
      " [17 18]\n",
      " [23 24]\n",
      " [19 20]\n",
      " [15 16]\n",
      " [11 12]\n",
      " [ 5  6]\n",
      " [13 14]]\n",
      "y train: \n",
      " [1 0 1 0 0 1 0 1 0]\n",
      "x test: \n",
      " [[ 3  4]\n",
      " [21 22]\n",
      " [ 7  8]]\n",
      "y test: \n",
      " [1 1 0]\n"
     ]
    }
   ],
   "source": [
    "x_train, x_test, y_train, y_test = train_test_split(x, y)\n",
    "print('x train:\\n', x_train)\n",
    "print('y train: \\n',y_train)\n",
    "print('x test: \\n',x_test)\n",
    "print('y test: \\n',y_test)"
   ]
  },
  {
   "cell_type": "code",
   "execution_count": null,
   "metadata": {},
   "outputs": [],
   "source": [
    "#use x_train and y_train to predict y_test given x_test\n",
    "#your code"
   ]
  },
  {
   "cell_type": "markdown",
   "metadata": {},
   "source": [
    "# Using iris\n",
    "Let's load the iris data set and perform some experiments\n"
   ]
  },
  {
   "cell_type": "code",
   "execution_count": 15,
   "metadata": {},
   "outputs": [],
   "source": [
    "################################################################################################\n",
    "################################################################################################\n",
    "def loadIris():\n",
    "    #define the name of the data file and the labels\n",
    "    file_name='data_lb1/iris2.data'\n",
    "    data=np.loadtxt(file_name,delimiter=',') \n",
    "    #read all lines\n",
    "    X=data[:,:-1]\n",
    "    Y=data[:,-1]\n",
    "\n",
    "    \n",
    "    return X,Y"
   ]
  },
  {
   "cell_type": "code",
   "execution_count": 17,
   "metadata": {},
   "outputs": [],
   "source": [
    "X,y = loadIris()\n",
    "\n",
    "x_train, x_test, y_train, y_test = train_test_split(X, y,test_size=0.3)"
   ]
  },
  {
   "cell_type": "code",
   "execution_count": 22,
   "metadata": {},
   "outputs": [
    {
     "name": "stdout",
     "output_type": "stream",
     "text": [
      "Tiempo total entrenamiento: 0.0012156963348388672 segundos\n",
      "Tiempo total evaluando: 0.0030090808868408203 segundos\n",
      "KNN score: 0.977778\n"
     ]
    }
   ],
   "source": [
    "from sklearn.neighbors import KNeighborsClassifier\n",
    "from sklearn.linear_model import LogisticRegression\n",
    "import time\n",
    "logistic = LogisticRegression(max_iter=1000, multi_class='ovr', solver='liblinear')\n",
    "knn = KNeighborsClassifier(n_neighbors=1)\n",
    "\n",
    "\n",
    "#train \n",
    "start = time.time()#inicar medida del tiempo\n",
    "knn.fit(x_train, y_train)\n",
    "end = time.time() #tomar el tiempo final\n",
    "total=end - start\n",
    "\n",
    "print('Tiempo total entrenamiento: ' + str(total) + ' segundos')\n",
    "\n",
    "start = time.time()#inicar medida del tiempo\n",
    "score= knn.score(x_test, y_test)\n",
    "end = time.time() #tomar el tiempo final\n",
    "total=end - start\n",
    "\n",
    "print('Tiempo total evaluando: ' + str(total) + ' segundos')\n",
    "\n",
    "\n",
    "print('KNN score: %f' % score)"
   ]
  },
  {
   "cell_type": "markdown",
   "metadata": {},
   "source": [
    "# Support Vector Machines"
   ]
  },
  {
   "cell_type": "markdown",
   "metadata": {},
   "source": [
    "SVMs are among the best (and many believe are indeed the best) “off-the-shelf” supervised learning algorithm. To tell the SVM story, we’ll need to first talk about margins and the idea of separating data with a large “gap.” Next, we’ll talk about the optimal margin classifier, which will lead us into a digression on Lagrange duality. We’ll also see kernels, which give a way to apply SVMs efficiently in very high dimensional (such as infinite-\n",
    "dimensional) feature spaces."
   ]
  },
  {
   "cell_type": "markdown",
   "metadata": {},
   "source": [
    "### Exercise 1\n",
    "lets implement the Gaussian kernel\n",
    "\n",
    "Given two data examples, $(x^i,y^i)$ and $(x^j,y^j)$, where the input vectors $x$ have $n$ features. The Gaussian kernel is defined as:\n",
    "\n",
    "\n",
    "$K(x^i,x^j)= exp(-\\frac{|x^i-x^j|^2}{2\\sigma^ 2}) = exp(-\\frac{\\sum_{k=1} ^ n (x^i _k-x^j _k)^2}{2\\sigma^2})$\n",
    "\n",
    "\n",
    "Parameter $\\sigma$ controls the decay speed as the vectors $x^i$ and $x^j$ go appart.\n",
    "\n",
    "### Your task\n",
    "Implement a  function to compute the Gaussian Kernel, it should receive two feature vectors and a parameter $\\sigma$\n"
   ]
  },
  {
   "cell_type": "markdown",
   "metadata": {},
   "source": [
    "Once you’ve completed the function gaussianKernel, the next cell  will test your kernel function on two provided examples and you should expect to see a value of 0.324652."
   ]
  },
  {
   "cell_type": "code",
   "execution_count": 3,
   "metadata": {},
   "outputs": [],
   "source": [
    "import numpy as np"
   ]
  },
  {
   "cell_type": "code",
   "execution_count": 23,
   "metadata": {},
   "outputs": [],
   "source": [
    "def gaussianKernel(x1,x2,sigma):\n",
    "    K=0\n",
    "    #your code here\n",
    "    K=np.exp(-((x1-x2)**2).sum()/sigma**2)\n",
    "    #\n",
    "    return K\n",
    "    "
   ]
  },
  {
   "cell_type": "code",
   "execution_count": 28,
   "metadata": {},
   "outputs": [
    {
     "name": "stdout",
     "output_type": "stream",
     "text": [
      "2.061153622438558e-09\n"
     ]
    }
   ],
   "source": [
    "x1 = np.array([1, 2])\n",
    "x2 = np.array([0, 4]) \n",
    "sigma = 0.5;\n",
    "K = gaussianKernel(x1, x2, sigma)\n",
    "print(K)"
   ]
  },
  {
   "cell_type": "markdown",
   "metadata": {},
   "source": [
    "### Exercise 2\n",
    "We will begin by with a 2D example dataset which can be separated by a linear boundary. The script will plot the training data. In this dataset, the positions of the positive examples (indicated with +) and the negative examples (indicated with o) suggest a natural separation indicated by the gap. However, notice that there is an outlier positive example + on the far left at about (0.1, 4.1). As part of this exercise, you will also see how\n",
    "this outlier affects the SVM decision boundary.\n"
   ]
  },
  {
   "cell_type": "code",
   "execution_count": 29,
   "metadata": {},
   "outputs": [],
   "source": [
    "import matplotlib.pyplot as plt\n",
    "from sklearn.linear_model import LogisticRegression\n",
    "from sklearn import svm\n",
    "%matplotlib inline\n",
    "########################################################################################\n",
    "def plot_hyperplane(clf, min_x, max_x, linestyle, label):\n",
    "    w = clf.coef_[0]\n",
    "    a = -w[0] / w[1]\n",
    "    xx = np.linspace(min_x - 2, max_x + 2)  # make sure the line is long enough\n",
    "    yy = a * xx - (clf.intercept_[0]) / w[1]\n",
    "    plt.plot(xx, yy, linestyle, label=label)\n"
   ]
  },
  {
   "cell_type": "markdown",
   "metadata": {},
   "source": [
    "In this part of the exercise, you will try using different values of the C parameter with SVMs. Informally, the C parameter is a positive value that controls the penalty for misclassified training examples. A large C parameter tells the SVM to try to classify all the examples correctly. C plays a role similar to $\\frac{1}{\\lambda}$, where $\\lambda$ is the regularization parameter that we were using previously for logistic regression.\n",
    "\n",
    "The next part in run the SVM training (with C = 1) using SVM software that I have included with the starter code, \n",
    "When C = 1, you should find that the SVM puts the decision boundary in the gap between the two datasets and misclassifies the data point on the far left."
   ]
  },
  {
   "cell_type": "code",
   "execution_count": 37,
   "metadata": {},
   "outputs": [
    {
     "data": {
      "image/png": "[encoded data removed]",
      "text/plain": [
       "<Figure size 576x432 with 1 Axes>"
      ]
     },
     "metadata": {
      "needs_background": "light"
     },
     "output_type": "display_data"
    }
   ],
   "source": [
    "########################################################################################\n",
    "#cargar dataset1\n",
    "data=np.loadtxt('svm/dataset1.data',delimiter=',')\n",
    "X=data[:,:2]\n",
    "Y=data[:,2].astype(int)\n",
    "########################\n",
    "##graficar datos\n",
    "plt.figure(figsize=(8, 6))\n",
    "\n",
    "plt.plot(X[Y==0,0],X[Y==0,1],'+r')\n",
    "plt.plot(X[Y==1,0],X[Y==1,1],'ob')\n",
    "#create classifiers\n",
    "C = 50   # parametro de regularizacion de la svm\n",
    "clf_lin  = svm.SVC(kernel='linear',C=C)\n",
    "\n",
    "#entrenar\n",
    "clf_lin.fit(X, Y)\n",
    "#graficar frontera\n",
    "min_x=X[:,0].min()\n",
    "max_x=X[:,0].max()\n",
    "\n",
    "plot_hyperplane(clf_lin, min_x, max_x, 'k--', label= 'Boundary')\n",
    "plt.legend();\n"
   ]
  },
  {
   "cell_type": "markdown",
   "metadata": {},
   "source": [
    "### Your task\n",
    "Your task is to try different values of C on this dataset. Specifically, you should change the value of C in the script to C = 100 and run the SVM training again. When C = 100, you should find that the SVM now classifies\n",
    "every single example correctly, but has a decision boundary that does not appear to be a natural fit for the data"
   ]
  },
  {
   "cell_type": "markdown",
   "metadata": {},
   "source": [
    "### Excercise 3\n",
    "The next part  will load and plot dataset 2. From the plot, you can obserse that there is no linear decision boundary that separates the positive and negative examples for this dataset. However, by using the Gaussian kernel with the SVM, you will be able to learn a non-linear\n",
    "decision boundary that can perform reasonably well for the dataset."
   ]
  },
  {
   "cell_type": "markdown",
   "metadata": {},
   "source": [
    "### Your task\n",
    "You should change the parameter gamma, it is associated with the parameter $\\sigma$, from the first equation.You should not use values higher than 50.\n",
    "\n",
    "What is the effect of changing the parameter gamma?"
   ]
  },
  {
   "cell_type": "code",
   "execution_count": 49,
   "metadata": {},
   "outputs": [
    {
     "data": {
      "image/png": "[encoded data removed]",
      "text/plain": [
       "<Figure size 576x432 with 1 Axes>"
      ]
     },
     "metadata": {
      "needs_background": "light"
     },
     "output_type": "display_data"
    }
   ],
   "source": [
    "########################################################################################\n",
    "def plot_hyperplane(clf, X):\n",
    "    # create a mesh to plot in\n",
    "    h=0.01\n",
    "    x_min, x_max = X[:, 0].min() - 0.1, X[:, 0].max() + 0.1\n",
    "    y_min, y_max = X[:, 1].min() - 0.1, X[:, 1].max() + 0.1\n",
    "    xx, yy = np.meshgrid(np.arange(x_min, x_max, h),\n",
    "                     np.arange(y_min, y_max, h))\n",
    "    Z = clf.predict(np.c_[xx.ravel(), yy.ravel()])\n",
    "    # Put the result into a color plot\n",
    "    Z = Z.reshape(xx.shape)\n",
    "\n",
    "    CS=plt.contourf(xx, yy, Z,cmap=plt.cm.bone,alpha=0.5)\n",
    "    #CS.cmap.set_under('yellow')\n",
    "    #CS.cmap.set_over('cyan')\n",
    "\n",
    "########################################################################################\n",
    "#cargar dataset2\n",
    "data=np.loadtxt('svm/dataset2.data',delimiter=',')\n",
    "X=data[:,:2]\n",
    "Y=data[:,2].astype(int)\n",
    "########################\n",
    "##graficar datos\n",
    "plt.figure(figsize=(8, 6))\n",
    "\n",
    "plt.plot(X[Y==0,0],X[Y==0,1],'or')\n",
    "plt.plot(X[Y==1,0],X[Y==1,1],'ob')\n",
    "########################################################################\n",
    "#create classifiers\n",
    "C    = 100  # parametro de regularizacion de la svm\n",
    "gamma= 50 #parametro gamma de la funcion de base radial\n",
    "clf_rbf     = svm.SVC(kernel='rbf', gamma=gamma, C=C)\n",
    "#entrenar\n",
    "clf_rbf.fit(X, Y)\n",
    "\n",
    "#graficar frontera\n",
    "plot_hyperplane(clf_rbf,X)\n",
    "\n"
   ]
  },
  {
   "cell_type": "code",
   "execution_count": null,
   "metadata": {},
   "outputs": [],
   "source": []
  },
  {
   "cell_type": "markdown",
   "metadata": {},
   "source": [
    "### Exercise 4\n",
    "In this part of the exercise, you will gain more practical skills on how to use a SVM with a Gaussian kernel. The next part will load and display a third dataset. You will be using the SVM with the Gaussian kernel with this dataset."
   ]
  },
  {
   "cell_type": "markdown",
   "metadata": {},
   "source": [
    "In the provided dataset, data3, you are given the variables X, y, X_test, y_test. The provided code trains the SVM classifier using the training set (X, y) with some initial parameters. Your task is to use the cross validation set X_test, y_test to determine the best C and gamma parameters to use. You should write any additional code necessary to help you search over the parameters C and gamma. For both C and gamma, It is  suggested trying values in multiplicative steps (e.g., 0.01, 0.03, 0.1, 0.3, 1, 3, 10, 30).\n",
    "\n",
    "Note that you should try all possible pairs of values for C and gamma (e.g., C = 0.3 and gamma = 0.1). For example, if you try each of the 8 values listed above for C\n",
    "and for gamma , you would end up training and evaluating (on the cross validation set) a total of 8 x 8 = 64 different models."
   ]
  },
  {
   "cell_type": "code",
   "execution_count": 60,
   "metadata": {
    "scrolled": false
   },
   "outputs": [
    {
     "name": "stdout",
     "output_type": "stream",
     "text": [
      "96.0\n"
     ]
    },
    {
     "data": {
      "image/png": "[encoded data removed]",
      "text/plain": [
       "<Figure size 576x432 with 1 Axes>"
      ]
     },
     "metadata": {
      "needs_background": "light"
     },
     "output_type": "display_data"
    }
   ],
   "source": [
    "########################################################################################\n",
    "def plot_hyperplane(clf, X):\n",
    "    # create a mesh to plot in\n",
    "    h=0.01\n",
    "    x_min, x_max = X[:, 0].min() - 0.1, X[:, 0].max() + 0.1\n",
    "    y_min, y_max = X[:, 1].min() - 0.1, X[:, 1].max() + 0.1\n",
    "    xx, yy = np.meshgrid(np.arange(x_min, x_max, h),\n",
    "                     np.arange(y_min, y_max, h))\n",
    "    Z = clf.predict(np.c_[xx.ravel(), yy.ravel()])\n",
    "    # Put the result into a color plot\n",
    "    Z = Z.reshape(xx.shape)\n",
    "\n",
    "    CS=plt.contourf(xx, yy, Z,cmap=plt.cm.bone,alpha=0.5)\n",
    "    #CS.cmap.set_under('yellow')\n",
    "    #CS.cmap.set_over('cyan')\n",
    "\n",
    "\n",
    "########################################################################################\n",
    "#cargar dataset3: conjunto de entrenamiento y conjunto de prueba\n",
    "data=np.loadtxt('svm/dataset3_train.data',delimiter=',')\n",
    "X=data[:,:2]\n",
    "y=data[:,2].astype(int)\n",
    "data=np.loadtxt('svm/dataset3_test.data',delimiter=',')\n",
    "X_test=data[:,:2]\n",
    "y_test=data[:,2].astype(int)\n",
    "\n",
    "########################\n",
    "\n",
    "##graficar datos de entrenamiento\n",
    "plt.figure(figsize=(8, 6))\n",
    "\n",
    "plt.plot(X[y==0,0],X[y==0,1],'or')\n",
    "plt.plot(X[y==1,0],X[y==1,1],'ob')\n",
    "\n",
    "########################################################################\n",
    "C=np.array([0.01, 0.03, 0.1,0.3, 1,3,10,30])       \n",
    "gamma=np.array([0.01, 0.03, 0.1,0.3, 1,3,10,30])\n",
    "## su codigo va aqui #########\n",
    "\n",
    "#por ejemplo para un par de valores, los primeros de cada vector\n",
    "clf_rbf     = svm.SVC(kernel='rbf', gamma=gamma[7], C=C[7])\n",
    "#entrenar\n",
    "clf_rbf.fit(X, y)\n",
    "y_pred = clf_rbf.predict(X_test)\n",
    "por  = (y_test==y_pred).sum()/y_test.size*100\n",
    "print(por)\n",
    "\n",
    "\n",
    "  \n",
    "#graficar frontera para el mejor par (C,gamma)\n",
    "plot_hyperplane(clf_rbf,X)\n",
    "\n",
    "\n",
    "plt.show()\n",
    "\n"
   ]
  },
  {
   "cell_type": "code",
   "execution_count": 54,
   "metadata": {},
   "outputs": [
    {
     "data": {
      "text/plain": [
       "(211, 2)"
      ]
     },
     "execution_count": 54,
     "metadata": {},
     "output_type": "execute_result"
    }
   ],
   "source": [
    "X.shape"
   ]
  },
  {
   "cell_type": "code",
   "execution_count": 55,
   "metadata": {},
   "outputs": [
    {
     "data": {
      "text/plain": [
       "(211,)"
      ]
     },
     "execution_count": 55,
     "metadata": {},
     "output_type": "execute_result"
    }
   ],
   "source": [
    "y.shape"
   ]
  },
  {
   "cell_type": "markdown",
   "metadata": {},
   "source": [
    "## Your conclussions?"
   ]
  },
  {
   "cell_type": "code",
   "execution_count": null,
   "metadata": {},
   "outputs": [],
   "source": []
  }
 ],
 "metadata": {
  "kernelspec": {
   "display_name": "Python 3 (ipykernel)",
   "language": "python",
   "name": "python3"
  },
  "language_info": {
   "codemirror_mode": {
    "name": "ipython",
    "version": 3
   },
   "file_extension": ".py",
   "mimetype": "text/x-python",
   "name": "python",
   "nbconvert_exporter": "python",
   "pygments_lexer": "ipython3",
   "version": "3.9.12"
  }
 },
 "nbformat": 4,
 "nbformat_minor": 4
}
