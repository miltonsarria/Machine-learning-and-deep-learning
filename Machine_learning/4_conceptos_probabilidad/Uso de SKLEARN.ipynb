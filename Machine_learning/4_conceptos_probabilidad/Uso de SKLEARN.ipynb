{
 "cells": [
  {
   "cell_type": "markdown",
   "metadata": {},
   "source": [
    "## Regresion lineal"
   ]
  },
  {
   "cell_type": "code",
   "execution_count": 31,
   "metadata": {},
   "outputs": [],
   "source": [
    "import numpy as np\n",
    "import matplotlib.pyplot as plt\n",
    "from sklearn.linear_model import LinearRegression\n",
    "\n",
    "%matplotlib inline"
   ]
  },
  {
   "cell_type": "code",
   "execution_count": 30,
   "metadata": {},
   "outputs": [
    {
     "name": "stdout",
     "output_type": "stream",
     "text": [
      "Requirement already satisfied: scikit-learn in c:\\users\\sarria\\anaconda3\\lib\\site-packages (1.0.2)\n",
      "Requirement already satisfied: scipy>=1.1.0 in c:\\users\\sarria\\anaconda3\\lib\\site-packages (from scikit-learn) (1.7.3)\n",
      "Requirement already satisfied: threadpoolctl>=2.0.0 in c:\\users\\sarria\\anaconda3\\lib\\site-packages (from scikit-learn) (2.2.0)\n",
      "Requirement already satisfied: numpy>=1.14.6 in c:\\users\\sarria\\anaconda3\\lib\\site-packages (from scikit-learn) (1.21.5)\n",
      "Requirement already satisfied: joblib>=0.11 in c:\\users\\sarria\\anaconda3\\lib\\site-packages (from scikit-learn) (1.1.0)\n"
     ]
    }
   ],
   "source": [
    "!pip install scikit-learn"
   ]
  },
  {
   "cell_type": "code",
   "execution_count": 32,
   "metadata": {},
   "outputs": [],
   "source": [
    "### cargar datos\n",
    "file_name='datosML/linear.data'\n",
    "data=np.loadtxt(file_name,delimiter=',') \n",
    "X=data[:,0]\n",
    "Y=data[:,1]"
   ]
  },
  {
   "cell_type": "code",
   "execution_count": 33,
   "metadata": {},
   "outputs": [
    {
     "data": {
      "text/plain": [
       "array([[ 5.     , 18.28972],\n",
       "       [ 5.07538, 14.5965 ],\n",
       "       [ 5.15075, 14.45794],\n",
       "       [ 5.22613, 12.69562],\n",
       "       [ 5.30151, 17.89665],\n",
       "       [ 5.37688, 18.54424],\n",
       "       [ 5.45226, 13.26409],\n",
       "       [ 5.52764, 10.97219],\n",
       "       [ 5.60302, 17.80032],\n",
       "       [ 5.67839, 15.41688],\n",
       "       [ 5.75377, 15.65412],\n",
       "       [ 5.82915, 12.86988],\n",
       "       [ 5.90452, 16.64612],\n",
       "       [ 5.9799 , 13.41926],\n",
       "       [ 6.05528, 15.67941],\n",
       "       [ 6.13065, 20.1247 ],\n",
       "       [ 6.20603, 16.98202],\n",
       "       [ 6.28141, 19.53321],\n",
       "       [ 6.35678, 16.52009],\n",
       "       [ 6.43216, 17.87633],\n",
       "       [ 6.50754, 14.01981],\n",
       "       [ 6.58291, 17.44618],\n",
       "       [ 6.65829, 18.07654],\n",
       "       [ 6.73367, 18.3747 ],\n",
       "       [ 6.80905, 18.39733],\n",
       "       [ 6.88442, 18.91512],\n",
       "       [ 6.9598 , 17.93191],\n",
       "       [ 7.03518, 15.00155],\n",
       "       [ 7.11055, 17.14027],\n",
       "       [ 7.18593, 19.99612],\n",
       "       [ 7.26131, 18.71122],\n",
       "       [ 7.33668, 20.545  ],\n",
       "       [ 7.41206, 17.52333],\n",
       "       [ 7.48744, 20.79583],\n",
       "       [ 7.56281, 20.05468],\n",
       "       [ 7.63819, 19.14045],\n",
       "       [ 7.71357, 21.83345],\n",
       "       [ 7.78894, 19.69903],\n",
       "       [ 7.86432, 19.10983],\n",
       "       [ 7.9397 , 20.34136],\n",
       "       [ 8.01508, 21.37659],\n",
       "       [ 8.09045, 21.18149],\n",
       "       [ 8.16583, 21.85685],\n",
       "       [ 8.24121, 22.71316],\n",
       "       [ 8.31658, 17.17523],\n",
       "       [ 8.39196, 23.50961],\n",
       "       [ 8.46734, 21.93767],\n",
       "       [ 8.54271, 22.87853],\n",
       "       [ 8.61809, 22.63046],\n",
       "       [ 8.69347, 26.56658],\n",
       "       [ 8.76884, 25.10933],\n",
       "       [ 8.84422, 18.62533],\n",
       "       [ 8.9196 , 20.68098],\n",
       "       [ 8.99497, 24.92412],\n",
       "       [ 9.07035, 22.26316],\n",
       "       [ 9.14573, 24.11543],\n",
       "       [ 9.22111, 24.67353],\n",
       "       [ 9.29648, 20.63055],\n",
       "       [ 9.37186, 22.28281],\n",
       "       [ 9.44724, 25.12263],\n",
       "       [ 9.52261, 21.97036],\n",
       "       [ 9.59799, 23.68933],\n",
       "       [ 9.67337, 25.23338],\n",
       "       [ 9.74874, 27.39579],\n",
       "       [ 9.82412, 21.60877],\n",
       "       [ 9.8995 , 27.13172],\n",
       "       [ 9.97487, 25.79681],\n",
       "       [10.05025, 23.83825],\n",
       "       [10.12563, 25.95536],\n",
       "       [10.20101, 27.43868],\n",
       "       [10.27638, 24.21631],\n",
       "       [10.35176, 24.78097],\n",
       "       [10.42714, 24.3015 ],\n",
       "       [10.50251, 25.80648],\n",
       "       [10.57789, 26.01574],\n",
       "       [10.65327, 26.46688],\n",
       "       [10.72864, 26.82482],\n",
       "       [10.80402, 25.25237],\n",
       "       [10.8794 , 25.69945],\n",
       "       [10.95477, 29.81868],\n",
       "       [11.03015, 28.31772],\n",
       "       [11.10553, 27.60288],\n",
       "       [11.1809 , 29.42159],\n",
       "       [11.25628, 25.90411],\n",
       "       [11.33166, 29.92689],\n",
       "       [11.40704, 26.81589],\n",
       "       [11.48241, 24.91078],\n",
       "       [11.55779, 28.04244],\n",
       "       [11.63317, 33.44519],\n",
       "       [11.70854, 27.53996],\n",
       "       [11.78392, 24.01989],\n",
       "       [11.8593 , 28.8122 ],\n",
       "       [11.93467, 27.51355],\n",
       "       [12.01005, 27.39748],\n",
       "       [12.08543, 27.99705],\n",
       "       [12.1608 , 31.31325],\n",
       "       [12.23618, 28.89189],\n",
       "       [12.31156, 29.84539],\n",
       "       [12.38693, 31.55844],\n",
       "       [12.46231, 33.718  ],\n",
       "       [12.53769, 32.74111],\n",
       "       [12.61307, 31.00337],\n",
       "       [12.68844, 30.79999],\n",
       "       [12.76382, 30.06183],\n",
       "       [12.8392 , 31.14456],\n",
       "       [12.91457, 33.97068],\n",
       "       [12.98995, 32.71545],\n",
       "       [13.06533, 31.20096],\n",
       "       [13.1407 , 30.50397],\n",
       "       [13.21608, 30.06755],\n",
       "       [13.29146, 30.01865],\n",
       "       [13.36683, 33.11777],\n",
       "       [13.44221, 34.09029],\n",
       "       [13.51759, 35.79551],\n",
       "       [13.59296, 31.56466],\n",
       "       [13.66834, 33.56911],\n",
       "       [13.74372, 32.4131 ],\n",
       "       [13.8191 , 35.95668],\n",
       "       [13.89447, 32.85741],\n",
       "       [13.96985, 33.56183],\n",
       "       [14.04523, 36.88876],\n",
       "       [14.1206 , 36.16466],\n",
       "       [14.19598, 35.75205],\n",
       "       [14.27136, 33.0513 ],\n",
       "       [14.34673, 38.56249],\n",
       "       [14.42211, 37.03526],\n",
       "       [14.49749, 34.24473],\n",
       "       [14.57286, 36.87932],\n",
       "       [14.64824, 33.6903 ],\n",
       "       [14.72362, 35.64055],\n",
       "       [14.79899, 34.60775],\n",
       "       [14.87437, 34.19285],\n",
       "       [14.94975, 39.73435],\n",
       "       [15.02513, 35.21651],\n",
       "       [15.1005 , 39.73276],\n",
       "       [15.17588, 36.77942],\n",
       "       [15.25126, 36.88659],\n",
       "       [15.32663, 35.26192],\n",
       "       [15.40201, 38.10402],\n",
       "       [15.47739, 36.87972],\n",
       "       [15.55276, 36.02632],\n",
       "       [15.62814, 38.76673],\n",
       "       [15.70352, 39.08568],\n",
       "       [15.77889, 40.47456],\n",
       "       [15.85427, 34.75748],\n",
       "       [15.92965, 36.3031 ],\n",
       "       [16.00503, 39.13388],\n",
       "       [16.0804 , 37.89888],\n",
       "       [16.15578, 37.77686],\n",
       "       [16.23116, 37.46742],\n",
       "       [16.30653, 39.41132],\n",
       "       [16.38191, 39.66348],\n",
       "       [16.45729, 41.56495],\n",
       "       [16.53266, 37.88142],\n",
       "       [16.60804, 41.7843 ],\n",
       "       [16.68342, 37.9725 ],\n",
       "       [16.75879, 41.44321],\n",
       "       [16.83417, 42.21674],\n",
       "       [16.90955, 37.99403],\n",
       "       [16.98492, 39.09853],\n",
       "       [17.0603 , 42.15026],\n",
       "       [17.13568, 39.44539],\n",
       "       [17.21106, 39.80911],\n",
       "       [17.28643, 42.7307 ],\n",
       "       [17.36181, 40.31314],\n",
       "       [17.43719, 41.25612],\n",
       "       [17.51256, 41.11077],\n",
       "       [17.58794, 37.80687],\n",
       "       [17.66332, 39.66744],\n",
       "       [17.73869, 40.65297],\n",
       "       [17.81407, 41.51692],\n",
       "       [17.88945, 41.74033],\n",
       "       [17.96482, 42.66037],\n",
       "       [18.0402 , 44.02314],\n",
       "       [18.11558, 47.43946],\n",
       "       [18.19095, 43.65872],\n",
       "       [18.26633, 45.50884],\n",
       "       [18.34171, 45.29001],\n",
       "       [18.41709, 47.29379],\n",
       "       [18.49246, 42.90832],\n",
       "       [18.56784, 42.3076 ],\n",
       "       [18.64322, 44.18969],\n",
       "       [18.71859, 41.92968],\n",
       "       [18.79397, 50.35708],\n",
       "       [18.86935, 45.26831],\n",
       "       [18.94472, 47.89536],\n",
       "       [19.0201 , 45.93484],\n",
       "       [19.09548, 42.43012],\n",
       "       [19.17085, 43.23492],\n",
       "       [19.24623, 45.63296],\n",
       "       [19.32161, 46.49489],\n",
       "       [19.39698, 47.26469],\n",
       "       [19.47236, 49.52347],\n",
       "       [19.54774, 44.76813],\n",
       "       [19.62312, 45.5426 ],\n",
       "       [19.69849, 45.62975],\n",
       "       [19.77387, 46.6076 ],\n",
       "       [19.84925, 44.54629],\n",
       "       [19.92462, 44.40163],\n",
       "       [20.     , 44.90085]])"
      ]
     },
     "execution_count": 33,
     "metadata": {},
     "output_type": "execute_result"
    }
   ],
   "source": [
    "data"
   ]
  },
  {
   "cell_type": "code",
   "execution_count": 34,
   "metadata": {},
   "outputs": [
    {
     "name": "stdout",
     "output_type": "stream",
     "text": [
      "[2.20521858]\n",
      "3.0838057356144617\n"
     ]
    },
    {
     "data": {
      "text/plain": [
       "[<matplotlib.lines.Line2D at 0x1f729abd160>]"
      ]
     },
     "execution_count": 34,
     "metadata": {},
     "output_type": "execute_result"
    },
    {
     "data": {
      "image/png": "[encoded data removed]",
      "text/plain": [
       "<Figure size 432x288 with 1 Axes>"
      ]
     },
     "metadata": {
      "needs_background": "light"
     },
     "output_type": "display_data"
    }
   ],
   "source": [
    "reg = LinearRegression()\n",
    "#notar que X.reshape(-1,1) es necesario porque x contiene una sola variable\n",
    "#si X contiene mas variables, solo se debe garantizar que cada col. es una var.\n",
    "reg.fit(X.reshape(-1, 1), Y)\n",
    "#observar los coeficientes\n",
    "print(reg.coef_)\n",
    "#observar el intercepto\n",
    "print(reg.intercept_)\n",
    "\n",
    "\n",
    "#graficar, primero trazar una recta usando el modelo estimado, luego graficar los datos reales\n",
    "xx=np.linspace(-3,25,100)\n",
    "yy=reg.predict(xx.reshape(-1, 1))\n",
    "\n",
    "##\n",
    "plt.plot(xx,yy)\n",
    "plt.plot(X,Y,'.')"
   ]
  },
  {
   "cell_type": "code",
   "execution_count": 38,
   "metadata": {},
   "outputs": [
    {
     "name": "stdout",
     "output_type": "stream",
     "text": [
      "14.109898621368677 18.28972 -4.179821378631322\n"
     ]
    }
   ],
   "source": [
    "#predecir valores\n",
    "y_pred=reg.predict(X.reshape(-1, 1))\n",
    "print(y_pred[0],Y[0],y_pred[0]-Y[0])"
   ]
  },
  {
   "cell_type": "code",
   "execution_count": 6,
   "metadata": {},
   "outputs": [
    {
     "data": {
      "text/plain": [
       "1.946475091043227"
      ]
     },
     "execution_count": 6,
     "metadata": {},
     "output_type": "execute_result"
    }
   ],
   "source": [
    "rmse = np.sqrt( ((Y -y_pred)**2).mean()); \n",
    "rmse"
   ]
  },
  {
   "cell_type": "code",
   "execution_count": 89,
   "metadata": {},
   "outputs": [
    {
     "name": "stdout",
     "output_type": "stream",
     "text": [
      "X shape:  (506, 13)\n",
      "Y shape (506,)\n"
     ]
    }
   ],
   "source": [
    "### cargar datos\n",
    "file_name='datosML/housing2.data'\n",
    "data=np.loadtxt(file_name,delimiter=',') \n",
    "#guardar en X las primeras 13 variables\n",
    "#guardar en Y la ultima col. es decir en data la col 13\n",
    "X=data[:,:13]\n",
    "Y=data[:,13]\n",
    "print('X shape: ',X.shape)\n",
    "print('Y shape', Y.shape)"
   ]
  },
  {
   "cell_type": "code",
   "execution_count": 49,
   "metadata": {},
   "outputs": [
    {
     "name": "stdout",
     "output_type": "stream",
     "text": [
      "[-1.59939124e-01  3.88736529e-02 -2.79218568e-02  3.21656919e+00\n",
      " -2.04845602e+01  6.12307209e+00 -4.59320518e-02 -1.55491228e+00\n",
      "  2.81575033e-01 -1.17383824e-02 -1.01422283e+00  1.36208333e-02]\n",
      "20.65262802491497\n",
      "27.866501450412326 24.0 3.8665014504123256\n",
      "5.16326781411981\n"
     ]
    }
   ],
   "source": [
    "reg = LinearRegression()\n",
    "reg.fit(X, Y)\n",
    "#observar los coeficientes\n",
    "print(reg.coef_)\n",
    "#observar el intercepto\n",
    "print(reg.intercept_)\n",
    "y_pred=reg.predict(X)\n",
    "print(y_pred[0],Y[0],y_pred[0]-Y[0])\n",
    "rmse = np.sqrt( ((Y -y_pred)**2).mean()); \n",
    "print(rmse)"
   ]
  },
  {
   "cell_type": "code",
   "execution_count": 51,
   "metadata": {},
   "outputs": [
    {
     "name": "stdout",
     "output_type": "stream",
     "text": [
      "(506, 14)\n",
      "[-0.35207832  0.11610909]\n",
      "22.485628113468223\n",
      "24.573366631705547 24.0 0.5733666317055466\n",
      "8.041539407706544\n"
     ]
    }
   ],
   "source": [
    "### cargar datos\n",
    "file_name='datosML/housing2.data'\n",
    "data=np.loadtxt(file_name,delimiter=',') \n",
    "print(data.shape)\n",
    "X=data[:,:2]\n",
    "Y=data[:,13]\n",
    "reg = LinearRegression()\n",
    "reg.fit(X, Y)\n",
    "#observar los coeficientes\n",
    "print(reg.coef_)\n",
    "#observar el intercepto\n",
    "print(reg.intercept_)\n",
    "y_pred=reg.predict(X)\n",
    "print(y_pred[0],Y[0],y_pred[0]-Y[0])\n",
    "rmse = np.sqrt( ((Y -y_pred)**2).mean()); \n",
    "print(rmse)"
   ]
  },
  {
   "cell_type": "markdown",
   "metadata": {},
   "source": [
    "## Regresion Logistica"
   ]
  },
  {
   "cell_type": "code",
   "execution_count": 7,
   "metadata": {},
   "outputs": [],
   "source": [
    "from sklearn.linear_model import LogisticRegression"
   ]
  },
  {
   "cell_type": "code",
   "execution_count": 52,
   "metadata": {},
   "outputs": [],
   "source": [
    "### esta funcion crea datos de forma artificial \n",
    "# en total 2 clases, cada clase de 500 puntos \n",
    "#cada clase tiene centro diferente\n",
    "#clase 1 tiene centro en (0.7, 3)   esta se maneja con etiqueta 0\n",
    "#clase 2                  (3, 0.3)  esta se maneja con etiqueta 1\n",
    "def createData(N=[500,500]):\n",
    "    #generar puntos de forma artificial \n",
    "    #definir valor medio y desviacion\n",
    "    mvalues=np.array([[0.7,3],[3,0.3]])\n",
    "    std = [0.8,0.6]\n",
    "    X=np.array([])\n",
    "    Y=np.array([])\n",
    "\n",
    "    for ii in range(len(N)):\n",
    "        x= std[ii]*np.random.randn(N[ii],2)+mvalues[ii]\n",
    "        if ii==0:\n",
    "            X= x\n",
    "        else:\n",
    "            X=np.vstack((X,x))\n",
    "        y=np.ones(N[ii])*ii; \n",
    "        Y= np.append(Y,y)\n",
    "    \n",
    "    Y=Y.astype(int)    \n",
    "\n",
    "    return X,Y"
   ]
  },
  {
   "cell_type": "code",
   "execution_count": 53,
   "metadata": {},
   "outputs": [
    {
     "data": {
      "image/png": "[encoded data removed]",
      "text/plain": [
       "<Figure size 432x288 with 1 Axes>"
      ]
     },
     "metadata": {
      "needs_background": "light"
     },
     "output_type": "display_data"
    }
   ],
   "source": [
    "X,Y=createData()\n",
    "labels=np.unique(Y)\n",
    "#graficar datos usando un color diferente para cada grupo\n",
    "color='rb'\n",
    "for ii in labels:\n",
    "        key = 'o'+color[ii]  \n",
    "        lin,=plt.plot(X[Y==ii,0],X[Y==ii,1],key)\n",
    "        "
   ]
  },
  {
   "cell_type": "code",
   "execution_count": 57,
   "metadata": {},
   "outputs": [
    {
     "data": {
      "text/plain": [
       "LogisticRegression()"
      ]
     },
     "execution_count": 57,
     "metadata": {},
     "output_type": "execute_result"
    }
   ],
   "source": [
    "clf = LogisticRegression(solver='lbfgs')\n",
    "\n",
    "#train the classfier\n",
    "clf.fit(X,Y)\n"
   ]
  },
  {
   "cell_type": "code",
   "execution_count": 59,
   "metadata": {},
   "outputs": [
    {
     "name": "stdout",
     "output_type": "stream",
     "text": [
      "[[9.99991650e-01 8.34964176e-06]]\n",
      "[0]\n"
     ]
    }
   ],
   "source": [
    "#evaluate  the classifier\n",
    "x=np.array([[2,5]])\n",
    "p = clf.predict_proba(x)\n",
    "c=clf.predict(x) \n",
    "print(p)\n",
    "print(c)"
   ]
  },
  {
   "cell_type": "code",
   "execution_count": 60,
   "metadata": {},
   "outputs": [
    {
     "name": "stdout",
     "output_type": "stream",
     "text": [
      "[[9.98000583e-01 1.99941746e-03]\n",
      " [9.99997742e-01 2.25751504e-06]\n",
      " [9.98203312e-01 1.79668828e-03]\n",
      " ...\n",
      " [6.69244244e-04 9.99330756e-01]\n",
      " [2.11753805e-02 9.78824620e-01]\n",
      " [9.27694902e-04 9.99072305e-01]]\n",
      "[0 0 0 0 0 0 0 0 0 0 0 0 0 0 0 0 0 0 0 0 0 0 0 0 0 0 0 0 0 0 0 0 0 0 0 0 0\n",
      " 0 0 0 0 0 0 0 0 0 0 0 0 0 0 0 0 0 0 0 0 0 0 0 0 0 0 0 0 0 0 0 0 0 0 0 0 0\n",
      " 0 0 0 0 0 0 0 0 0 0 0 0 0 0 0 0 0 0 0 0 0 0 0 0 0 0 0 0 0 0 0 0 0 0 0 0 0\n",
      " 0 0 0 0 0 0 0 0 1 0 0 0 0 0 0 0 0 0 0 0 0 0 0 0 0 0 0 0 0 0 0 0 0 0 0 0 0\n",
      " 0 0 0 0 0 0 0 0 0 0 0 0 0 0 0 0 0 0 0 0 0 0 0 0 0 0 0 0 0 0 0 0 0 0 0 0 0\n",
      " 0 0 0 0 0 0 0 0 0 0 0 0 0 1 0 0 0 0 0 0 0 0 0 0 0 0 0 0 0 0 0 0 0 0 0 0 0\n",
      " 0 0 0 0 0 0 0 0 0 0 0 0 0 0 0 0 0 0 0 0 0 0 0 0 0 0 0 0 0 0 0 0 0 0 0 0 0\n",
      " 0 0 0 0 0 0 0 0 0 0 0 0 0 0 0 0 0 0 0 0 0 0 0 0 0 0 0 0 0 0 0 0 0 0 0 0 0\n",
      " 0 0 0 0 0 0 0 0 0 0 0 0 0 0 0 0 0 0 0 0 0 0 0 0 0 0 0 0 0 0 0 0 0 0 0 0 0\n",
      " 0 0 0 0 0 0 0 0 0 0 0 0 0 0 0 0 0 0 0 0 0 0 0 0 0 0 0 0 0 0 0 0 0 0 0 0 0\n",
      " 0 0 0 0 0 1 0 0 0 0 0 0 0 0 0 0 0 0 0 0 0 0 0 0 0 0 0 0 0 0 0 0 0 0 0 0 0\n",
      " 0 0 0 0 0 0 0 0 0 0 0 0 0 0 0 0 0 0 0 0 0 0 0 0 0 0 0 0 0 0 0 0 0 0 0 0 0\n",
      " 0 0 0 0 0 0 0 0 0 0 0 0 0 0 0 0 0 0 0 0 0 0 0 0 0 0 0 0 0 0 0 0 0 0 0 0 0\n",
      " 0 0 0 0 0 0 0 0 0 0 0 0 0 0 0 0 0 0 0 1 1 1 1 1 1 1 0 1 1 1 1 1 1 1 1 1 1\n",
      " 1 1 1 1 1 1 1 1 1 1 1 1 1 1 1 1 1 1 1 1 1 1 1 1 1 1 1 1 1 1 1 1 1 1 1 1 1\n",
      " 1 1 1 1 1 1 1 1 1 1 1 1 1 1 0 1 1 1 1 1 1 1 1 1 1 1 1 1 1 1 1 1 1 1 1 1 1\n",
      " 1 1 1 1 1 1 1 1 1 1 1 1 1 1 1 1 1 1 1 1 1 1 1 1 1 1 1 1 1 1 1 1 1 1 1 1 1\n",
      " 1 1 1 1 1 1 1 1 1 1 1 1 1 1 1 1 1 1 1 1 1 1 1 1 1 1 1 1 1 1 1 1 1 1 1 1 1\n",
      " 1 1 1 1 1 1 1 1 1 1 1 1 1 1 1 1 1 1 1 1 1 1 1 1 1 1 1 1 1 1 1 1 1 1 1 1 1\n",
      " 1 1 1 1 1 1 1 1 1 1 1 1 1 1 1 1 1 1 1 1 1 1 1 1 1 1 1 1 1 1 1 1 1 1 1 1 1\n",
      " 1 1 1 1 1 1 1 1 1 1 1 1 1 1 1 1 1 1 1 1 1 1 1 1 1 1 1 1 1 1 1 1 1 1 1 1 1\n",
      " 1 1 1 1 1 1 1 1 1 1 1 1 1 1 1 1 1 1 1 1 1 1 1 1 1 1 1 1 1 1 1 1 1 1 1 1 1\n",
      " 1 1 1 1 1 1 1 1 1 1 1 1 1 1 1 1 1 1 1 1 1 1 1 1 1 1 1 1 1 1 1 1 1 1 1 1 1\n",
      " 1 1 1 1 1 1 1 1 1 1 1 1 1 1 1 1 1 1 1 1 1 1 1 1 1 1 1 1 1 1 1 1 1 1 1 1 1\n",
      " 1 1 1 1 1 1 1 1 1 1 1 1 1 1 1 1 1 1 1 1 1 1 1 1 1 1 1 1 1 1 1 1 1 1 1 1 1\n",
      " 1 1 1 1 1 1 1 1 1 1 1 1 1 1 1 1 1 1 1 1 1 1 1 1 1 1 1 1 1 1 1 1 1 1 1 1 1\n",
      " 1 1 1 1 1 1 1 1 1 1 1 1 1 1 1 1 1 1 1 1 1 1 1 1 1 1 1 1 1 1 1 1 1 1 1 1 1\n",
      " 1]\n"
     ]
    }
   ],
   "source": [
    "p = clf.predict_proba(X)\n",
    "c=clf.predict(X) \n",
    "print(p)\n",
    "print(c)"
   ]
  },
  {
   "cell_type": "code",
   "execution_count": 58,
   "metadata": {},
   "outputs": [
    {
     "data": {
      "image/png": "[encoded data removed]",
      "text/plain": [
       "<Figure size 432x288 with 1 Axes>"
      ]
     },
     "metadata": {
      "needs_background": "light"
     },
     "output_type": "display_data"
    }
   ],
   "source": [
    "theta0=clf.intercept_ \n",
    "theta =clf.coef_\n",
    "xx = np.linspace(-2, 12, 100)\n",
    "yy=(-theta[0][0]*xx-theta0)/theta[0][1]\n",
    "plt.plot(xx,yy,'k',linewidth=1.5)\n",
    "\n",
    "#graficar datos usando un color diferente para cada grupo\n",
    "color='rb'\n",
    "for ii in labels:\n",
    "        key = 'o'+color[ii]  \n",
    "        lin,=plt.plot(X[Y==ii,0],X[Y==ii,1],key)"
   ]
  },
  {
   "cell_type": "code",
   "execution_count": 15,
   "metadata": {},
   "outputs": [
    {
     "data": {
      "text/plain": [
       "array([1, 0, 0, 1])"
      ]
     },
     "execution_count": 15,
     "metadata": {},
     "output_type": "execute_result"
    }
   ],
   "source": [
    "x=np.array([[4,1],[1,4],[0.3,5],[3,0.1]])\n",
    "y=clf.predict(x)\n",
    "y"
   ]
  },
  {
   "cell_type": "code",
   "execution_count": 16,
   "metadata": {},
   "outputs": [
    {
     "data": {
      "text/plain": [
       "99.7"
      ]
     },
     "execution_count": 16,
     "metadata": {},
     "output_type": "execute_result"
    }
   ],
   "source": [
    "y_pred=clf.predict(X)\n",
    "prec = ((Y==y_pred).sum()/Y.size)*100\n",
    "prec\n"
   ]
  },
  {
   "cell_type": "code",
   "execution_count": 81,
   "metadata": {},
   "outputs": [
    {
     "name": "stdout",
     "output_type": "stream",
     "text": [
      "Training set\n",
      "(537, 8)\n",
      "(537,)\n",
      "Test set\n",
      "(231, 8)\n",
      "(231,)\n"
     ]
    }
   ],
   "source": [
    "### cargar datos\n",
    "from sklearn.model_selection import train_test_split\n",
    "from sklearn.metrics import confusion_matrix\n",
    "\n",
    "file_name='datosML/diabetes.data'\n",
    "data=np.loadtxt(file_name,delimiter=',') \n",
    "\n",
    "X=data[:,:-1]\n",
    "Y=data[:,-1]\n",
    "\n",
    "X_train, X_test, y_train, y_test = train_test_split(X, Y, test_size=0.3, random_state=41)\n",
    "print('Training set')\n",
    "print(X_train.shape)\n",
    "print(y_train.shape)\n",
    "\n",
    "print('Test set')\n",
    "print(X_test.shape)\n",
    "print(y_test.shape)\n",
    "\n"
   ]
  },
  {
   "cell_type": "code",
   "execution_count": 79,
   "metadata": {},
   "outputs": [
    {
     "data": {
      "text/plain": [
       "LogisticRegression(max_iter=1000)"
      ]
     },
     "execution_count": 79,
     "metadata": {},
     "output_type": "execute_result"
    }
   ],
   "source": [
    "clf = LogisticRegression(solver='lbfgs',max_iter=1000)\n",
    "\n",
    "#train the classfier\n",
    "clf.fit(X_train,y_train)\n"
   ]
  },
  {
   "cell_type": "code",
   "execution_count": 84,
   "metadata": {},
   "outputs": [
    {
     "data": {
      "text/plain": [
       "array([[135,  18],\n",
       "       [ 35,  43]], dtype=int64)"
      ]
     },
     "execution_count": 84,
     "metadata": {},
     "output_type": "execute_result"
    }
   ],
   "source": [
    "y_pred = clf.predict(X_test)\n",
    "confusion_matrix(y_test, y_pred)"
   ]
  },
  {
   "cell_type": "code",
   "execution_count": 87,
   "metadata": {},
   "outputs": [
    {
     "name": "stdout",
     "output_type": "stream",
     "text": [
      "              precision    recall  f1-score   support\n",
      "\n",
      "        Sano       0.79      0.88      0.84       153\n",
      "    Diabetes       0.70      0.55      0.62        78\n",
      "\n",
      "    accuracy                           0.77       231\n",
      "   macro avg       0.75      0.72      0.73       231\n",
      "weighted avg       0.76      0.77      0.76       231\n",
      "\n"
     ]
    }
   ],
   "source": [
    "from sklearn.metrics import classification_report\n",
    "#consultar la documentacion en la pagina oficial de sklearn\n",
    "#para la matriz de confusion, classification report... \n",
    "target_names = ['Sano','Diabetes']\n",
    "rep=classification_report(y_test, y_pred,target_names=target_names)\n",
    "print(rep)\n"
   ]
  },
  {
   "cell_type": "code",
   "execution_count": null,
   "metadata": {},
   "outputs": [],
   "source": []
  }
 ],
 "metadata": {
  "kernelspec": {
   "display_name": "Python 3 (ipykernel)",
   "language": "python",
   "name": "python3"
  },
  "language_info": {
   "codemirror_mode": {
    "name": "ipython",
    "version": 3
   },
   "file_extension": ".py",
   "mimetype": "text/x-python",
   "name": "python",
   "nbconvert_exporter": "python",
   "pygments_lexer": "ipython3",
   "version": "3.9.12"
  }
 },
 "nbformat": 4,
 "nbformat_minor": 4
}
