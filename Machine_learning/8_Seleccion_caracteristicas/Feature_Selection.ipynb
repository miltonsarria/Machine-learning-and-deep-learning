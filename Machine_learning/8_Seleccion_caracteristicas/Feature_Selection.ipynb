{
 "cells": [
  {
   "cell_type": "markdown",
   "id": "ce7c6301",
   "metadata": {},
   "source": [
    "# Feature Selection Techniques in Machine Learning\n",
    "\n",
    "\n",
    "Feature selection is the process of isolating the most consistent, non-redundant, and relevant features to use in model construction. Methodically reducing the size of datasets is important as the size and variety of datasets continue to grow. The main goal of feature selection is to improve the performance of a predictive model and reduce the computational cost of modeling.\n",
    "\n",
    "The main benefits of performing feature selection in advance, rather than letting the machine learning model figure out which features are most important, include:\n",
    "\n",
    "   1. simpler models: simple models are easy to explain - a model that is too complex and unexplainable is not valuable\n",
    "   2. shorter training times: a more precise subset of features decreases the amount of time needed to train a model\n",
    "   3. variance reduction: increase the precision of the estimates that can be obtained for a given simulation \n",
    "   4. avoid the curse of high dimensionality: dimensionally cursed phenomena states that, as dimensionality and the number of features increases, the volume of space increases so fast that the available data become limited - PCA feature selection may be used to reduce dimensionality \n",
    "    \n",
    "\n",
    "Feature selection algorithms are categorized as either supervised, which can be used for labeled data; or unsupervised, which can be used for unlabeled data. Unsupervised techniques are classified as filter methods, wrapper methods, embedded methods, or hybrid methods:\n",
    "   \n",
    "   - Filter methods: Filter methods select features based on statistics rather than feature selection cross-validation performance. A selected metric is applied to identify irrelevant attributes and perform recursive feature selection. Filter methods are either univariate, in which an ordered ranking list of features is established to inform the final selection of feature subset; or multivariate, which evaluates the relevance of the features as a whole, identifying redundant and irrelevant features.\n",
    "   - Wrapper methods: Wrapper feature selection methods consider the selection of a set of features as a search problem, whereby their quality is assessed with the preparation, evaluation, and comparison of a combination of features to other combinations of features. This method facilitates the detection of possible interactions amongst variables. Wrapper methods focus on feature subsets that will help improve the quality of the results of the clustering algorithm used for the selection. Popular examples include Boruta feature selection and Forward feature selection\n",
    "    \n",
    "   - Embedded methods: Embedded feature selection methods integrate the feature selection machine learning algorithm as part of the learning algorithm, in which classification and feature selection are performed simultaneously. The features that will contribute the most to each iteration of the model training process are carefully extracted. Random forest feature selection, decision tree feature selection, and LASSO feature selection are common embedded methods.\n",
    "    \n",
    "## Why Feature Selection is Important\n",
    "\n",
    "Feature selection is an invaluable asset for data scientists. Understanding how to select important features in machine learning is crucial to the efficacy of the machine learning algorithm. Irrelevant, redundant, and noisy features can pollute an algorithm, negatively impacting learning performance, accuracy, and computational cost. Feature selection is increasingly important as the size and complexity of the average dataset continues to grow exponentially.\n",
    "\n",
    "    \n",
    "\n"
   ]
  },
  {
   "cell_type": "code",
   "execution_count": 156,
   "id": "743514b2",
   "metadata": {},
   "outputs": [],
   "source": [
    "import numpy as np\n",
    "import matplotlib.pyplot   as plt\n",
    "%matplotlib inline"
   ]
  },
  {
   "cell_type": "code",
   "execution_count": 157,
   "id": "31c5c6b7",
   "metadata": {},
   "outputs": [],
   "source": [
    "#create some variables \n",
    "def createData(N=[500,500]):\n",
    "    #generar puntos de forma artificial \n",
    "    #definir valor medio y desviacion\n",
    "    mvalues=np.array([[3,3],[5,6]])\n",
    "    std = [0.8,0.6]\n",
    "    X=np.array([])\n",
    "    Y=np.array([])\n",
    "\n",
    "    for ii in range(len(N)):\n",
    "        x= std[ii]*np.random.randn(N[ii],2)+mvalues[ii]\n",
    "        if ii==0:\n",
    "            X= x\n",
    "        else:\n",
    "            X=np.vstack((X,x))\n",
    "        y=np.ones(N[ii])*ii; \n",
    "        Y= np.append(Y,y)\n",
    "    \n",
    "    Y=Y.astype(int)    \n",
    "\n",
    "    return X,Y\n",
    "\n"
   ]
  },
  {
   "cell_type": "code",
   "execution_count": 158,
   "id": "8747632b",
   "metadata": {},
   "outputs": [
    {
     "data": {
      "image/png": "[encoded data removed]",
      "text/plain": [
       "<Figure size 432x288 with 1 Axes>"
      ]
     },
     "metadata": {
      "needs_background": "light"
     },
     "output_type": "display_data"
    }
   ],
   "source": [
    "X,Y=createData()\n",
    "#graficar\n",
    "labels=np.unique(Y)\n",
    "\n",
    "color='rbkg'\n",
    "for ii in labels:\n",
    "        key = 'o'+color[ii]  \n",
    "        plt.plot(X[Y==ii,0],X[Y==ii,1],key)\n",
    "        "
   ]
  },
  {
   "cell_type": "code",
   "execution_count": 159,
   "id": "66677d3a",
   "metadata": {},
   "outputs": [
    {
     "data": {
      "text/plain": [
       "(1000, 2)"
      ]
     },
     "execution_count": 159,
     "metadata": {},
     "output_type": "execute_result"
    }
   ],
   "source": [
    "X.shape"
   ]
  },
  {
   "cell_type": "code",
   "execution_count": 160,
   "id": "38f1f08d",
   "metadata": {},
   "outputs": [
    {
     "data": {
      "text/plain": [
       "(1000, 12)"
      ]
     },
     "execution_count": 160,
     "metadata": {},
     "output_type": "execute_result"
    }
   ],
   "source": [
    "X_non_useful = np.random.randn(X.shape[0],5)\n",
    "X_new = np.hstack(([X,X_non_useful+5,X_non_useful+X_non_useful*0.1+5]))\n",
    "X_new.shape"
   ]
  },
  {
   "cell_type": "code",
   "execution_count": null,
   "id": "440751b9",
   "metadata": {},
   "outputs": [],
   "source": []
  },
  {
   "cell_type": "markdown",
   "id": "76e35b56",
   "metadata": {},
   "source": [
    "\n",
    "\n",
    "## Filter methods\n",
    "\n",
    "Filter methods pick up the intrinsic properties of the features measured via univariate statistics instead of cross-validation performance. These methods are faster and less computationally expensive than wrapper methods. When dealing with high-dimensional data, it is computationally cheaper to use filter methods.\n",
    "\n",
    "1. Information Gain\n",
    "\n",
    "Information gain calculates the reduction in entropy from the transformation of a dataset. It can be used for feature selection by evaluating the Information gain of each variable in the context of the target variable.\n"
   ]
  },
  {
   "cell_type": "code",
   "execution_count": 161,
   "id": "c166cf32",
   "metadata": {},
   "outputs": [
    {
     "data": {
      "text/plain": [
       "<BarContainer object of 12 artists>"
      ]
     },
     "execution_count": 161,
     "metadata": {},
     "output_type": "execute_result"
    },
    {
     "data": {
      "image/png": "[encoded data removed]",
      "text/plain": [
       "<Figure size 432x288 with 1 Axes>"
      ]
     },
     "metadata": {
      "needs_background": "light"
     },
     "output_type": "display_data"
    }
   ],
   "source": [
    "from sklearn.feature_selection import mutual_info_classif\n",
    "import pandas as pd\n",
    "importances = mutual_info_classif(X_new,Y)\n",
    "\n",
    "plt.bar(np.arange(12),importances)"
   ]
  },
  {
   "cell_type": "markdown",
   "id": "9afc8a92",
   "metadata": {},
   "source": [
    "2.Chi-square Test\n",
    "\n",
    "The Chi-square test is used for categorical features in a dataset. We calculate Chi-square between each feature and the target and select the desired number of features with the best Chi-square scores. In order to correctly apply the chi-squared in order to test the relation between various features in the dataset and the target variable, the following conditions have to be met: the variables have to be categorical, sampled independently and values should have an expected frequency greater than 5."
   ]
  },
  {
   "cell_type": "code",
   "execution_count": 48,
   "id": "69a6f989",
   "metadata": {},
   "outputs": [
    {
     "name": "stdout",
     "output_type": "stream",
     "text": [
      "(1000, 3)\n"
     ]
    }
   ],
   "source": [
    "from sklearn.feature_selection import SelectKBest\n",
    "from sklearn.feature_selection import chi2\n",
    "\n",
    "#convertdata to int\n",
    "X_cat = X_new.astype(int)\n",
    "\n",
    "chi2_features = SelectKBest(chi2, k=3)\n",
    "X_best        = chi2_features.fit_transform(X_cat,Y)\n",
    "\n",
    "print(X_best.shape)"
   ]
  },
  {
   "cell_type": "markdown",
   "id": "0e79186a",
   "metadata": {},
   "source": [
    "3. Fisher’s Score\n",
    "\n",
    "Fisher score is one of the most widely used supervised feature selection methods. The algorithm which we will use returns the ranks of the variables based on the fisher’s score in descending order. We can then select the variables as per the case."
   ]
  },
  {
   "cell_type": "code",
   "execution_count": 55,
   "id": "6dfb55a9",
   "metadata": {},
   "outputs": [
    {
     "name": "stdout",
     "output_type": "stream",
     "text": [
      "Requirement already satisfied: skfeature-chappers in /home/sarria/anaconda3/envs/mlbasic/lib/python3.6/site-packages (1.1.0)\n",
      "Requirement already satisfied: numpy in /home/sarria/anaconda3/envs/mlbasic/lib/python3.6/site-packages (from skfeature-chappers) (1.19.2)\n",
      "Requirement already satisfied: scikit-learn in /home/sarria/anaconda3/envs/mlbasic/lib/python3.6/site-packages (from skfeature-chappers) (0.24.2)\n",
      "Requirement already satisfied: pandas in /home/sarria/anaconda3/envs/mlbasic/lib/python3.6/site-packages (from skfeature-chappers) (1.1.5)\n",
      "Requirement already satisfied: python-dateutil>=2.7.3 in /home/sarria/anaconda3/envs/mlbasic/lib/python3.6/site-packages (from pandas->skfeature-chappers) (2.8.2)\n",
      "Requirement already satisfied: pytz>=2017.2 in /home/sarria/anaconda3/envs/mlbasic/lib/python3.6/site-packages (from pandas->skfeature-chappers) (2021.3)\n",
      "Requirement already satisfied: six>=1.5 in /home/sarria/anaconda3/envs/mlbasic/lib/python3.6/site-packages (from python-dateutil>=2.7.3->pandas->skfeature-chappers) (1.15.0)\n",
      "Requirement already satisfied: threadpoolctl>=2.0.0 in /home/sarria/anaconda3/envs/mlbasic/lib/python3.6/site-packages (from scikit-learn->skfeature-chappers) (3.1.0)\n",
      "Requirement already satisfied: joblib>=0.11 in /home/sarria/anaconda3/envs/mlbasic/lib/python3.6/site-packages (from scikit-learn->skfeature-chappers) (1.1.0)\n",
      "Requirement already satisfied: scipy>=0.19.1 in /home/sarria/anaconda3/envs/mlbasic/lib/python3.6/site-packages (from scikit-learn->skfeature-chappers) (1.5.2)\n"
     ]
    }
   ],
   "source": [
    "!pip install skfeature-chappers"
   ]
  },
  {
   "cell_type": "code",
   "execution_count": 57,
   "id": "9d7b14ba",
   "metadata": {},
   "outputs": [
    {
     "data": {
      "text/plain": [
       "<BarContainer object of 12 artists>"
      ]
     },
     "execution_count": 57,
     "metadata": {},
     "output_type": "execute_result"
    },
    {
     "data": {
      "image/png": "[encoded data removed]",
      "text/plain": [
       "<Figure size 432x288 with 1 Axes>"
      ]
     },
     "metadata": {
      "needs_background": "light"
     },
     "output_type": "display_data"
    }
   ],
   "source": [
    "from skfeature.function.similarity_based import fisher_score\n",
    "\n",
    "importances = fisher_score.fisher_score(X_new,Y)\n",
    "plt.bar(np.arange(12),importances)"
   ]
  },
  {
   "cell_type": "markdown",
   "id": "1ad9bf70",
   "metadata": {},
   "source": [
    "4. Correlation Coefficient\n",
    "\n",
    "Correlation is a measure of the linear relationship of 2 or more variables. Through correlation, we can predict one variable from the other. The logic behind using correlation for feature selection is that the good variables are highly correlated with the target. Furthermore, variables should be correlated with the target but should be uncorrelated among themselves.\n",
    "\n",
    "If two variables are correlated, we can predict one from the other. Therefore, if two features are correlated, the model only really needs one of them, as the second one does not add additional information. We will use the Pearson Correlation here.\n",
    "\n",
    "\n",
    "conda install seaborn"
   ]
  },
  {
   "cell_type": "code",
   "execution_count": 71,
   "id": "ef9d8eab",
   "metadata": {},
   "outputs": [
    {
     "data": {
      "text/plain": [
       "<AxesSubplot:>"
      ]
     },
     "execution_count": 71,
     "metadata": {},
     "output_type": "execute_result"
    },
    {
     "data": {
      "image/png": "[encoded data removed]",
      "text/plain": [
       "<Figure size 720x432 with 2 Axes>"
      ]
     },
     "metadata": {
      "needs_background": "light"
     },
     "output_type": "display_data"
    }
   ],
   "source": [
    "import seaborn as sns\n",
    "y =  np.array([Y]).T\n",
    "X_new_class = np.append(X_new,y,axis=1)\n",
    "\n",
    "cor_mat = np.corrcoef(X_new_class,rowvar=False)\n",
    "\n",
    "plt.figure(figsize=(10,6))\n",
    "sns.heatmap(cor_mat, annot=True)"
   ]
  },
  {
   "cell_type": "code",
   "execution_count": null,
   "id": "c2b641a9",
   "metadata": {},
   "outputs": [],
   "source": []
  },
  {
   "cell_type": "code",
   "execution_count": null,
   "id": "6fa40e99",
   "metadata": {},
   "outputs": [],
   "source": []
  },
  {
   "cell_type": "markdown",
   "id": "e56c08e8",
   "metadata": {},
   "source": [
    "## B. Wrapper Methods:\n",
    "\n",
    "Wrappers require some method to search the space of all possible subsets of features, assessing their quality by learning and evaluating a classifier with that feature subset. The feature selection process is based on a specific machine learning algorithm that we are trying to fit on a given dataset. It follows a greedy search approach by evaluating all the possible combinations of features against the evaluation criterion. The wrapper methods usually result in better predictive accuracy than filter methods.\n",
    "\n",
    "1. Forward Feature Selection\n",
    "\n",
    "This is an iterative method wherein we start with the best performing variable against the target. Next, we select another variable that gives the best performance in combination with the first selected variable. This process continues until the preset criterion is achieved.\n",
    "\n",
    "\n",
    "pip install mlxtend"
   ]
  },
  {
   "cell_type": "code",
   "execution_count": 81,
   "id": "0809c6bb",
   "metadata": {},
   "outputs": [
    {
     "data": {
      "text/plain": [
       "[0, 1, 2, 3, 6]"
      ]
     },
     "execution_count": 81,
     "metadata": {},
     "output_type": "execute_result"
    }
   ],
   "source": [
    "from sklearn.linear_model import LogisticRegression\n",
    "from mlxtend.feature_selection import SequentialFeatureSelector\n",
    "\n",
    "clf = LogisticRegression(solver='lbfgs',max_iter=500)\n",
    "\n",
    "ffs= SequentialFeatureSelector(clf,k_features='best',forward=True)\n",
    "\n",
    "ffs.fit(X_new,Y)\n",
    "\n",
    "features = list(ffs.k_feature_names_)\n",
    "features = list(map(int, features))\n",
    "\n",
    "features"
   ]
  },
  {
   "cell_type": "markdown",
   "id": "1ab8e55a",
   "metadata": {},
   "source": [
    "2. Recursive Feature Elimination\n",
    "\n",
    "‘Given an external estimator that assigns weights to features (e.g., the coefficients of a linear model), the goal of recursive feature elimination (RFE) is to select features by recursively considering smaller and smaller sets of features. First, the estimator is trained on the initial set of features and the importance of each feature is obtained either through a coef_ attribute or through a feature_importances_ attribute.\n",
    "\n",
    "Then, the least important features are pruned from the current set of features. That procedure is recursively repeated on the pruned set until the desired number of features to select is eventually reached.’"
   ]
  },
  {
   "cell_type": "code",
   "execution_count": 91,
   "id": "41399873",
   "metadata": {},
   "outputs": [
    {
     "data": {
      "text/plain": [
       "array([ 1,  1,  7,  5,  9, 10,  2,  4,  3,  6,  8,  1])"
      ]
     },
     "execution_count": 91,
     "metadata": {},
     "output_type": "execute_result"
    }
   ],
   "source": [
    "from sklearn.linear_model import LogisticRegression\n",
    "from sklearn.feature_selection import RFE\n",
    "\n",
    "clf = LogisticRegression(solver='lbfgs',max_iter=500)\n",
    "\n",
    "\n",
    "rfe=RFE(clf,n_features_to_select=3)\n",
    "\n",
    "rfe.fit(X_new,Y)\n",
    "\n",
    "rfe.ranking_"
   ]
  },
  {
   "cell_type": "code",
   "execution_count": null,
   "id": "d5663d7f",
   "metadata": {},
   "outputs": [],
   "source": []
  },
  {
   "cell_type": "markdown",
   "id": "b45fb048",
   "metadata": {},
   "source": [
    "## Embedded Methods:\n",
    "\n",
    "These methods encompass the benefits of both the wrapper and filter methods, by including interactions of features but also maintaining reasonable computational cost. Embedded methods are iterative in the sense that takes care of each iteration of the model training process and carefully extracts those features which contribute the most to the training for a particular iteration.\n",
    "\n",
    "\n",
    "1. LASSO Regularization (L1)\n",
    "\n",
    "Regularization consists of adding a penalty to the different parameters of the machine learning model to reduce the freedom of the model, i.e. to avoid over-fitting. In linear model regularization, the penalty is applied over the coefficients that multiply each of the predictors. From the different types of regularization, Lasso or L1 has the property that is able to shrink some of the coefficients to zero. Therefore, that feature can be removed from the model."
   ]
  },
  {
   "cell_type": "code",
   "execution_count": 111,
   "id": "b134a9d7",
   "metadata": {},
   "outputs": [],
   "source": [
    "from sklearn.linear_model import LogisticRegression\n",
    "from sklearn.feature_selection import SelectFromModel\n",
    "\n",
    "clf = LogisticRegression(C=1, penalty='l1',solver='liblinear')\n",
    "clf.fit(X_new,Y)\n",
    "\n",
    "model = SelectFromModel(estimator=clf,prefit=True)\n",
    "\n",
    "X_new_fs = model.transform(X_new)\n",
    "\n"
   ]
  },
  {
   "cell_type": "markdown",
   "id": "2e466cfd",
   "metadata": {},
   "source": [
    "2. Random Forest Importance\n",
    "\n",
    "Random Forests is a kind of a Bagging Algorithm that aggregates a specified number of decision trees. The tree-based strategies used by random forests naturally rank by how well they improve the purity of the node, or in other words a decrease in the impurity (Gini impurity) over all trees. Nodes with the greatest decrease in impurity happen at the start of the trees, while notes with the least decrease in impurity occur at the end of trees. Thus, by pruning trees below a particular node, we can create a subset of the most important features."
   ]
  },
  {
   "cell_type": "code",
   "execution_count": 120,
   "id": "e13d8483",
   "metadata": {},
   "outputs": [
    {
     "data": {
      "text/plain": [
       "<BarContainer object of 12 artists>"
      ]
     },
     "execution_count": 120,
     "metadata": {},
     "output_type": "execute_result"
    },
    {
     "data": {
      "image/png": "[encoded data removed]",
      "text/plain": [
       "<Figure size 432x288 with 1 Axes>"
      ]
     },
     "metadata": {
      "needs_background": "light"
     },
     "output_type": "display_data"
    }
   ],
   "source": [
    "from sklearn.ensemble import RandomForestClassifier\n",
    "clf = RandomForestClassifier(n_estimators = 10)\n",
    "clf.fit(X_new,Y)\n",
    "\n",
    "importances = clf.feature_importances_\n",
    "plt.bar(np.arange(12),importances)"
   ]
  },
  {
   "cell_type": "code",
   "execution_count": 119,
   "id": "af9d24f3",
   "metadata": {},
   "outputs": [
    {
     "data": {
      "text/plain": [
       "array([0.4948356 , 0.44904426, 0.00258598, 0.00643156, 0.00912906,\n",
       "       0.00608225, 0.00537505, 0.00345945, 0.00717474, 0.00634388,\n",
       "       0.00324954, 0.00628863])"
      ]
     },
     "execution_count": 119,
     "metadata": {},
     "output_type": "execute_result"
    }
   ],
   "source": [
    "importances "
   ]
  },
  {
   "cell_type": "markdown",
   "id": "be739406",
   "metadata": {},
   "source": [
    "# Dimensionality reduction\n",
    "\n",
    "Linear dimensionality reduction using Singular Value Decomposition of the data to project it to a lower dimensional space. The input data is centered but not scaled for each feature before applying the SVD.\n",
    "\n",
    "Principal component analysis (PCA).\n"
   ]
  },
  {
   "cell_type": "code",
   "execution_count": 129,
   "id": "91761846",
   "metadata": {},
   "outputs": [
    {
     "data": {
      "text/plain": [
       "[<matplotlib.lines.Line2D at 0x7effa814a780>]"
      ]
     },
     "execution_count": 129,
     "metadata": {},
     "output_type": "execute_result"
    },
    {
     "data": {
      "image/png": "[encoded data removed]",
      "text/plain": [
       "<Figure size 432x288 with 1 Axes>"
      ]
     },
     "metadata": {
      "needs_background": "light"
     },
     "output_type": "display_data"
    }
   ],
   "source": [
    "from sklearn.decomposition import PCA\n",
    "pca = PCA(n_components=12)\n",
    "\n",
    "\n",
    "pca.fit(X_new)\n",
    "\n",
    "plt.plot(pca.explained_variance_ratio_.cumsum())\n"
   ]
  },
  {
   "cell_type": "code",
   "execution_count": 133,
   "id": "7e7c17dc",
   "metadata": {
    "scrolled": true
   },
   "outputs": [
    {
     "data": {
      "image/png": "[encoded data removed]",
      "text/plain": [
       "<Figure size 432x288 with 1 Axes>"
      ]
     },
     "metadata": {
      "needs_background": "light"
     },
     "output_type": "display_data"
    }
   ],
   "source": [
    "pca = PCA(n_components=2)\n",
    "pca.fit(X_new)\n",
    "\n",
    "X_pca = pca.transform(X_new)\n",
    "\n",
    "color='rbkg'\n",
    "for ii in labels:\n",
    "        key = 'o'+color[ii]  \n",
    "        plt.plot(X_pca[Y==ii,0],X_pca[Y==ii,1],key)\n",
    "        "
   ]
  },
  {
   "cell_type": "code",
   "execution_count": null,
   "id": "7eb7af29",
   "metadata": {},
   "outputs": [],
   "source": []
  },
  {
   "cell_type": "code",
   "execution_count": null,
   "id": "abb0e166",
   "metadata": {},
   "outputs": [],
   "source": []
  },
  {
   "cell_type": "code",
   "execution_count": null,
   "id": "31a406e9",
   "metadata": {},
   "outputs": [],
   "source": []
  },
  {
   "cell_type": "markdown",
   "id": "f12a043f",
   "metadata": {},
   "source": [
    "# A Case study in Python\n",
    "The dataset corresponds to classification tasks on which you need to predict if a person has diabetes based on 8 features.\n",
    "\n",
    "There are a total of 768 observations in the dataset. Your first task is to load the dataset so that you can proceed. But before that let's import the necessary dependencies, you are going to need. You can import the other ones as you go along."
   ]
  },
  {
   "cell_type": "code",
   "execution_count": 134,
   "id": "7e4f90a7",
   "metadata": {},
   "outputs": [
    {
     "data": {
      "text/html": [
       "<div>\n",
       "<style scoped>\n",
       "    .dataframe tbody tr th:only-of-type {\n",
       "        vertical-align: middle;\n",
       "    }\n",
       "\n",
       "    .dataframe tbody tr th {\n",
       "        vertical-align: top;\n",
       "    }\n",
       "\n",
       "    .dataframe thead th {\n",
       "        text-align: right;\n",
       "    }\n",
       "</style>\n",
       "<table border=\"1\" class=\"dataframe\">\n",
       "  <thead>\n",
       "    <tr style=\"text-align: right;\">\n",
       "      <th></th>\n",
       "      <th>Pregnancies</th>\n",
       "      <th>Glucose</th>\n",
       "      <th>BloodPresure</th>\n",
       "      <th>SkinThickness</th>\n",
       "      <th>insulin</th>\n",
       "      <th>BMI</th>\n",
       "      <th>DiabetesPedFunc</th>\n",
       "      <th>age</th>\n",
       "      <th>Outcome</th>\n",
       "    </tr>\n",
       "  </thead>\n",
       "  <tbody>\n",
       "    <tr>\n",
       "      <th>0</th>\n",
       "      <td>6</td>\n",
       "      <td>148</td>\n",
       "      <td>72</td>\n",
       "      <td>35</td>\n",
       "      <td>0</td>\n",
       "      <td>33.6</td>\n",
       "      <td>0.627</td>\n",
       "      <td>50</td>\n",
       "      <td>1</td>\n",
       "    </tr>\n",
       "    <tr>\n",
       "      <th>1</th>\n",
       "      <td>1</td>\n",
       "      <td>85</td>\n",
       "      <td>66</td>\n",
       "      <td>29</td>\n",
       "      <td>0</td>\n",
       "      <td>26.6</td>\n",
       "      <td>0.351</td>\n",
       "      <td>31</td>\n",
       "      <td>0</td>\n",
       "    </tr>\n",
       "    <tr>\n",
       "      <th>2</th>\n",
       "      <td>8</td>\n",
       "      <td>183</td>\n",
       "      <td>64</td>\n",
       "      <td>0</td>\n",
       "      <td>0</td>\n",
       "      <td>23.3</td>\n",
       "      <td>0.672</td>\n",
       "      <td>32</td>\n",
       "      <td>1</td>\n",
       "    </tr>\n",
       "    <tr>\n",
       "      <th>3</th>\n",
       "      <td>1</td>\n",
       "      <td>89</td>\n",
       "      <td>66</td>\n",
       "      <td>23</td>\n",
       "      <td>94</td>\n",
       "      <td>28.1</td>\n",
       "      <td>0.167</td>\n",
       "      <td>21</td>\n",
       "      <td>0</td>\n",
       "    </tr>\n",
       "    <tr>\n",
       "      <th>4</th>\n",
       "      <td>0</td>\n",
       "      <td>137</td>\n",
       "      <td>40</td>\n",
       "      <td>35</td>\n",
       "      <td>168</td>\n",
       "      <td>43.1</td>\n",
       "      <td>2.288</td>\n",
       "      <td>33</td>\n",
       "      <td>1</td>\n",
       "    </tr>\n",
       "  </tbody>\n",
       "</table>\n",
       "</div>"
      ],
      "text/plain": [
       "   Pregnancies  Glucose  BloodPresure  SkinThickness  insulin   BMI  \\\n",
       "0            6      148            72             35        0  33.6   \n",
       "1            1       85            66             29        0  26.6   \n",
       "2            8      183            64              0        0  23.3   \n",
       "3            1       89            66             23       94  28.1   \n",
       "4            0      137            40             35      168  43.1   \n",
       "\n",
       "   DiabetesPedFunc  age  Outcome  \n",
       "0            0.627   50        1  \n",
       "1            0.351   31        0  \n",
       "2            0.672   32        1  \n",
       "3            0.167   21        0  \n",
       "4            2.288   33        1  "
      ]
     },
     "execution_count": 134,
     "metadata": {},
     "output_type": "execute_result"
    }
   ],
   "source": [
    "import pandas as pd\n",
    "import numpy as np\n",
    "data = pd.read_csv(\"datosML/diabetes.csv\")\n",
    "data.head()"
   ]
  },
  {
   "cell_type": "markdown",
   "id": "3d9a0d25",
   "metadata": {},
   "source": [
    "So you can see 8 different features labeled into the outcomes of 1 and 0 where 1 stands for the observation has diabetes, and 0 denotes the observation does not have diabetes. The dataset is known to have missing values. Specifically, there are missing observations for some columns that are marked as a zero value"
   ]
  },
  {
   "cell_type": "code",
   "execution_count": 148,
   "id": "e0cffc5f",
   "metadata": {},
   "outputs": [],
   "source": [
    "names = ['preg', 'plas', 'pres', 'skin', 'test', 'mass', 'pedi', 'age', 'class']\n",
    "#array = dataframe.values\n",
    "array = data.values\n",
    "X = array[:,0:8]\n",
    "Y = array[:,8]\n"
   ]
  },
  {
   "cell_type": "code",
   "execution_count": 149,
   "id": "ad8fe09d",
   "metadata": {},
   "outputs": [
    {
     "name": "stdout",
     "output_type": "stream",
     "text": [
      "[ 111.52  1411.887   17.605   53.108 2175.565  127.669    5.393  181.304]\n",
      "[[148.    0.   33.6  50. ]\n",
      " [ 85.    0.   26.6  31. ]\n",
      " [183.    0.   23.3  32. ]\n",
      " [ 89.   94.   28.1  21. ]\n",
      " [137.  168.   43.1  33. ]]\n"
     ]
    }
   ],
   "source": [
    "# Import the necessary libraries first\n",
    "from sklearn.feature_selection import SelectKBest\n",
    "from sklearn.feature_selection import chi2\n",
    "\n",
    "# Feature extraction\n",
    "test = SelectKBest(score_func=chi2, k=4)\n",
    "fit = test.fit(X, Y)\n",
    "\n",
    "# Summarize scores\n",
    "np.set_printoptions(precision=3)\n",
    "print(fit.scores_)\n",
    "\n",
    "features = fit.transform(X)\n",
    "# Summarize selected features\n",
    "print(features[0:5,:])"
   ]
  },
  {
   "cell_type": "markdown",
   "id": "0209b27f",
   "metadata": {},
   "source": [
    "Interpretation:\n",
    "\n",
    "You can see the scores for each attribute and the 4 attributes chosen (those with the highest scores): plas, test, mass, and age. This scores will help you further in determining the best features for training your model.\n",
    "\n",
    "P.S.: The first row denotes the names of the features. For preprocessing of the dataset, the names have been numerically encoded.\n",
    "\n",
    "Next, you will implement Recursive Feature Elimination which is a type of wrapper feature selection method.\n",
    "\n",
    "The Recursive Feature Elimination (or RFE) works by recursively removing attributes and building a model on those attributes that remain.\n",
    "\n",
    "It uses the model accuracy to identify which attributes (and combination of attributes) contribute the most to predicting the target attribute.\n",
    "\n",
    "https://scikit-learn.org/stable/modules/generated/sklearn.feature_selection.RFE.html#sklearn.feature_selection.RFE"
   ]
  },
  {
   "cell_type": "code",
   "execution_count": 150,
   "id": "78c1eba0",
   "metadata": {},
   "outputs": [
    {
     "name": "stderr",
     "output_type": "stream",
     "text": [
      "/home/sarria/anaconda3/envs/mlbasic/lib/python3.6/site-packages/sklearn/utils/validation.py:72: FutureWarning: Pass n_features_to_select=3 as keyword args. From version 1.0 (renaming of 0.25) passing these as positional arguments will result in an error\n",
      "  \"will result in an error\", FutureWarning)\n",
      "/home/sarria/anaconda3/envs/mlbasic/lib/python3.6/site-packages/sklearn/linear_model/_logistic.py:765: ConvergenceWarning: lbfgs failed to converge (status=1):\n",
      "STOP: TOTAL NO. of ITERATIONS REACHED LIMIT.\n",
      "\n",
      "Increase the number of iterations (max_iter) or scale the data as shown in:\n",
      "    https://scikit-learn.org/stable/modules/preprocessing.html\n",
      "Please also refer to the documentation for alternative solver options:\n",
      "    https://scikit-learn.org/stable/modules/linear_model.html#logistic-regression\n",
      "  extra_warning_msg=_LOGISTIC_SOLVER_CONVERGENCE_MSG)\n"
     ]
    },
    {
     "name": "stdout",
     "output_type": "stream",
     "text": [
      "Num Features: 3\n",
      "Selected Features: [ True False False False False  True  True False]\n",
      "Feature Ranking: [1 2 4 5 6 1 1 3]\n"
     ]
    }
   ],
   "source": [
    "# Import your necessary dependencies\n",
    "from sklearn.feature_selection import RFE\n",
    "from sklearn.linear_model import LogisticRegression\n",
    "\n",
    "# Feature extraction\n",
    "model = LogisticRegression()\n",
    "rfe = RFE(model, 3)\n",
    "fit = rfe.fit(X, Y)\n",
    "print(\"Num Features: %s\" % (fit.n_features_))\n",
    "print(\"Selected Features: %s\" % (fit.support_))\n",
    "print(\"Feature Ranking: %s\" % (fit.ranking_))"
   ]
  },
  {
   "cell_type": "markdown",
   "id": "b1dc94a5",
   "metadata": {},
   "source": [
    "You can see that RFE chose the top 3 features as preg, mass, and pedi.\n",
    "\n",
    "These are marked True in the support array and marked with a choice “1” in the ranking array. This, in turn, indicates the strength of these features.\n",
    "\n",
    "Next up you will use Ridge regression which is basically a regularization technique and an embedded feature selection techniques as well."
   ]
  },
  {
   "cell_type": "code",
   "execution_count": 152,
   "id": "15262c9f",
   "metadata": {},
   "outputs": [],
   "source": [
    "# First things first\n",
    "from sklearn.linear_model import Ridge\n",
    "ridge = Ridge(alpha=1.0)\n",
    "ridge.fit(X,Y)\n",
    "Ridge(alpha=1.0, copy_X=True, fit_intercept=True, max_iter=None,\n",
    "   normalize=False, random_state=None, solver='auto', tol=0.001)\n",
    "\n",
    "\n",
    "# A helper method for pretty-printing the coefficients\n",
    "def pretty_print_coefs(coefs, names = None, sort = False):\n",
    "    if names == None:\n",
    "        names = [\"X%s\" % x for x in range(len(coefs))]\n",
    "    lst = zip(coefs, names)\n",
    "    if sort:\n",
    "        lst = sorted(lst,  key = lambda x:-np.abs(x[0]))\n",
    "    return \" + \".join(\"%s * %s\" % (round(coef, 3), name)\n",
    "                                   for coef, name in lst)"
   ]
  },
  {
   "cell_type": "code",
   "execution_count": 153,
   "id": "3091ab08",
   "metadata": {},
   "outputs": [
    {
     "name": "stdout",
     "output_type": "stream",
     "text": [
      "Ridge model: 0.021 * X0 + 0.006 * X1 + -0.002 * X2 + 0.0 * X3 + -0.0 * X4 + 0.013 * X5 + 0.145 * X6 + 0.003 * X7\n"
     ]
    }
   ],
   "source": [
    "print (\"Ridge model:\", pretty_print_coefs(ridge.coef_))"
   ]
  },
  {
   "cell_type": "markdown",
   "id": "37388d47",
   "metadata": {},
   "source": [
    "Why do these traditional feature selection methods still hold?\n",
    "\n",
    "Yes, this question is obvious. Because there are neural net architectures (for example CNNs) which are quite capable of extracting the most significant features from data but that too has a limitation. Using a CNN for a regular tabular dataset which does not have specific properties (the properties that a typical image holds like transitional properties, edges, positional properties, contours etc.) is not the wisest decision to make. Moreover, when you have limited data and limited resources, training a CNN on regular tabular datasets might turn into a complete waste. So, in situations like that, the methods that you studied will definitely come handy"
   ]
  },
  {
   "cell_type": "code",
   "execution_count": null,
   "id": "03b1813d",
   "metadata": {},
   "outputs": [],
   "source": []
  },
  {
   "cell_type": "code",
   "execution_count": null,
   "id": "1dfe23a1",
   "metadata": {},
   "outputs": [],
   "source": []
  },
  {
   "cell_type": "code",
   "execution_count": null,
   "id": "b6d248a9",
   "metadata": {},
   "outputs": [],
   "source": []
  }
 ],
 "metadata": {
  "kernelspec": {
   "display_name": "Python 3",
   "language": "python",
   "name": "python3"
  },
  "language_info": {
   "codemirror_mode": {
    "name": "ipython",
    "version": 3
   },
   "file_extension": ".py",
   "mimetype": "text/x-python",
   "name": "python",
   "nbconvert_exporter": "python",
   "pygments_lexer": "ipython3",
   "version": "3.6.13"
  }
 },
 "nbformat": 4,
 "nbformat_minor": 5
}
