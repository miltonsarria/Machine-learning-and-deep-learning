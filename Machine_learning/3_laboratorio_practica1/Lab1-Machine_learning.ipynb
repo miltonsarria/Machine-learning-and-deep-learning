{
 "cells": [
  {
   "cell_type": "markdown",
   "metadata": {},
   "source": [
    "# Laboratory\n"
   ]
  },
  {
   "cell_type": "markdown",
   "metadata": {},
   "source": [
    "\n",
    "\n",
    "Topic: \tLinear regression and logistic regression\n",
    "\n",
    "\n",
    "Professor: \t\t\tMilton Orlando Sarria P.\n",
    "\n",
    "Email: \tmilton.sarria00@usc.edu.co\n",
    "\n",
    "\n",
    "Objectives: \n",
    "\n",
    "    1. Learn to prepare data and properly manipulate the variables necessary to train a linear regressor or classifier. \n",
    "    2. Learn to use Python tools to design and implement a classifier/regressor  applied to real data. \n"
   ]
  },
  {
   "cell_type": "markdown",
   "metadata": {},
   "source": [
    "## Problem 1. Linear regression\n",
    "In this laboratory we want to train a linear model that can predict the age of a mollusk without having to cut the specimen and count the rings. For this purpose we will work with the dataset $ abalone.data $ using a linear regression model. \n",
    "\n",
    "\n",
    "## Pre-processing###\n",
    "Prepare the data for use. The data must be loaded into an input matrix X (or dataset) that is stored in the abalone.data file. The attributes, represented in each of the columns, are: \n",
    "\n",
    "  1.   sex                 \n",
    "  2.   length              \n",
    "  3.   diameter            \n",
    "  4.   height              \n",
    "  5.   whole_weight        \n",
    "  6.   shucked_weight      \n",
    "  7.   viscera_weight      \n",
    "  8.   shell_weight        \n",
    "  9.   rings               \n",
    "  \n"
   ]
  },
  {
   "cell_type": "code",
   "execution_count": 1,
   "metadata": {},
   "outputs": [],
   "source": [
    "#load the tools\n",
    "import numpy as np\n",
    "import matplotlib.pyplot as plt\n",
    "from sklearn.linear_model import LogisticRegression\n",
    "from sklearn.linear_model import LinearRegression\n",
    "%matplotlib inline"
   ]
  },
  {
   "cell_type": "code",
   "execution_count": 2,
   "metadata": {},
   "outputs": [],
   "source": [
    "################################################################################################\n",
    "################################################################################################\n",
    "def loadAbalone():\n",
    "    #define the name of the file to load\n",
    "    file_name='data_lb1/abalone.data'\n",
    "    \n",
    "    #read all lines\n",
    "    hf = open(file_name,'r')\n",
    "    lines=hf.readlines()\n",
    "    hf.close()\n",
    "    ##############################\n",
    "    x=[]\n",
    "    y=[]\n",
    "    for line in lines:\n",
    "       #Analize each line and split the data into numeric values\n",
    "        data = line[:-1].split(' ')\n",
    "        \n",
    "        y.append(int(data[-1]))\n",
    "        x.append([float(i) for i in data[1:-1]])\n",
    "\n",
    "    #get X and Y matrices\n",
    "    x=np.array(x)\n",
    "    y=np.array(y)\n",
    "    return x,y"
   ]
  },
  {
   "cell_type": "code",
   "execution_count": 3,
   "metadata": {},
   "outputs": [
    {
     "data": {
      "text/plain": [
       "array([[0.455 , 0.365 , 0.095 , ..., 0.2245, 0.101 , 0.15  ],\n",
       "       [0.35  , 0.265 , 0.09  , ..., 0.0995, 0.0485, 0.07  ],\n",
       "       [0.53  , 0.42  , 0.135 , ..., 0.2565, 0.1415, 0.21  ],\n",
       "       ...,\n",
       "       [0.6   , 0.475 , 0.205 , ..., 0.5255, 0.2875, 0.308 ],\n",
       "       [0.625 , 0.485 , 0.15  , ..., 0.531 , 0.261 , 0.296 ],\n",
       "       [0.71  , 0.555 , 0.195 , ..., 0.9455, 0.3765, 0.495 ]])"
      ]
     },
     "execution_count": 3,
     "metadata": {},
     "output_type": "execute_result"
    }
   ],
   "source": [
    "## verify\n",
    "X,Y=loadAbalone()\n",
    "X"
   ]
  },
  {
   "cell_type": "code",
   "execution_count": 8,
   "metadata": {},
   "outputs": [
    {
     "data": {
      "text/plain": [
       "array([[0.455, 0.365],\n",
       "       [0.35 , 0.265],\n",
       "       [0.53 , 0.42 ],\n",
       "       ...,\n",
       "       [0.6  , 0.475],\n",
       "       [0.625, 0.485],\n",
       "       [0.71 , 0.555]])"
      ]
     },
     "execution_count": 8,
     "metadata": {},
     "output_type": "execute_result"
    }
   ],
   "source": [
    "X[:,0:2]"
   ]
  },
  {
   "cell_type": "code",
   "execution_count": 7,
   "metadata": {},
   "outputs": [
    {
     "data": {
      "text/plain": [
       "array([15,  7,  9, ...,  9, 10, 12])"
      ]
     },
     "execution_count": 7,
     "metadata": {},
     "output_type": "execute_result"
    }
   ],
   "source": [
    "Y"
   ]
  },
  {
   "cell_type": "markdown",
   "metadata": {},
   "source": [
    "### Explorint the data"
   ]
  },
  {
   "cell_type": "markdown",
   "metadata": {},
   "source": [
    "You should consult how to use the function $corrcoef$ found in numpy. You must calculate the correlation between different variables of X with the variable of interest Y. \n",
    "\n",
    "https://docs.scipy.org/doc/numpy/reference/generated/numpy.corrcoef.html"
   ]
  },
  {
   "cell_type": "code",
   "execution_count": 4,
   "metadata": {},
   "outputs": [],
   "source": [
    "#Your code goes here\n",
    "\n"
   ]
  },
  {
   "cell_type": "markdown",
   "metadata": {},
   "source": [
    "## 1. Estimate a linear model\n",
    "\n",
    "Use the variable with the highest correlation to estimate a linear model and graph the results. An example with the first variable is presented below.\n",
    "\n"
   ]
  },
  {
   "cell_type": "code",
   "execution_count": 5,
   "metadata": {},
   "outputs": [
    {
     "name": "stdout",
     "output_type": "stream",
     "text": [
      "[14.94641092]\n",
      "2.1018832244501047\n"
     ]
    },
    {
     "data": {
      "text/plain": [
       "[<matplotlib.lines.Line2D at 0x7f34001e5fa0>]"
      ]
     },
     "execution_count": 5,
     "metadata": {},
     "output_type": "execute_result"
    },
    {
     "data": {
      "image/png": "[encoded data removed]",
      "text/plain": [
       "<Figure size 432x288 with 1 Axes>"
      ]
     },
     "metadata": {
      "needs_background": "light"
     },
     "output_type": "display_data"
    }
   ],
   "source": [
    "#example:Use the first column\n",
    "XX= X[:,0]\n",
    "\n",
    "#get the model, pay atention when usign a single variable as predictor\n",
    "reg = LinearRegression().fit(XX.reshape(-1, 1), Y)\n",
    "#get the coefficients\n",
    "print(reg.coef_)\n",
    "#print the intercept\n",
    "print(reg.intercept_)\n",
    "\n",
    "\n",
    "# plot the linear model and the data \n",
    "x=np.linspace(XX.min(),XX.max(),100)\n",
    "y=reg.predict(x.reshape(-1, 1))\n",
    "\n",
    "##\n",
    "plt.plot(x,y)\n",
    "plt.plot(XX,Y,'.')"
   ]
  },
  {
   "cell_type": "code",
   "execution_count": 6,
   "metadata": {},
   "outputs": [],
   "source": [
    "#Compute the mean cuadratic error: compute all residuals, compute the square value, and compute the mean value\n",
    "y_pred=reg.predict(XX.reshape(-1, 1))\n",
    "#your code goes here\n"
   ]
  },
  {
   "cell_type": "markdown",
   "metadata": {},
   "source": [
    "Using two variables to predict the variable of interest Y. The two variables that have the highest correlation with variable Y should be selected. Below is an example to use the linear model with two variables. In this case it is not possible to graph. However calculate the error and compare three combinations of variables "
   ]
  },
  {
   "cell_type": "code",
   "execution_count": 7,
   "metadata": {},
   "outputs": [
    {
     "name": "stdout",
     "output_type": "stream",
     "text": [
      "[-10.6162336   31.34748833]\n",
      "2.710454131658935\n"
     ]
    }
   ],
   "source": [
    "#example: use two variables\n",
    "XX= X[:,0:2]\n",
    "\n",
    "#note the diference when using one variable\n",
    "reg = LinearRegression().fit(XX, Y)\n",
    "\n",
    "print(reg.coef_)\n",
    "print(reg.intercept_)\n",
    "\n"
   ]
  },
  {
   "cell_type": "code",
   "execution_count": 73,
   "metadata": {},
   "outputs": [],
   "source": [
    "#Compute the mean cuadratic error\n",
    "\n",
    "y_pred=reg.predict(XX)"
   ]
  },
  {
   "cell_type": "markdown",
   "metadata": {},
   "source": [
    "## Problem: estimate a lniear regression model for a different dataset ##\n",
    "Carry out the same process for the $housing.data$ database. Use the housing.names file to find out what information contains the dataset. In this case, modify the function loadAbalone () to the new data format. "
   ]
  },
  {
   "cell_type": "code",
   "execution_count": 8,
   "metadata": {},
   "outputs": [],
   "source": [
    "#your code goes here\n"
   ]
  },
  {
   "cell_type": "markdown",
   "metadata": {},
   "source": [
    "## Problem 2.  Linear classification\n",
    "In this laboratory we want to train a classifier that can determine whether or not a flower belongs to a certain family. Therefore we will work with the data set $ iris.data $ using a logistic regression model. \n",
    "\n",
    "\n",
    "## (a) Pre-processing###\n",
    "Prepare the data for use. The data must be loaded into an input matrix X (or dataset) that is stored in the abalone.data file. The attributes, represented in each of the columns, are: \n",
    "\n",
    "1. sepal length in cm\n",
    "2. sepal width in cm\n",
    "3. petal length in cm\n",
    "4. petal width in cm\n",
    "5. class:\n",
    "-- Iris Setosa\n",
    "-- Iris Versicolour\n",
    "-- Iris Virginica\n"
   ]
  },
  {
   "cell_type": "code",
   "execution_count": 9,
   "metadata": {},
   "outputs": [],
   "source": [
    "#import the tools\n",
    "import numpy as np\n",
    "import matplotlib.pyplot as plt\n",
    "from sklearn.linear_model import LogisticRegression\n",
    "%matplotlib inline\n"
   ]
  },
  {
   "cell_type": "markdown",
   "metadata": {},
   "source": [
    "The first thing to do is define a function that allows you to load the data from the text file: "
   ]
  },
  {
   "cell_type": "code",
   "execution_count": 11,
   "metadata": {},
   "outputs": [],
   "source": [
    "################################################################################################\n",
    "################################################################################################\n",
    "def loadIris():\n",
    "    #define the name of the data file and the labels\n",
    "    file_name='data_lb1/iris.data'\n",
    "    labels={'Iris-setosa':0,'Iris-versicolor':1,'Iris-virginica':2}\n",
    "    #open the file and load it\n",
    "    hf = open(file_name,'r')\n",
    "    lines=hf.readlines()\n",
    "    hf.close()\n",
    "    ##############################\n",
    "    x=[]\n",
    "    y=[]\n",
    "    for line in lines:\n",
    "       #analize each line and split the data into numeric values\n",
    "        data = line[:-1].split(',')\n",
    "        y.append(labels[data[-1]])\n",
    "        x.append([float(i) for i in data[:-1]])\n",
    "\n",
    "    #convertir la lista a un arreglo numpy\n",
    "    x=np.array(x)\n",
    "    y=np.array(y)\n",
    "    return x,y"
   ]
  },
  {
   "cell_type": "code",
   "execution_count": 12,
   "metadata": {},
   "outputs": [],
   "source": [
    "#verify\n",
    "X,Y=loadIris()\n",
    "\n"
   ]
  },
  {
   "cell_type": "code",
   "execution_count": 13,
   "metadata": {},
   "outputs": [
    {
     "data": {
      "text/plain": [
       "[<matplotlib.lines.Line2D at 0x7f33f3da8220>]"
      ]
     },
     "execution_count": 13,
     "metadata": {},
     "output_type": "execute_result"
    },
    {
     "data": {
      "image/png": "[encoded data removed]",
      "text/plain": [
       "<Figure size 432x288 with 1 Axes>"
      ]
     },
     "metadata": {
      "needs_background": "light"
     },
     "output_type": "display_data"
    }
   ],
   "source": [
    "#plot the data\n",
    "v1=0 #you can change this value 0 means the first variable\n",
    "v2=1 #you can change this value 1 means the second variable\n",
    "\n",
    "plt.plot(X[Y==0,v1],X[Y==0,v2],'ro')\n",
    "plt.plot(X[Y==1,v1],X[Y==1,v2],'go')\n",
    "plt.plot(X[Y==2,v1],X[Y==2,v2],'bo')\n"
   ]
  },
  {
   "cell_type": "markdown",
   "metadata": {},
   "source": [
    "Since we will be using a binary classifier and the dataset has three categorical classes, you must pre-process it to only consider the following classes: --Iris Virginica-- and -- No Iris Virginica --. The class Iris Virginica must be replaced by the value 1. The remaining ones by 0. You must complete the code of the pre_process function below\n",
    "\n",
    "Note: The $loadIris()$ function returns the data matrix X and the labels Y. In the labels vector we have the following assignments to facilitate numerical manipulation:\n",
    "\n",
    "     Iris-setosa = 0\n",
    "     Iris-versicolor = 1\n",
    "     Iris-virginica = 2 "
   ]
  },
  {
   "cell_type": "code",
   "execution_count": 6,
   "metadata": {},
   "outputs": [],
   "source": [
    "def pre_process(Y):\n",
    "    #this function should return a new labels vector having only 0 for --non virginica-- class\n",
    "    #and 1 for the --virginica-- class\n",
    "    \n",
    "    Y_bin=np.array([])\n",
    "    #your code goes here\n",
    "    \n",
    "    \n",
    "    #\n",
    "    return Y_bin.astype(int) "
   ]
  },
  {
   "cell_type": "code",
   "execution_count": 7,
   "metadata": {},
   "outputs": [],
   "source": [
    "#verify\n",
    "YY = pre_process(Y)\n"
   ]
  },
  {
   "cell_type": "code",
   "execution_count": null,
   "metadata": {},
   "outputs": [],
   "source": [
    "#plot the data using the new labels\n"
   ]
  },
  {
   "cell_type": "markdown",
   "metadata": {},
   "source": [
    "### Put everything together\n",
    "Now, we will use the functions that have been defined to train the classifier"
   ]
  },
  {
   "cell_type": "code",
   "execution_count": null,
   "metadata": {},
   "outputs": [],
   "source": [
    "#a) load the dataset\n",
    "X,Y=loadIris()\n",
    "############################\n",
    "#b) change the labels\n",
    "YY=pre_process(Y)\n",
    "\n",
    "############################\n",
    "#c) train the model\n",
    "clf = LogisticRegression()\n",
    "clf.fit(X,YY)\n"
   ]
  },
  {
   "cell_type": "code",
   "execution_count": null,
   "metadata": {},
   "outputs": [],
   "source": [
    "############################\n",
    "############################\n",
    "#d) evaluate the model\n",
    "\n",
    "Y_pred=clf.predict(X)\n",
    "\n",
    "#measure the accuracy using the predictions and the true labels YY\n"
   ]
  },
  {
   "cell_type": "markdown",
   "metadata": {},
   "source": [
    "## Problem: linear classifier using a different dataset\n",
    "Perform the same process for the attached dataset $diabetes.data$. Use the file $diabetes.names$ to find out the information included in the dataset. In this case, you should modify the function $loadIris()$ to the new data format. "
   ]
  },
  {
   "cell_type": "code",
   "execution_count": 15,
   "metadata": {},
   "outputs": [],
   "source": [
    "#your code goes here"
   ]
  },
  {
   "cell_type": "code",
   "execution_count": null,
   "metadata": {},
   "outputs": [],
   "source": []
  },
  {
   "cell_type": "code",
   "execution_count": null,
   "metadata": {},
   "outputs": [],
   "source": []
  }
 ],
 "metadata": {
  "kernelspec": {
   "display_name": "Python 3",
   "language": "python",
   "name": "python3"
  },
  "language_info": {
   "codemirror_mode": {
    "name": "ipython",
    "version": 3
   },
   "file_extension": ".py",
   "mimetype": "text/x-python",
   "name": "python",
   "nbconvert_exporter": "python",
   "pygments_lexer": "ipython3",
   "version": "3.8.3"
  }
 },
 "nbformat": 4,
 "nbformat_minor": 4
}
