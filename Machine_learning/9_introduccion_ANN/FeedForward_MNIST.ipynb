{
 "cells": [
  {
   "cell_type": "code",
   "execution_count": 1,
   "metadata": {},
   "outputs": [
    {
     "name": "stdout",
     "output_type": "stream",
     "text": [
      "[INFO] \n",
      "labels: \n",
      " [0 1 2 3 4 5 6 7 8 9] \n",
      "count per class \n",
      " [5923 6742 5958 6131 5842 5421 5918 6265 5851 5949]\n",
      "Training set dimensions: 60000 x 784\n",
      "Test set dimensions: 10000 x 784\n",
      "5\n"
     ]
    },
    {
     "data": {
      "image/png": "[encoded data removed]",
      "text/plain": [
       "<Figure size 432x288 with 1 Axes>"
      ]
     },
     "metadata": {
      "needs_background": "light"
     },
     "output_type": "display_data"
    }
   ],
   "source": [
    "#load data\n",
    "import numpy as np\n",
    "import matplotlib.pyplot       as plt\n",
    "from mlxtend.data import loadlocal_mnist\n",
    "\n",
    "X_train, y_train = loadlocal_mnist(\n",
    "        images_path='MNIST/train-images-idx3-ubyte', \n",
    "        labels_path='MNIST/train-labels-idx1-ubyte')\n",
    "\n",
    "X_test, y_test = loadlocal_mnist(\n",
    "        images_path='MNIST/t10k-images-idx3-ubyte', \n",
    "        labels_path='MNIST/t10k-labels-idx1-ubyte')\n",
    "\n",
    "labels,count_class = np.unique(y_train,return_counts=True)\n",
    "\n",
    "print('[INFO] \\nlabels: \\n %s \\ncount per class \\n %s' % (labels,count_class))\n",
    "print('Training set dimensions: %s x %s' % (X_train.shape[0],X_train.shape[1]))\n",
    "print('Test set dimensions: %s x %s' % (X_test.shape[0], X_test.shape[1]))\n",
    "\n",
    "dim1=28\n",
    "dim2=28     \n",
    "image = X_train[2000].reshape((28,28))\n",
    "print(y_train[2000])\n",
    "plt.imshow(image,cmap=\"gray\");\n",
    "\n"
   ]
  },
  {
   "cell_type": "code",
   "execution_count": 11,
   "metadata": {},
   "outputs": [],
   "source": []
  },
  {
   "cell_type": "code",
   "execution_count": 2,
   "metadata": {},
   "outputs": [],
   "source": [
    "#multilayer feedforward\n",
    "from keras.models import Sequential\n",
    "from keras.layers import Dense"
   ]
  },
  {
   "cell_type": "code",
   "execution_count": 3,
   "metadata": {
    "scrolled": true
   },
   "outputs": [
    {
     "name": "stdout",
     "output_type": "stream",
     "text": [
      "Model: \"sequential\"\n",
      "_________________________________________________________________\n",
      "Layer (type)                 Output Shape              Param #   \n",
      "=================================================================\n",
      "dense (Dense)                (None, 400)               314000    \n",
      "_________________________________________________________________\n",
      "dense_1 (Dense)              (None, 200)               80200     \n",
      "_________________________________________________________________\n",
      "dense_2 (Dense)              (None, 100)               20100     \n",
      "_________________________________________________________________\n",
      "dense_3 (Dense)              (None, 10)                1010      \n",
      "=================================================================\n",
      "Total params: 415,310\n",
      "Trainable params: 415,310\n",
      "Non-trainable params: 0\n",
      "_________________________________________________________________\n"
     ]
    }
   ],
   "source": [
    "num_classes = labels.size\n",
    "nu_hl1 = 400\n",
    "nu_hl2 = 200\n",
    "nu_hl3 = 100\n",
    "nu_hl4 = num_classes\n",
    "\n",
    "\n",
    "model = Sequential()\n",
    "model.add(Dense(nu_hl1, input_dim=dim1*dim2, activation='relu'))\n",
    "model.add(Dense(nu_hl2, activation='relu'))\n",
    "model.add(Dense(nu_hl3, activation='relu'))\n",
    "model.add(Dense(nu_hl4, activation='softmax'))  #sigmoid\n",
    "model.summary()"
   ]
  },
  {
   "cell_type": "code",
   "execution_count": 4,
   "metadata": {},
   "outputs": [
    {
     "name": "stdout",
     "output_type": "stream",
     "text": [
      "convertir:  5  a one hot encoding :  [0. 0. 0. 0. 0. 1. 0. 0. 0. 0.]\n"
     ]
    }
   ],
   "source": [
    "from keras.utils import to_categorical\n",
    "train_labels = to_categorical(y_train, num_classes=num_classes)\n",
    "test_labels = to_categorical(y_test, num_classes=num_classes)\n",
    "\n",
    "print('convertir: ',y_train[0],' a one hot encoding : ',train_labels[0])"
   ]
  },
  {
   "cell_type": "code",
   "execution_count": 5,
   "metadata": {
    "scrolled": false
   },
   "outputs": [
    {
     "name": "stdout",
     "output_type": "stream",
     "text": [
      "Epoch 1/5\n",
      "6000/6000 [==============================] - 112s 19ms/step - loss: 0.7228 - accuracy: 0.8947\n",
      "Epoch 2/5\n",
      "6000/6000 [==============================] - 98s 16ms/step - loss: 0.2223 - accuracy: 0.9425\n",
      "Epoch 3/5\n",
      "6000/6000 [==============================] - 99s 16ms/step - loss: 0.1820 - accuracy: 0.9562\n",
      "Epoch 4/5\n",
      "6000/6000 [==============================] - 101s 17ms/step - loss: 0.1689 - accuracy: 0.9615\n",
      "Epoch 5/5\n",
      "6000/6000 [==============================] - 106s 18ms/step - loss: 0.1540 - accuracy: 0.9665\n"
     ]
    },
    {
     "data": {
      "text/plain": [
       "<tensorflow.python.keras.callbacks.History at 0x7f1b78060790>"
      ]
     },
     "execution_count": 5,
     "metadata": {},
     "output_type": "execute_result"
    }
   ],
   "source": [
    "#'binary_crossentropy'\n",
    "#'categorical_crossentropy'\n",
    "\n",
    "model.compile(loss='categorical_crossentropy', optimizer='adam', metrics=['accuracy'])\n",
    "model.fit(X_train, train_labels, epochs=5, batch_size=10)"
   ]
  },
  {
   "cell_type": "code",
   "execution_count": 6,
   "metadata": {},
   "outputs": [
    {
     "data": {
      "text/plain": [
       "array([3.4098809e-37, 5.1776568e-29, 2.6640393e-22, 1.8031729e-27,\n",
       "       1.6270138e-18, 5.6070799e-37, 0.0000000e+00, 1.0000000e+00,\n",
       "       1.8958944e-22, 2.0177459e-22], dtype=float32)"
      ]
     },
     "execution_count": 6,
     "metadata": {},
     "output_type": "execute_result"
    }
   ],
   "source": [
    "predictions = model.predict(X_test)\n",
    "predictions[0]"
   ]
  },
  {
   "cell_type": "code",
   "execution_count": 7,
   "metadata": {},
   "outputs": [
    {
     "name": "stdout",
     "output_type": "stream",
     "text": [
      "WARNING:tensorflow:From <ipython-input-7-ee2dc56b53e9>:1: Sequential.predict_classes (from tensorflow.python.keras.engine.sequential) is deprecated and will be removed after 2021-01-01.\n",
      "Instructions for updating:\n",
      "Please use instead:* `np.argmax(model.predict(x), axis=-1)`,   if your model does multi-class classification   (e.g. if it uses a `softmax` last-layer activation).* `(model.predict(x) > 0.5).astype(\"int32\")`,   if your model does binary classification   (e.g. if it uses a `sigmoid` last-layer activation).\n"
     ]
    },
    {
     "data": {
      "text/plain": [
       "7"
      ]
     },
     "execution_count": 7,
     "metadata": {},
     "output_type": "execute_result"
    }
   ],
   "source": [
    "predictions = model.predict_classes(X_test)\n",
    "predictions[0]"
   ]
  },
  {
   "cell_type": "code",
   "execution_count": 8,
   "metadata": {},
   "outputs": [
    {
     "name": "stdout",
     "output_type": "stream",
     "text": [
      "etiqueta 10 primeras imagenes de prueba:   [7 2 1 0 4 1 4 9 5 9] \n",
      "prediccion 10 primeras imagenes de prueba: [7 2 1 0 4 1 4 9 6 9]\n"
     ]
    }
   ],
   "source": [
    "print(\"etiqueta 10 primeras imagenes de prueba:  \",y_test[:10],\\\n",
    "      \"\\nprediccion 10 primeras imagenes de prueba:\",predictions[:10])"
   ]
  },
  {
   "cell_type": "code",
   "execution_count": 9,
   "metadata": {},
   "outputs": [
    {
     "name": "stdout",
     "output_type": "stream",
     "text": [
      "313/313 [==============================] - 3s 8ms/step - loss: 0.2052 - accuracy: 0.9608\n",
      "Accuracy: 96.08\n"
     ]
    }
   ],
   "source": [
    "_, accuracy = model.evaluate(X_test, test_labels)\n",
    "print('Accuracy: %.2f' % (accuracy*100))\n"
   ]
  },
  {
   "cell_type": "code",
   "execution_count": null,
   "metadata": {},
   "outputs": [],
   "source": []
  },
  {
   "cell_type": "code",
   "execution_count": null,
   "metadata": {},
   "outputs": [],
   "source": []
  },
  {
   "cell_type": "code",
   "execution_count": null,
   "metadata": {},
   "outputs": [],
   "source": []
  },
  {
   "cell_type": "code",
   "execution_count": null,
   "metadata": {},
   "outputs": [],
   "source": []
  },
  {
   "cell_type": "code",
   "execution_count": null,
   "metadata": {},
   "outputs": [],
   "source": []
  },
  {
   "cell_type": "code",
   "execution_count": null,
   "metadata": {},
   "outputs": [],
   "source": []
  }
 ],
 "metadata": {
  "kernelspec": {
   "display_name": "Python 3 (ipykernel)",
   "language": "python",
   "name": "python3"
  },
  "language_info": {
   "codemirror_mode": {
    "name": "ipython",
    "version": 3
   },
   "file_extension": ".py",
   "mimetype": "text/x-python",
   "name": "python",
   "nbconvert_exporter": "python",
   "pygments_lexer": "ipython3",
   "version": "3.9.12"
  }
 },
 "nbformat": 4,
 "nbformat_minor": 4
}
