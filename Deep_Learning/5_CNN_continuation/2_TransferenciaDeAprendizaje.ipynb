{
 "cells": [
  {
   "cell_type": "markdown",
   "id": "ef17655c",
   "metadata": {},
   "source": [
    "# Transfer Learning - Transferencia de Aprendizaje\n",
    "\n",
    "El aprendizaje por transferencia es una técnica de aprendizaje profundo en la que un modelo de red neuronal previamente entrenado (a menudo entrenado en un gran conjunto de datos para una tarea relacionada) se adapta a una tarea nueva y específica. En lugar de entrenar un modelo desde cero, el aprendizaje por transferencia aprovecha el conocimiento adquirido al resolver un problema y lo aplica a un problema diferente pero relacionado.\n",
    "\n",
    "Conceptos importantes:\n",
    "\n",
    "1. **Modelo previamente entrenado**: comenzar con un modelo previamente entrenado que ya haya aprendido características útiles de un gran conjunto de datos. Este modelo ha sido entrenado en una tarea como clasificación de imágenes, detección de objetos o procesamiento del lenguaje natural.\n",
    "\n",
    "2. **Modelo base**: utilizar el modelo previamente entrenado como base o capas iniciales de su nuevo modelo. Estas capas a menudo se denominan \"base convolucional\" en el caso de tareas relacionadas con imágenes.\n",
    "\n",
    "3. **Capas adicionales**: agregar capas adicionales encima de la base previamente entrenada. Estas capas suelen ser específicas de la nueva tarea que desea resolver. Por ejemplo, para una nueva tarea de clasificación de imágenes, agregaría algunas capas densamente conectadas.\n",
    "\n",
    "4. **Entrenamiento**: entrene el modelo combinado en su conjunto de datos específico. Los pesos de las capas previamente entrenadas generalmente se congelan para preservar el conocimiento que ya tienen. Durante el entrenamiento sólo se actualizan los pesos de las capas adicionales.\n",
    "\n",
    "El aprendizaje por transferencia ofrece varias ventajas:\n",
    "\n",
    "1. **Entrenamiento más rápido**: dado que comienza con un modelo previamente entrenado, a menudo necesita menos iteraciones de entrenamiento para lograr un buen rendimiento.\n",
    "\n",
    "2. **Pocos datos de entrenamiento**: puede lograr buenos resultados incluso con un conjunto de datos más pequeño porque el modelo base ya ha aprendido muchas características útiles.\n",
    "\n",
    "3. **Generalización mejorada**: los modelos previamente entrenados han visto una amplia variedad de datos, lo que les ayuda a aprender características que son más generales y transferibles.\n",
    "\n",
    "\n",
    "El aprendizaje por transferencia se utiliza ampliamente en diversos problemas, incluida la visión por computadora, el procesamiento del lenguaje natural e incluso algunas tareas especializadas en el procesamiento de audio y el aprendizaje por refuerzo. Es una herramienta poderosa que ha contribuido significativamente al avance del aprendizaje profundo en aplicaciones del mundo real."
   ]
  },
  {
   "cell_type": "markdown",
   "id": "0223d0e0",
   "metadata": {},
   "source": [
    "## Caso 1:\n",
    "Utilizar un modelo VGG previamente entrenado como extractor de características y agregue sus propias capas densas personalizadas para la clasificación. Ejemplo  usando TensorFlow y Keras:\n",
    "\n",
    "```python\n",
    "import tensorflow as tf\n",
    "from tensorflow.keras.applications import VGG16\n",
    "from tensorflow.keras.models import Sequential\n",
    "from tensorflow.keras.layers import Dense, Flatten, Dropout\n",
    "\n",
    "# Cargar el modelo pre-entrenado  VGG16  (Excluir la capa de salida)\n",
    "base_model = VGG16(weights='imagenet', include_top=False, input_shape=(224, 224, 3))\n",
    "\n",
    "# Congelar las capas\n",
    "for layer in base_model.layers:\n",
    "    layer.trainable = False\n",
    "\n",
    "# Crear un nuevo modelo (clasificador)\n",
    "model = Sequential()\n",
    "model.add(base_model)\n",
    "model.add(Flatten())\n",
    "model.add(Dense(256, activation='relu'))\n",
    "model.add(Dropout(0.5))\n",
    "model.add(Dense(10, activation='softmax'))  # Asumiendo 10 clases\n",
    "\n",
    "# Compile el modelo\n",
    "model.compile(optimizer='adam',\n",
    "              loss='categorical_crossentropy',\n",
    "              metrics=['accuracy'])\n",
    "\n",
    "# imprimir el resumen\n",
    "model.summary()\n",
    "```\n",
    "\n",
    "Explicación:\n",
    "\n",
    "1. Primero importamos las bibliotecas necesarias y cargamos el modelo VGG16 previamente entrenado sin la capa superior (`include_top=False`).\n",
    "\n",
    "2. Congelamos las capas previamente entrenadas usando un bucle para evitar que se actualicen durante el entrenamiento.\n",
    "\n",
    "3. A continuación, creamos un nuevo modelo secuencial y agregamos el modelo VGG previamente entrenado como primera capa. Luego agregamos una capa `Flatten` para convertir los mapas de características 2D en un vector 1D.\n",
    "\n",
    "4. Agregamos una capa Densa con 256 unidades y activación ReLU, seguida de una capa de `Dropout` para regularización.\n",
    "\n",
    "5. Finalmente, agregamos una capa Densa de salida con activación softmax, asumiendo 10 clases para la clasificación.\n",
    "\n",
    "6. El modelo se compila con un optimizador, una función de pérdida y una métrica para evaluación.\n",
    "\n",
    "Asegúrese de preparar su conjunto de datos para el entrenamiento y la evaluación, y ajuste la forma de entrada y la cantidad de clases de salida según su tarea específica."
   ]
  },
  {
   "cell_type": "code",
   "execution_count": null,
   "id": "d1cbee53",
   "metadata": {},
   "outputs": [],
   "source": [
    "\n",
    "#from google.colab import drive\n",
    "#drive.mount('/content/gdrive',force_remount=True)\n",
    "#root_dir = '/content/gdrive/My Drive/Colab Notebooks/'"
   ]
  },
  {
   "cell_type": "code",
   "execution_count": 29,
   "id": "1ca5d7bb",
   "metadata": {},
   "outputs": [
    {
     "name": "stdout",
     "output_type": "stream",
     "text": [
      "[INFO] datos cargados y redimensionados a la forma: num imagenes x filas x columnas x 3 canales\n",
      " \n",
      "Etiquetas o clases: \n",
      " [0 1 2 3 4 5 6 7 8 9] \n",
      "Datos por clase \n",
      " [5923 6742 5958 6131 5842 5421 5918 6265 5851 5949]\n",
      "Train set: (60000, 48, 48, 3), Test set: (10000, 48, 48, 3)\n"
     ]
    }
   ],
   "source": [
    "#load data\n",
    "import numpy as np\n",
    "import matplotlib.pyplot       as plt\n",
    "from mlxtend.data import loadlocal_mnist\n",
    "import cv2\n",
    "import tensorflow as tf\n",
    "from tensorflow.keras import layers, models\n",
    "from tensorflow.keras.utils import to_categorical\n",
    "\n",
    "root_dir = ''\n",
    "\n",
    "X_train, y_train = loadlocal_mnist(\n",
    "        images_path=root_dir+'MNIST/train-images-idx3-ubyte', \n",
    "        labels_path=root_dir+'MNIST/train-labels-idx1-ubyte')\n",
    "\n",
    "X_test, y_test = loadlocal_mnist(\n",
    "        images_path=root_dir+'MNIST/t10k-images-idx3-ubyte', \n",
    "        labels_path=root_dir+'MNIST/t10k-labels-idx1-ubyte')\n",
    "\n",
    "#organizar como arreglo de matrices\n",
    "X_train = X_train.reshape(60000,28,28)\n",
    "X_test = X_test.reshape(10000,28,28)\n",
    "\n",
    "#ajustar para que sea de 3 canales\n",
    "X_train = np.repeat(X_train[:, :,:, np.newaxis], 3, axis=3)\n",
    "X_test  = np.repeat(X_test[:, :,:, np.newaxis], 3, axis=3)\n",
    "#cambiar dimensiones 48x48\n",
    "new_dim = (48,48)\n",
    "X_train = np.array([cv2.resize(image, new_dim) for image in X_train])\n",
    "X_test = np.array([cv2.resize(image, new_dim) for image in X_test])\n",
    "\n",
    "\n",
    "\n",
    "print(\"[INFO] datos cargados y redimensionados a la forma: num imagenes x filas x columnas x 3 canales\")\n",
    "labels,count_class = np.unique(y_train,return_counts=True)\n",
    "print(' \\nEtiquetas o clases: \\n %s \\nDatos por clase \\n %s' % (labels,count_class))\n",
    "print(f\"Train set: {X_train.shape}, Test set: {X_test.shape}\")\n",
    "\n",
    "num_classes = labels.size\n"
   ]
  },
  {
   "cell_type": "code",
   "execution_count": 30,
   "id": "b5772bd5",
   "metadata": {},
   "outputs": [
    {
     "name": "stdout",
     "output_type": "stream",
     "text": [
      "7\n"
     ]
    },
    {
     "data": {
      "image/png": "[encoded data removed]",
      "text/plain": [
       "<Figure size 1500x500 with 2 Axes>"
      ]
     },
     "metadata": {},
     "output_type": "display_data"
    }
   ],
   "source": [
    "plt.figure(1, figsize=(15, 5))\n",
    "index = 5000\n",
    "\n",
    "print(y_train[index])\n",
    "plt.subplot(121)\n",
    "plt.imshow(X_train[index],cmap=\"gray\");\n",
    "plt.subplot(122)\n",
    "_,_,_=plt.hist(X_train[index].ravel(),100)"
   ]
  },
  {
   "cell_type": "code",
   "execution_count": 31,
   "id": "7fb95c6d",
   "metadata": {},
   "outputs": [
    {
     "name": "stdout",
     "output_type": "stream",
     "text": [
      "Model: \"sequential\"\n",
      "_________________________________________________________________\n",
      " Layer (type)                Output Shape              Param #   \n",
      "=================================================================\n",
      " vgg16 (Functional)          (None, 1, 1, 512)         14714688  \n",
      "                                                                 \n",
      " flatten (Flatten)           (None, 512)               0         \n",
      "                                                                 \n",
      " dense (Dense)               (None, 256)               131328    \n",
      "                                                                 \n",
      " dropout (Dropout)           (None, 256)               0         \n",
      "                                                                 \n",
      " dense_1 (Dense)             (None, 10)                2570      \n",
      "                                                                 \n",
      "=================================================================\n",
      "Total params: 14,848,586\n",
      "Trainable params: 133,898\n",
      "Non-trainable params: 14,714,688\n",
      "_________________________________________________________________\n"
     ]
    }
   ],
   "source": [
    "import tensorflow as tf\n",
    "from tensorflow.keras.applications import VGG16\n",
    "from tensorflow.keras.models import Sequential\n",
    "from tensorflow.keras.layers import Dense, Flatten, Dropout\n",
    "\n",
    "# Cargar el modelo pre-entrenado  VGG16  (Excluir la capa de salida)\n",
    "base_model = VGG16(weights='imagenet', include_top=False, input_shape=(48, 48, 3))\n",
    "\n",
    "# Congelar las capas\n",
    "for layer in base_model.layers:\n",
    "    layer.trainable = False\n",
    "\n",
    "# Crear un nuevo modelo (clasificador)\n",
    "model = Sequential()\n",
    "model.add(base_model)\n",
    "model.add(Flatten())\n",
    "model.add(Dense(256, activation='relu'))\n",
    "model.add(Dropout(0.5))\n",
    "model.add(Dense(10, activation='softmax'))  # Asumiendo 10 clases\n",
    "\n",
    "# Compile el modelo\n",
    "model.compile(optimizer='adam',\n",
    "              loss='categorical_crossentropy',\n",
    "              metrics=['accuracy'])\n",
    "\n",
    "# imprimir el resumen\n",
    "model.summary()"
   ]
  },
  {
   "cell_type": "code",
   "execution_count": 32,
   "id": "a83f1033",
   "metadata": {},
   "outputs": [
    {
     "name": "stdout",
     "output_type": "stream",
     "text": [
      "Epoch 1/5\n",
      "600/600 [==============================] - 260s 431ms/step - loss: 0.7819 - accuracy: 0.8264\n",
      "Epoch 2/5\n",
      "600/600 [==============================] - 264s 441ms/step - loss: 0.2722 - accuracy: 0.9147\n",
      "Epoch 3/5\n",
      "600/600 [==============================] - 265s 441ms/step - loss: 0.2207 - accuracy: 0.9306\n",
      "Epoch 4/5\n",
      "600/600 [==============================] - 266s 444ms/step - loss: 0.1980 - accuracy: 0.9364\n",
      "Epoch 5/5\n",
      "600/600 [==============================] - 268s 446ms/step - loss: 0.1847 - accuracy: 0.9403\n"
     ]
    },
    {
     "data": {
      "text/plain": [
       "<keras.callbacks.History at 0x21a118e7d60>"
      ]
     },
     "execution_count": 32,
     "metadata": {},
     "output_type": "execute_result"
    }
   ],
   "source": [
    "#one hot encoding\n",
    "train_labels = to_categorical(y_train, num_classes=num_classes)\n",
    "test_labels = to_categorical(y_test, num_classes=num_classes)\n",
    "#entrenar el modelo\n",
    "model.fit(X_train, train_labels, epochs=5, batch_size=100)"
   ]
  },
  {
   "cell_type": "code",
   "execution_count": 33,
   "id": "02f12ed8",
   "metadata": {},
   "outputs": [
    {
     "name": "stdout",
     "output_type": "stream",
     "text": [
      "313/313 [==============================] - 51s 162ms/step - loss: 0.1328 - accuracy: 0.9584\n",
      "Accuracy: 95.84\n"
     ]
    }
   ],
   "source": [
    "_, accuracy = model.evaluate(X_test, test_labels)\n",
    "print('Accuracy: %.2f' % (accuracy*100))"
   ]
  },
  {
   "cell_type": "markdown",
   "id": "8ebef247",
   "metadata": {},
   "source": [
    "## Caso 2:\n",
    "utilizar un modelo ResNet previamente entrenado como extractor de características y agregar s capas densas personalizadas para la clasificación. Ejemplo usando TensorFlow y Keras:\n",
    "\n",
    "```python\n",
    "import tensorflow as tf\n",
    "from tensorflow.keras.applications import ResNet50\n",
    "from tensorflow.keras.models import Sequential\n",
    "from tensorflow.keras.layers import Dense, Flatten, Dropout\n",
    "\n",
    "# Lcargar modelo ResNet50 \n",
    "base_model = ResNet50(weights='imagenet', include_top=False, input_shape=(224, 224, 3))\n",
    "\n",
    "# Congelar capas\n",
    "for layer in base_model.layers:\n",
    "    layer.trainable = False\n",
    "\n",
    "# Crear nuevo modelo (clasificador)\n",
    "model = Sequential()\n",
    "model.add(base_model)\n",
    "model.add(Flatten())\n",
    "model.add(Dense(256, activation='relu'))\n",
    "model.add(Dropout(0.5))\n",
    "model.add(Dense(10, activation='softmax'))  # Asumiendo 10 clases\n",
    "\n",
    "# Compile el modelo\n",
    "model.compile(optimizer='adam',\n",
    "              loss='categorical_crossentropy',\n",
    "              metrics=['accuracy'])\n",
    "\n",
    "# Mostrar resumen\n",
    "model.summary()\n",
    "```\n",
    "\n",
    "Explicación:\n",
    "1. Primero importamos las bibliotecas necesarias y cargamos el modelo ResNet50 previamente entrenado sin la capa superior (`include_top=False`).\n",
    "\n",
    "2. Congelamos las capas previamente entrenadas usando un bucle para evitar que se actualicen durante el entrenamiento.\n",
    "\n",
    ".....\n",
    "\n",
    "\n",
    "Ajuste la forma de entrada y la cantidad de clases de salida según su tarea específica."
   ]
  },
  {
   "cell_type": "code",
   "execution_count": 34,
   "id": "4d0f4a03",
   "metadata": {},
   "outputs": [
    {
     "name": "stdout",
     "output_type": "stream",
     "text": [
      "Downloading data from https://storage.googleapis.com/tensorflow/keras-applications/resnet/resnet50_weights_tf_dim_ordering_tf_kernels_notop.h5\n",
      "94765736/94765736 [==============================] - 4s 0us/step\n",
      "Model: \"sequential_1\"\n",
      "_________________________________________________________________\n",
      " Layer (type)                Output Shape              Param #   \n",
      "=================================================================\n",
      " resnet50 (Functional)       (None, 2, 2, 2048)        23587712  \n",
      "                                                                 \n",
      " flatten_1 (Flatten)         (None, 8192)              0         \n",
      "                                                                 \n",
      " dense_2 (Dense)             (None, 128)               1048704   \n",
      "                                                                 \n",
      " dropout_1 (Dropout)         (None, 128)               0         \n",
      "                                                                 \n",
      " dense_3 (Dense)             (None, 10)                1290      \n",
      "                                                                 \n",
      "=================================================================\n",
      "Total params: 24,637,706\n",
      "Trainable params: 1,049,994\n",
      "Non-trainable params: 23,587,712\n",
      "_________________________________________________________________\n"
     ]
    }
   ],
   "source": [
    "from tensorflow.keras.applications import ResNet50\n",
    "from tensorflow.keras.models import Sequential\n",
    "from tensorflow.keras.layers import Dense, Flatten, Dropout\n",
    "\n",
    "# Lcargar modelo ResNet50 \n",
    "base_model = ResNet50(weights='imagenet', include_top=False, input_shape=(48, 48, 3))\n",
    "\n",
    "# Congelar capas\n",
    "for layer in base_model.layers:\n",
    "    layer.trainable = False\n",
    "\n",
    "# Crear nuevo modelo (clasificador)\n",
    "model = Sequential()\n",
    "model.add(base_model)\n",
    "model.add(Flatten())\n",
    "model.add(Dense(128, activation='relu'))\n",
    "model.add(Dropout(0.5))\n",
    "model.add(Dense(10, activation='softmax'))  # Asumiendo 10 clases\n",
    "\n",
    "# Compile el modelo\n",
    "model.compile(optimizer='adam',\n",
    "              loss='categorical_crossentropy',\n",
    "              metrics=['accuracy'])\n",
    "\n",
    "# Mostrar resumen\n",
    "model.summary()"
   ]
  },
  {
   "cell_type": "code",
   "execution_count": 35,
   "id": "76358f94",
   "metadata": {},
   "outputs": [
    {
     "name": "stdout",
     "output_type": "stream",
     "text": [
      "Epoch 1/5\n",
      "600/600 [==============================] - 187s 304ms/step - loss: 0.4674 - accuracy: 0.8543\n",
      "Epoch 2/5\n",
      "600/600 [==============================] - 179s 298ms/step - loss: 0.2443 - accuracy: 0.9233\n",
      "Epoch 3/5\n",
      "600/600 [==============================] - 182s 304ms/step - loss: 0.2101 - accuracy: 0.9339\n",
      "Epoch 4/5\n",
      "600/600 [==============================] - 182s 304ms/step - loss: 0.1816 - accuracy: 0.9425\n",
      "Epoch 5/5\n",
      "600/600 [==============================] - 188s 314ms/step - loss: 0.1646 - accuracy: 0.9466\n",
      "313/313 [==============================] - 46s 142ms/step - loss: 0.0824 - accuracy: 0.9757\n",
      "Accuracy: 97.57\n"
     ]
    }
   ],
   "source": [
    "#entrenar el modelo\n",
    "model.fit(X_train, train_labels, epochs=5, batch_size=100)\n",
    "_, accuracy = model.evaluate(X_test, test_labels)\n",
    "print('Accuracy: %.2f' % (accuracy*100))"
   ]
  },
  {
   "cell_type": "code",
   "execution_count": null,
   "id": "c9c1cd7a",
   "metadata": {},
   "outputs": [],
   "source": []
  },
  {
   "cell_type": "markdown",
   "id": "7a96abab",
   "metadata": {},
   "source": [
    "## Caso 3:\n",
    "\n",
    "Utilizar un modelo MobileNet previamente entrenado como extractor de características y agregar capas densas personalizadas para la clasificación. Ejemplo usando TensorFlow y Keras:\n",
    "\n",
    "```python\n",
    "import tensorflow as tf\n",
    "from tensorflow.keras.applications import MobileNetV2\n",
    "from tensorflow.keras.models import Sequential\n",
    "from tensorflow.keras.layers import Dense, GlobalAveragePooling2D\n",
    "\n",
    "# Cargar MobileNetV2 \n",
    "base_model = MobileNetV2(weights='imagenet', include_top=False, input_shape=(224, 224, 3))\n",
    "\n",
    "# Congelar capas\n",
    "for layer in base_model.layers:\n",
    "    layer.trainable = False\n",
    "\n",
    "# Crear clasificador\n",
    "model = Sequential()\n",
    "model.add(base_model)\n",
    "model.add(GlobalAveragePooling2D())\n",
    "model.add(Dense(1024, activation='relu'))\n",
    "model.add(Dense(10, activation='softmax'))  # Asumir 10 clases\n",
    "# Compile el modelo\n",
    "model.compile(optimizer='adam',\n",
    "              loss='sparse_categorical_crossentropy',\n",
    "              metrics=['accuracy'])\n",
    "\n",
    "# mostrar resultado\n",
    "model.summary()\n",
    "```\n",
    "\n",
    "Ajuste la forma de entrada y la cantidad de clases de salida según su tarea específica."
   ]
  },
  {
   "cell_type": "code",
   "execution_count": 40,
   "id": "84210501",
   "metadata": {},
   "outputs": [
    {
     "name": "stdout",
     "output_type": "stream",
     "text": [
      "WARNING:tensorflow:`input_shape` is undefined or non-square, or `rows` is not in [96, 128, 160, 192, 224]. Weights for input shape (224, 224) will be loaded as the default.\n",
      "Model: \"sequential_4\"\n",
      "_________________________________________________________________\n",
      " Layer (type)                Output Shape              Param #   \n",
      "=================================================================\n",
      " mobilenetv2_1.00_224 (Funct  (None, 2, 2, 1280)       2257984   \n",
      " ional)                                                          \n",
      "                                                                 \n",
      " global_average_pooling2d_2   (None, 1280)             0         \n",
      " (GlobalAveragePooling2D)                                        \n",
      "                                                                 \n",
      " dense_8 (Dense)             (None, 128)               163968    \n",
      "                                                                 \n",
      " dense_9 (Dense)             (None, 10)                1290      \n",
      "                                                                 \n",
      "=================================================================\n",
      "Total params: 2,423,242\n",
      "Trainable params: 165,258\n",
      "Non-trainable params: 2,257,984\n",
      "_________________________________________________________________\n"
     ]
    }
   ],
   "source": [
    "from tensorflow.keras.applications import MobileNetV2\n",
    "from tensorflow.keras.models import Sequential\n",
    "from tensorflow.keras.layers import Dense, GlobalAveragePooling2D\n",
    "\n",
    "# Cargar MobileNetV2 \n",
    "base_model = MobileNetV2(weights='imagenet', include_top=False, input_shape=(48, 48, 3))\n",
    "\n",
    "# Congelar capas\n",
    "for layer in base_model.layers:\n",
    "    layer.trainable = False\n",
    "\n",
    "# Crear clasificador\n",
    "model = Sequential()\n",
    "model.add(base_model)\n",
    "model.add(GlobalAveragePooling2D())\n",
    "model.add(Dense(128, activation='relu'))\n",
    "model.add(Dense(10, activation='softmax'))  # Asumir 10 clases\n",
    "# Compile el modelo\n",
    "model.compile(optimizer='adam',\n",
    "              loss='categorical_crossentropy',\n",
    "              metrics=['accuracy'])\n",
    "\n",
    "# mostrar resultado\n",
    "model.summary()"
   ]
  },
  {
   "cell_type": "code",
   "execution_count": 41,
   "id": "55db5417",
   "metadata": {},
   "outputs": [
    {
     "name": "stdout",
     "output_type": "stream",
     "text": [
      "Epoch 1/5\n",
      "600/600 [==============================] - 38s 60ms/step - loss: 0.4601 - accuracy: 0.8508\n",
      "Epoch 2/5\n",
      "600/600 [==============================] - 36s 60ms/step - loss: 0.2910 - accuracy: 0.9043\n",
      "Epoch 3/5\n",
      "600/600 [==============================] - 37s 62ms/step - loss: 0.2464 - accuracy: 0.9182\n",
      "Epoch 4/5\n",
      "600/600 [==============================] - 36s 59ms/step - loss: 0.2192 - accuracy: 0.9271\n",
      "Epoch 5/5\n",
      "600/600 [==============================] - 36s 60ms/step - loss: 0.1994 - accuracy: 0.9331\n",
      "313/313 [==============================] - 8s 24ms/step - loss: 0.2671 - accuracy: 0.9156\n",
      "Accuracy: 91.56\n"
     ]
    }
   ],
   "source": [
    "#entrenar el modelo\n",
    "model.fit(X_train, train_labels, epochs=5, batch_size=100)\n",
    "_, accuracy = model.evaluate(X_test, test_labels)\n",
    "print('Accuracy: %.2f' % (accuracy*100))"
   ]
  },
  {
   "cell_type": "code",
   "execution_count": null,
   "id": "f6a1f79e",
   "metadata": {},
   "outputs": [],
   "source": []
  }
 ],
 "metadata": {
  "kernelspec": {
   "display_name": "Python 3 (ipykernel)",
   "language": "python",
   "name": "python3"
  },
  "language_info": {
   "codemirror_mode": {
    "name": "ipython",
    "version": 3
   },
   "file_extension": ".py",
   "mimetype": "text/x-python",
   "name": "python",
   "nbconvert_exporter": "python",
   "pygments_lexer": "ipython3",
   "version": "3.8.16"
  }
 },
 "nbformat": 4,
 "nbformat_minor": 5
}
