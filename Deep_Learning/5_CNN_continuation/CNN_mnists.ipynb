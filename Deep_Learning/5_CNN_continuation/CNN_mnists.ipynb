{
 "cells": [
  {
   "cell_type": "code",
   "execution_count": 2,
   "id": "f18d5c15",
   "metadata": {},
   "outputs": [
    {
     "name": "stdout",
     "output_type": "stream",
     "text": [
      "[INFO] \n",
      "labels: \n",
      " [0 1 2 3 4 5 6 7 8 9] \n",
      "count per class \n",
      " [5923 6742 5958 6131 5842 5421 5918 6265 5851 5949]\n",
      "Training set dimensions: 60000 x 784\n",
      "Test set dimensions: 10000 x 784\n",
      "5\n"
     ]
    },
    {
     "data": {
      "image/png": "[encoded data removed]",
      "text/plain": [
       "<Figure size 640x480 with 1 Axes>"
      ]
     },
     "metadata": {},
     "output_type": "display_data"
    }
   ],
   "source": [
    "#load data\n",
    "import numpy as np\n",
    "import matplotlib.pyplot       as plt\n",
    "from mlxtend.data import loadlocal_mnist\n",
    "\n",
    "X_train, y_train = loadlocal_mnist(\n",
    "        images_path='MNIST/train-images-idx3-ubyte', \n",
    "        labels_path='MNIST/train-labels-idx1-ubyte')\n",
    "\n",
    "X_test, y_test = loadlocal_mnist(\n",
    "        images_path='MNIST/t10k-images-idx3-ubyte', \n",
    "        labels_path='MNIST/t10k-labels-idx1-ubyte')\n",
    "\n",
    "labels,count_class = np.unique(y_train,return_counts=True)\n",
    "\n",
    "\n",
    "print('[INFO] \\nlabels: \\n %s \\ncount per class \\n %s' % (labels,count_class))\n",
    "print('Training set dimensions: %s x %s' % (X_train.shape[0],X_train.shape[1]))\n",
    "print('Test set dimensions: %s x %s' % (X_test.shape[0], X_test.shape[1]))\n",
    "\n",
    "dim1=28\n",
    "dim2=28     \n",
    "image = X_train[0].reshape((28,28))\n",
    "print(y_train[0])\n",
    "plt.imshow(image,cmap=\"gray\");\n",
    "\n"
   ]
  },
  {
   "cell_type": "code",
   "execution_count": 11,
   "id": "d2f3fd87",
   "metadata": {},
   "outputs": [],
   "source": []
  },
  {
   "cell_type": "code",
   "execution_count": 3,
   "id": "d79eb944",
   "metadata": {},
   "outputs": [],
   "source": [
    "#multilayer feedforward\n",
    "from keras.models import Sequential\n",
    "from keras.layers import Dense, Conv2D, Flatten"
   ]
  },
  {
   "cell_type": "code",
   "execution_count": 15,
   "id": "0b0c6239",
   "metadata": {
    "scrolled": true
   },
   "outputs": [
    {
     "name": "stdout",
     "output_type": "stream",
     "text": [
      "Model: \"sequential_2\"\n",
      "_________________________________________________________________\n",
      " Layer (type)                Output Shape              Param #   \n",
      "=================================================================\n",
      " conv2d_4 (Conv2D)           (None, 26, 26, 128)       1280      \n",
      "                                                                 \n",
      " conv2d_5 (Conv2D)           (None, 24, 24, 32)        36896     \n",
      "                                                                 \n",
      " flatten_2 (Flatten)         (None, 18432)             0         \n",
      "                                                                 \n",
      " dense_2 (Dense)             (None, 10)                184330    \n",
      "                                                                 \n",
      "=================================================================\n",
      "Total params: 222,506\n",
      "Trainable params: 222,506\n",
      "Non-trainable params: 0\n",
      "_________________________________________________________________\n"
     ]
    }
   ],
   "source": [
    "num_classes = labels.size\n",
    "\n",
    "\n",
    "model = Sequential()\n",
    "\n",
    "#add model layers\n",
    "model.add(Conv2D(128, kernel_size=3, activation='relu', input_shape=(28,28,1)))\n",
    "model.add(Conv2D(32, kernel_size=3, activation='relu'))\n",
    "\n",
    "model.add(Flatten())\n",
    "model.add(Dense(num_classes, activation='softmax'))\n",
    "\n",
    "\n",
    "model.summary()"
   ]
  },
  {
   "cell_type": "code",
   "execution_count": 12,
   "id": "9242bd91",
   "metadata": {},
   "outputs": [
    {
     "name": "stdout",
     "output_type": "stream",
     "text": [
      "convertir:  5  a one hot encoding :  [0. 0. 0. 0. 0. 1. 0. 0. 0. 0.]\n"
     ]
    }
   ],
   "source": [
    "from keras.utils import to_categorical\n",
    "train_labels = to_categorical(y_train, num_classes=num_classes)\n",
    "test_labels = to_categorical(y_test, num_classes=num_classes)\n",
    "\n",
    "print('convertir: ',y_train[0],' a one hot encoding : ',train_labels[0])"
   ]
  },
  {
   "cell_type": "code",
   "execution_count": 6,
   "id": "dc540d54",
   "metadata": {},
   "outputs": [],
   "source": [
    "X_train = X_train.reshape(60000,28,28,1)\n",
    "X_test = X_test.reshape(10000,28,28,1)"
   ]
  },
  {
   "cell_type": "code",
   "execution_count": 7,
   "id": "0cffccbd",
   "metadata": {},
   "outputs": [
    {
     "name": "stdout",
     "output_type": "stream",
     "text": [
      "3\n"
     ]
    },
    {
     "data": {
      "image/png": "[encoded data removed]",
      "text/plain": [
       "<Figure size 640x480 with 1 Axes>"
      ]
     },
     "metadata": {},
     "output_type": "display_data"
    }
   ],
   "source": [
    "indx = 250\n",
    "image = X_train[indx,:,:,0]\n",
    "print(y_train[indx])\n",
    "plt.imshow(image,cmap=\"gray\");\n",
    "\n"
   ]
  },
  {
   "cell_type": "code",
   "execution_count": 16,
   "id": "e8b052fb",
   "metadata": {
    "scrolled": false
   },
   "outputs": [
    {
     "name": "stdout",
     "output_type": "stream",
     "text": [
      "Epoch 1/5\n",
      "600/600 [==============================] - 43s 72ms/step - loss: 0.2983 - accuracy: 0.9422\n",
      "Epoch 2/5\n",
      "600/600 [==============================] - 44s 73ms/step - loss: 0.0733 - accuracy: 0.9775\n",
      "Epoch 3/5\n",
      "600/600 [==============================] - 44s 73ms/step - loss: 0.0496 - accuracy: 0.9844\n",
      "Epoch 4/5\n",
      "600/600 [==============================] - 43s 72ms/step - loss: 0.0342 - accuracy: 0.9890\n",
      "Epoch 5/5\n",
      "600/600 [==============================] - 43s 72ms/step - loss: 0.0280 - accuracy: 0.9908\n"
     ]
    },
    {
     "data": {
      "text/plain": [
       "<keras.callbacks.History at 0x20c557b53d0>"
      ]
     },
     "execution_count": 16,
     "metadata": {},
     "output_type": "execute_result"
    }
   ],
   "source": [
    "#'binary_crossentropy'\n",
    "#'categorical_crossentropy'\n",
    "\n",
    "model.compile(loss='categorical_crossentropy', optimizer='adam', metrics=['accuracy'])\n",
    "model.fit(X_train, train_labels, epochs=5, batch_size=100)"
   ]
  },
  {
   "cell_type": "code",
   "execution_count": 9,
   "id": "2b20407a",
   "metadata": {},
   "outputs": [
    {
     "name": "stdout",
     "output_type": "stream",
     "text": [
      "313/313 [==============================] - 11s 34ms/step\n"
     ]
    },
    {
     "data": {
      "text/plain": [
       "array([7, 2, 1, 0, 4, 1, 4, 9, 5, 9], dtype=int64)"
      ]
     },
     "execution_count": 9,
     "metadata": {},
     "output_type": "execute_result"
    }
   ],
   "source": [
    "predictions = model.predict(X_test)\n",
    "predIdxs = np.argmax(predictions, axis=1)\n",
    "predIdxs[:10]"
   ]
  },
  {
   "cell_type": "code",
   "execution_count": 20,
   "id": "199e4061",
   "metadata": {},
   "outputs": [
    {
     "name": "stdout",
     "output_type": "stream",
     "text": [
      "\n",
      "\n",
      "10 primeras imagenes de prueba\n",
      "etiqueta 10 primeras imagenes de prueba:   [7 2 1 0 4 1 4 9 5 9] \n",
      "prediccion 10 primeras imagenes de prueba: [7 2 1 0 4 1 4 9 5 9]\n"
     ]
    },
    {
     "data": {
      "image/png": "[encoded data removed]",
      "text/plain": [
       "<Figure size 640x480 with 1 Axes>"
      ]
     },
     "metadata": {},
     "output_type": "display_data"
    }
   ],
   "source": [
    "images =  np.zeros((28,1))\n",
    "for i in range(10):\n",
    "    image = X_test[i].reshape((28,28))    \n",
    "    images=np.append(images,image,axis=1)\n",
    "    \n",
    "print(\"\\n\\n10 primeras imagenes de prueba\")    \n",
    "plt.imshow(images,cmap=\"gray\");\n",
    "\n",
    "print(\"etiqueta 10 primeras imagenes de prueba:  \",y_test[:10],\\\n",
    "      \"\\nprediccion 10 primeras imagenes de prueba:\",predIdxs[:10])\n"
   ]
  },
  {
   "cell_type": "code",
   "execution_count": 17,
   "id": "7db7a70f",
   "metadata": {},
   "outputs": [
    {
     "name": "stdout",
     "output_type": "stream",
     "text": [
      "313/313 [==============================] - 14s 43ms/step - loss: 0.1081 - accuracy: 0.9761\n",
      "Accuracy: 97.61\n"
     ]
    }
   ],
   "source": [
    "_, accuracy = model.evaluate(X_test, test_labels)\n",
    "print('Accuracy: %.2f' % (accuracy*100))"
   ]
  },
  {
   "cell_type": "code",
   "execution_count": null,
   "id": "773cb4c3",
   "metadata": {},
   "outputs": [],
   "source": []
  }
 ],
 "metadata": {
  "kernelspec": {
   "display_name": "Python 3 (ipykernel)",
   "language": "python",
   "name": "python3"
  },
  "language_info": {
   "codemirror_mode": {
    "name": "ipython",
    "version": 3
   },
   "file_extension": ".py",
   "mimetype": "text/x-python",
   "name": "python",
   "nbconvert_exporter": "python",
   "pygments_lexer": "ipython3",
   "version": "3.9.12"
  }
 },
 "nbformat": 4,
 "nbformat_minor": 5
}
