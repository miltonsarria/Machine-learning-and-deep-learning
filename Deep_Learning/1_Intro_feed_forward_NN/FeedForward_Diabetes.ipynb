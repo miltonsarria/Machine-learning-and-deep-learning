{
 "cells": [
  {
   "cell_type": "markdown",
   "metadata": {},
   "source": [
    "# Necessary libraries\n",
    "\n",
    "````python\n",
    "conda install ipython\n",
    "conda install jupyter\n",
    "pip install sklearn\n",
    "pip install scikit-image\n",
    "pip install imutils\n",
    "pip install opencv-contrib-python\n",
    "pip install opencv-python\n",
    "conda install keras\n",
    "conda install tensorflow\n",
    "pip install scikit-learn\n",
    "pip install mlxtend\n",
    "```` \n",
    "   \n",
    "\n",
    "\n"
   ]
  },
  {
   "cell_type": "markdown",
   "metadata": {},
   "source": []
  },
  {
   "cell_type": "code",
   "execution_count": 1,
   "metadata": {},
   "outputs": [
    {
     "data": {
      "text/plain": [
       "array([[  6.   , 148.   ,  72.   , ...,   0.627,  50.   ,   1.   ],\n",
       "       [  1.   ,  85.   ,  66.   , ...,   0.351,  31.   ,   0.   ],\n",
       "       [  8.   , 183.   ,  64.   , ...,   0.672,  32.   ,   1.   ],\n",
       "       ...,\n",
       "       [  5.   , 121.   ,  72.   , ...,   0.245,  30.   ,   0.   ],\n",
       "       [  1.   , 126.   ,  60.   , ...,   0.349,  47.   ,   1.   ],\n",
       "       [  1.   ,  93.   ,  70.   , ...,   0.315,  23.   ,   0.   ]])"
      ]
     },
     "execution_count": 1,
     "metadata": {},
     "output_type": "execute_result"
    }
   ],
   "source": [
    "#load data\n",
    "import numpy as np\n",
    "import matplotlib.pyplot       as plt\n",
    "\n",
    "data = np.loadtxt('datosML/diabetes.data',delimiter=',')\n",
    "data\n"
   ]
  },
  {
   "cell_type": "code",
   "execution_count": 3,
   "metadata": {},
   "outputs": [
    {
     "name": "stdout",
     "output_type": "stream",
     "text": [
      "[INFO]\n",
      "X: (768, 8)\n",
      "Y: (768,)\n"
     ]
    }
   ],
   "source": [
    "X = data[:,:8]\n",
    "y = data[:,8].astype(int)\n",
    "\n",
    "print(\"[INFO]\\nX: %s\\nY: %s\"%(X.shape,y.shape))"
   ]
  },
  {
   "cell_type": "code",
   "execution_count": null,
   "metadata": {},
   "outputs": [],
   "source": []
  },
  {
   "cell_type": "code",
   "execution_count": 4,
   "metadata": {},
   "outputs": [],
   "source": [
    "#multilayer feedforward\n",
    "from keras.models import Sequential\n",
    "from keras.layers import Dense"
   ]
  },
  {
   "cell_type": "code",
   "execution_count": 5,
   "metadata": {
    "scrolled": true
   },
   "outputs": [
    {
     "name": "stdout",
     "output_type": "stream",
     "text": [
      "Model: \"sequential\"\n",
      "_________________________________________________________________\n",
      " Layer (type)                Output Shape              Param #   \n",
      "=================================================================\n",
      " dense (Dense)               (None, 12)                108       \n",
      "                                                                 \n",
      " dense_1 (Dense)             (None, 8)                 104       \n",
      "                                                                 \n",
      " dense_2 (Dense)             (None, 1)                 9         \n",
      "                                                                 \n",
      "=================================================================\n",
      "Total params: 221\n",
      "Trainable params: 221\n",
      "Non-trainable params: 0\n",
      "_________________________________________________________________\n"
     ]
    }
   ],
   "source": [
    "num_classes = 2\n",
    "hl1 = 12\n",
    "hl2 = 8\n",
    "hl3 = 1\n",
    "\n",
    "\n",
    "\n",
    "model = Sequential()\n",
    "model.add(Dense(hl1, input_dim=8, activation='relu'))\n",
    "model.add(Dense(hl2, activation='relu'))\n",
    "model.add(Dense(hl3, activation='sigmoid'))  \n",
    "model.summary()"
   ]
  },
  {
   "cell_type": "code",
   "execution_count": 8,
   "metadata": {},
   "outputs": [
    {
     "name": "stdout",
     "output_type": "stream",
     "text": [
      "Requirement already satisfied: sklearn in c:\\users\\sarria\\anaconda3\\envs\\ann\\lib\\site-packages (0.0.post1)\n"
     ]
    }
   ],
   "source": [
    "!pip install sklearn\n"
   ]
  },
  {
   "cell_type": "code",
   "execution_count": 10,
   "metadata": {},
   "outputs": [
    {
     "name": "stdout",
     "output_type": "stream",
     "text": [
      "Collecting scikit-learn\n",
      "  Downloading scikit_learn-1.2.2-cp38-cp38-win_amd64.whl (8.3 MB)\n",
      "     ---------------------------------------- 0.0/8.3 MB ? eta -:--:--\n",
      "     - -------------------------------------- 0.4/8.3 MB 7.4 MB/s eta 0:00:02\n",
      "     ---- ----------------------------------- 0.9/8.3 MB 9.9 MB/s eta 0:00:01\n",
      "     ------- -------------------------------- 1.5/8.3 MB 11.0 MB/s eta 0:00:01\n",
      "     ---------- ----------------------------- 2.2/8.3 MB 11.9 MB/s eta 0:00:01\n",
      "     -------------- ------------------------- 3.0/8.3 MB 12.8 MB/s eta 0:00:01\n",
      "     ------------------- -------------------- 4.0/8.3 MB 14.1 MB/s eta 0:00:01\n",
      "     ----------------------- ---------------- 5.0/8.3 MB 15.1 MB/s eta 0:00:01\n",
      "     ----------------------------- ---------- 6.1/8.3 MB 16.2 MB/s eta 0:00:01\n",
      "     ---------------------------------- ----- 7.1/8.3 MB 16.9 MB/s eta 0:00:01\n",
      "     ---------------------------------------  8.3/8.3 MB 17.6 MB/s eta 0:00:01\n",
      "     ---------------------------------------- 8.3/8.3 MB 16.1 MB/s eta 0:00:00\n",
      "Collecting joblib>=1.1.1\n",
      "  Downloading joblib-1.2.0-py3-none-any.whl (297 kB)\n",
      "     ---------------------------------------- 0.0/298.0 kB ? eta -:--:--\n",
      "     ---------------------------------------- 298.0/298.0 kB ? eta 0:00:00\n",
      "Collecting threadpoolctl>=2.0.0\n",
      "  Downloading threadpoolctl-3.1.0-py3-none-any.whl (14 kB)\n",
      "Requirement already satisfied: scipy>=1.3.2 in c:\\users\\sarria\\anaconda3\\envs\\ann\\lib\\site-packages (from scikit-learn) (1.10.0)\n",
      "Requirement already satisfied: numpy>=1.17.3 in c:\\users\\sarria\\anaconda3\\envs\\ann\\lib\\site-packages (from scikit-learn) (1.23.5)\n",
      "Installing collected packages: threadpoolctl, joblib, scikit-learn\n",
      "Successfully installed joblib-1.2.0 scikit-learn-1.2.2 threadpoolctl-3.1.0\n"
     ]
    }
   ],
   "source": [
    "!pip install scikit-learn"
   ]
  },
  {
   "cell_type": "code",
   "execution_count": 11,
   "metadata": {},
   "outputs": [],
   "source": [
    "#separar datos train test\n",
    "from sklearn.model_selection import train_test_split\n",
    "X_train, X_test, y_train, y_test = train_test_split(X, y, test_size=0.3)"
   ]
  },
  {
   "cell_type": "code",
   "execution_count": 12,
   "metadata": {
    "scrolled": false
   },
   "outputs": [
    {
     "name": "stdout",
     "output_type": "stream",
     "text": [
      "Epoch 1/100\n",
      "54/54 [==============================] - 2s 2ms/step - loss: 11.9921 - accuracy: 0.6127\n",
      "Epoch 2/100\n",
      "54/54 [==============================] - 0s 2ms/step - loss: 3.4450 - accuracy: 0.5251\n",
      "Epoch 3/100\n",
      "54/54 [==============================] - 0s 2ms/step - loss: 1.2644 - accuracy: 0.5847\n",
      "Epoch 4/100\n",
      "54/54 [==============================] - 0s 2ms/step - loss: 1.0287 - accuracy: 0.5791\n",
      "Epoch 5/100\n",
      "54/54 [==============================] - 0s 2ms/step - loss: 0.9650 - accuracy: 0.5791\n",
      "Epoch 6/100\n",
      "54/54 [==============================] - 0s 2ms/step - loss: 0.8944 - accuracy: 0.5661\n",
      "Epoch 7/100\n",
      "54/54 [==============================] - 0s 2ms/step - loss: 0.9021 - accuracy: 0.5736\n",
      "Epoch 8/100\n",
      "54/54 [==============================] - 0s 2ms/step - loss: 0.8290 - accuracy: 0.5866\n",
      "Epoch 9/100\n",
      "54/54 [==============================] - 0s 2ms/step - loss: 0.8279 - accuracy: 0.6313\n",
      "Epoch 10/100\n",
      "54/54 [==============================] - 0s 2ms/step - loss: 0.8146 - accuracy: 0.5829\n",
      "Epoch 11/100\n",
      "54/54 [==============================] - 0s 2ms/step - loss: 0.7757 - accuracy: 0.5903\n",
      "Epoch 12/100\n",
      "54/54 [==============================] - 0s 2ms/step - loss: 0.7533 - accuracy: 0.6238\n",
      "Epoch 13/100\n",
      "54/54 [==============================] - 0s 2ms/step - loss: 0.7478 - accuracy: 0.5922\n",
      "Epoch 14/100\n",
      "54/54 [==============================] - 0s 2ms/step - loss: 0.7287 - accuracy: 0.5866\n",
      "Epoch 15/100\n",
      "54/54 [==============================] - 0s 2ms/step - loss: 0.7345 - accuracy: 0.6145\n",
      "Epoch 16/100\n",
      "54/54 [==============================] - 0s 2ms/step - loss: 0.7148 - accuracy: 0.6145\n",
      "Epoch 17/100\n",
      "54/54 [==============================] - 0s 2ms/step - loss: 0.6922 - accuracy: 0.6257\n",
      "Epoch 18/100\n",
      "54/54 [==============================] - 0s 2ms/step - loss: 0.6958 - accuracy: 0.6294\n",
      "Epoch 19/100\n",
      "54/54 [==============================] - 0s 2ms/step - loss: 0.6961 - accuracy: 0.6220\n",
      "Epoch 20/100\n",
      "54/54 [==============================] - 0s 2ms/step - loss: 0.6893 - accuracy: 0.6108\n",
      "Epoch 21/100\n",
      "54/54 [==============================] - 0s 2ms/step - loss: 0.6681 - accuracy: 0.6443\n",
      "Epoch 22/100\n",
      "54/54 [==============================] - 0s 2ms/step - loss: 0.6596 - accuracy: 0.6294\n",
      "Epoch 23/100\n",
      "54/54 [==============================] - 0s 2ms/step - loss: 0.6457 - accuracy: 0.6555\n",
      "Epoch 24/100\n",
      "54/54 [==============================] - 0s 2ms/step - loss: 0.7026 - accuracy: 0.6238\n",
      "Epoch 25/100\n",
      "54/54 [==============================] - 0s 2ms/step - loss: 0.6553 - accuracy: 0.6462\n",
      "Epoch 26/100\n",
      "54/54 [==============================] - 0s 2ms/step - loss: 0.6570 - accuracy: 0.6480\n",
      "Epoch 27/100\n",
      "54/54 [==============================] - 0s 2ms/step - loss: 0.6429 - accuracy: 0.6518\n",
      "Epoch 28/100\n",
      "54/54 [==============================] - 0s 2ms/step - loss: 0.6347 - accuracy: 0.6555\n",
      "Epoch 29/100\n",
      "54/54 [==============================] - 0s 2ms/step - loss: 0.6477 - accuracy: 0.6350\n",
      "Epoch 30/100\n",
      "54/54 [==============================] - 0s 2ms/step - loss: 0.6400 - accuracy: 0.6667\n",
      "Epoch 31/100\n",
      "54/54 [==============================] - 0s 2ms/step - loss: 0.6561 - accuracy: 0.6331\n",
      "Epoch 32/100\n",
      "54/54 [==============================] - 0s 2ms/step - loss: 0.6680 - accuracy: 0.6294\n",
      "Epoch 33/100\n",
      "54/54 [==============================] - 0s 2ms/step - loss: 0.6344 - accuracy: 0.6741\n",
      "Epoch 34/100\n",
      "54/54 [==============================] - 0s 2ms/step - loss: 0.6204 - accuracy: 0.6890\n",
      "Epoch 35/100\n",
      "54/54 [==============================] - 0s 2ms/step - loss: 0.6411 - accuracy: 0.6518\n",
      "Epoch 36/100\n",
      "54/54 [==============================] - 0s 2ms/step - loss: 0.6323 - accuracy: 0.6499\n",
      "Epoch 37/100\n",
      "54/54 [==============================] - 0s 2ms/step - loss: 0.6476 - accuracy: 0.6555\n",
      "Epoch 38/100\n",
      "54/54 [==============================] - 0s 2ms/step - loss: 0.6319 - accuracy: 0.6909\n",
      "Epoch 39/100\n",
      "54/54 [==============================] - 0s 2ms/step - loss: 0.6156 - accuracy: 0.6536\n",
      "Epoch 40/100\n",
      "54/54 [==============================] - 0s 2ms/step - loss: 0.5978 - accuracy: 0.7002\n",
      "Epoch 41/100\n",
      "54/54 [==============================] - 0s 2ms/step - loss: 0.6155 - accuracy: 0.6648\n",
      "Epoch 42/100\n",
      "54/54 [==============================] - 0s 2ms/step - loss: 0.6251 - accuracy: 0.6574\n",
      "Epoch 43/100\n",
      "54/54 [==============================] - 0s 2ms/step - loss: 0.6004 - accuracy: 0.6946\n",
      "Epoch 44/100\n",
      "54/54 [==============================] - 0s 2ms/step - loss: 0.6299 - accuracy: 0.6667\n",
      "Epoch 45/100\n",
      "54/54 [==============================] - 0s 2ms/step - loss: 0.6279 - accuracy: 0.6723\n",
      "Epoch 46/100\n",
      "54/54 [==============================] - 0s 2ms/step - loss: 0.5896 - accuracy: 0.7002\n",
      "Epoch 47/100\n",
      "54/54 [==============================] - 0s 2ms/step - loss: 0.5982 - accuracy: 0.6853\n",
      "Epoch 48/100\n",
      "54/54 [==============================] - 0s 2ms/step - loss: 0.6286 - accuracy: 0.6778\n",
      "Epoch 49/100\n",
      "54/54 [==============================] - 0s 2ms/step - loss: 0.5914 - accuracy: 0.7002\n",
      "Epoch 50/100\n",
      "54/54 [==============================] - 0s 2ms/step - loss: 0.6122 - accuracy: 0.6927\n",
      "Epoch 51/100\n",
      "54/54 [==============================] - 0s 2ms/step - loss: 0.6263 - accuracy: 0.6760\n",
      "Epoch 52/100\n",
      "54/54 [==============================] - 0s 2ms/step - loss: 0.5886 - accuracy: 0.6909\n",
      "Epoch 53/100\n",
      "54/54 [==============================] - 0s 2ms/step - loss: 0.5943 - accuracy: 0.7207\n",
      "Epoch 54/100\n",
      "54/54 [==============================] - 0s 3ms/step - loss: 0.6124 - accuracy: 0.6834\n",
      "Epoch 55/100\n",
      "54/54 [==============================] - 0s 2ms/step - loss: 0.5766 - accuracy: 0.7263\n",
      "Epoch 56/100\n",
      "54/54 [==============================] - 0s 2ms/step - loss: 0.5908 - accuracy: 0.6760\n",
      "Epoch 57/100\n",
      "54/54 [==============================] - 0s 3ms/step - loss: 0.6113 - accuracy: 0.6685\n",
      "Epoch 58/100\n",
      "54/54 [==============================] - 0s 2ms/step - loss: 0.6060 - accuracy: 0.6890\n",
      "Epoch 59/100\n",
      "54/54 [==============================] - 0s 2ms/step - loss: 0.5793 - accuracy: 0.7263\n",
      "Epoch 60/100\n",
      "54/54 [==============================] - 0s 2ms/step - loss: 0.5789 - accuracy: 0.7058\n",
      "Epoch 61/100\n",
      "54/54 [==============================] - 0s 2ms/step - loss: 0.5781 - accuracy: 0.6965\n",
      "Epoch 62/100\n",
      "54/54 [==============================] - 0s 2ms/step - loss: 0.5963 - accuracy: 0.7114\n",
      "Epoch 63/100\n",
      "54/54 [==============================] - 0s 2ms/step - loss: 0.6022 - accuracy: 0.6797\n",
      "Epoch 64/100\n",
      "54/54 [==============================] - 0s 2ms/step - loss: 0.5766 - accuracy: 0.7244\n",
      "Epoch 65/100\n",
      "54/54 [==============================] - 0s 2ms/step - loss: 0.5976 - accuracy: 0.6946\n",
      "Epoch 66/100\n",
      "54/54 [==============================] - 0s 2ms/step - loss: 0.5820 - accuracy: 0.7058\n",
      "Epoch 67/100\n",
      "54/54 [==============================] - 0s 2ms/step - loss: 0.5872 - accuracy: 0.6872\n",
      "Epoch 68/100\n",
      "54/54 [==============================] - 0s 2ms/step - loss: 0.5834 - accuracy: 0.6890\n",
      "Epoch 69/100\n",
      "54/54 [==============================] - 0s 2ms/step - loss: 0.5686 - accuracy: 0.7225\n",
      "Epoch 70/100\n",
      "54/54 [==============================] - 0s 2ms/step - loss: 0.5861 - accuracy: 0.6872\n",
      "Epoch 71/100\n",
      "54/54 [==============================] - 0s 2ms/step - loss: 0.5607 - accuracy: 0.7318\n",
      "Epoch 72/100\n",
      "54/54 [==============================] - 0s 2ms/step - loss: 0.5856 - accuracy: 0.7207\n",
      "Epoch 73/100\n",
      "54/54 [==============================] - 0s 2ms/step - loss: 0.5899 - accuracy: 0.6909\n",
      "Epoch 74/100\n",
      "54/54 [==============================] - 0s 2ms/step - loss: 0.5703 - accuracy: 0.7188\n",
      "Epoch 75/100\n",
      "54/54 [==============================] - 0s 2ms/step - loss: 0.5996 - accuracy: 0.6816\n",
      "Epoch 76/100\n",
      "54/54 [==============================] - 0s 2ms/step - loss: 0.5804 - accuracy: 0.6834\n",
      "Epoch 77/100\n",
      "54/54 [==============================] - 0s 2ms/step - loss: 0.5913 - accuracy: 0.6965\n",
      "Epoch 78/100\n",
      "54/54 [==============================] - 0s 2ms/step - loss: 0.5684 - accuracy: 0.7188\n",
      "Epoch 79/100\n",
      "54/54 [==============================] - 0s 2ms/step - loss: 0.5676 - accuracy: 0.7225\n",
      "Epoch 80/100\n",
      "54/54 [==============================] - 0s 2ms/step - loss: 0.5593 - accuracy: 0.7151\n",
      "Epoch 81/100\n",
      "54/54 [==============================] - 0s 2ms/step - loss: 0.5648 - accuracy: 0.7225\n",
      "Epoch 82/100\n",
      "54/54 [==============================] - 0s 2ms/step - loss: 0.5682 - accuracy: 0.7207\n",
      "Epoch 83/100\n"
     ]
    },
    {
     "name": "stdout",
     "output_type": "stream",
     "text": [
      "54/54 [==============================] - 0s 2ms/step - loss: 0.5659 - accuracy: 0.7225\n",
      "Epoch 84/100\n",
      "54/54 [==============================] - 0s 2ms/step - loss: 0.5614 - accuracy: 0.7225\n",
      "Epoch 85/100\n",
      "54/54 [==============================] - 0s 2ms/step - loss: 0.5451 - accuracy: 0.7467\n",
      "Epoch 86/100\n",
      "54/54 [==============================] - 0s 2ms/step - loss: 0.5965 - accuracy: 0.7076\n",
      "Epoch 87/100\n",
      "54/54 [==============================] - 0s 2ms/step - loss: 0.5714 - accuracy: 0.7281\n",
      "Epoch 88/100\n",
      "54/54 [==============================] - 0s 2ms/step - loss: 0.5718 - accuracy: 0.7114\n",
      "Epoch 89/100\n",
      "54/54 [==============================] - 0s 2ms/step - loss: 0.5575 - accuracy: 0.7169\n",
      "Epoch 90/100\n",
      "54/54 [==============================] - 0s 2ms/step - loss: 0.5961 - accuracy: 0.7076\n",
      "Epoch 91/100\n",
      "54/54 [==============================] - 0s 2ms/step - loss: 0.5662 - accuracy: 0.7039\n",
      "Epoch 92/100\n",
      "54/54 [==============================] - 0s 2ms/step - loss: 0.5517 - accuracy: 0.7374\n",
      "Epoch 93/100\n",
      "54/54 [==============================] - 0s 2ms/step - loss: 0.5618 - accuracy: 0.7076\n",
      "Epoch 94/100\n",
      "54/54 [==============================] - 0s 2ms/step - loss: 0.5510 - accuracy: 0.7244\n",
      "Epoch 95/100\n",
      "54/54 [==============================] - 0s 2ms/step - loss: 0.5531 - accuracy: 0.7225\n",
      "Epoch 96/100\n",
      "54/54 [==============================] - 0s 2ms/step - loss: 0.5491 - accuracy: 0.7300\n",
      "Epoch 97/100\n",
      "54/54 [==============================] - 0s 2ms/step - loss: 0.5753 - accuracy: 0.7132\n",
      "Epoch 98/100\n",
      "54/54 [==============================] - 0s 2ms/step - loss: 0.5713 - accuracy: 0.7039\n",
      "Epoch 99/100\n",
      "54/54 [==============================] - 0s 2ms/step - loss: 0.5579 - accuracy: 0.7076\n",
      "Epoch 100/100\n",
      "54/54 [==============================] - 0s 2ms/step - loss: 0.5526 - accuracy: 0.7263\n"
     ]
    },
    {
     "data": {
      "text/plain": [
       "<keras.callbacks.History at 0x15e2a17ba60>"
      ]
     },
     "execution_count": 12,
     "metadata": {},
     "output_type": "execute_result"
    }
   ],
   "source": [
    "#'binary_crossentropy'\n",
    "\n",
    "model.compile(loss='binary_crossentropy', optimizer='adam', metrics=['accuracy'])\n",
    "model.fit(X_train, y_train, epochs=100, batch_size=10)"
   ]
  },
  {
   "cell_type": "code",
   "execution_count": 16,
   "metadata": {},
   "outputs": [
    {
     "name": "stdout",
     "output_type": "stream",
     "text": [
      "8/8 [==============================] - 0s 3ms/step\n"
     ]
    },
    {
     "data": {
      "text/plain": [
       "array([0.5474023], dtype=float32)"
      ]
     },
     "execution_count": 16,
     "metadata": {},
     "output_type": "execute_result"
    }
   ],
   "source": [
    "predictions = model.predict(X_test)\n",
    "predictions[0]"
   ]
  },
  {
   "cell_type": "code",
   "execution_count": 17,
   "metadata": {},
   "outputs": [
    {
     "data": {
      "text/plain": [
       "array([[0.5474023 ],\n",
       "       [0.1825961 ],\n",
       "       [0.7648486 ],\n",
       "       [0.6166362 ],\n",
       "       [0.20401846],\n",
       "       [0.53092694],\n",
       "       [0.4994509 ],\n",
       "       [0.33865374],\n",
       "       [0.5577194 ],\n",
       "       [0.26844573]], dtype=float32)"
      ]
     },
     "execution_count": 17,
     "metadata": {},
     "output_type": "execute_result"
    }
   ],
   "source": [
    "predictions[:10]"
   ]
  },
  {
   "cell_type": "code",
   "execution_count": 18,
   "metadata": {},
   "outputs": [
    {
     "data": {
      "text/plain": [
       "0"
      ]
     },
     "execution_count": 18,
     "metadata": {},
     "output_type": "execute_result"
    }
   ],
   "source": [
    "# round predictions \n",
    "rounded = [round(x[0].astype(int)) for x in predictions]\n",
    "rounded[0]"
   ]
  },
  {
   "cell_type": "code",
   "execution_count": 19,
   "metadata": {},
   "outputs": [
    {
     "name": "stdout",
     "output_type": "stream",
     "text": [
      "etiqueta 10 primeros datos de prueba:   [1 0 1 1 0 1 0 0 1 0] \n",
      "prediccion 10 primeros datos de prueba: [0, 0, 0, 0, 0, 0, 0, 0, 0, 0]\n"
     ]
    }
   ],
   "source": [
    "print(\"etiqueta 10 primeros datos de prueba:  \",y_test[:10],\\\n",
    "      \"\\nprediccion 10 primeros datos de prueba:\",rounded[:10])"
   ]
  },
  {
   "cell_type": "code",
   "execution_count": 20,
   "metadata": {},
   "outputs": [
    {
     "name": "stdout",
     "output_type": "stream",
     "text": [
      "8/8 [==============================] - 0s 2ms/step - loss: 0.5256 - accuracy: 0.7446\n",
      "Accuracy: 74.46\n"
     ]
    }
   ],
   "source": [
    "_, accuracy = model.evaluate(X_test, y_test)\n",
    "print('Accuracy: %.2f' % (accuracy*100))\n"
   ]
  },
  {
   "cell_type": "code",
   "execution_count": 21,
   "metadata": {},
   "outputs": [
    {
     "name": "stdout",
     "output_type": "stream",
     "text": [
      "[3.0, 121.0, 52.0, 0.0, 0.0, 36.0, 0.127, 25.0] => 0 (expected 1)\n",
      "[2.0, 95.0, 54.0, 14.0, 88.0, 26.1, 0.748, 22.0] => 0 (expected 0)\n",
      "[7.0, 194.0, 68.0, 28.0, 0.0, 35.9, 0.745, 41.0] => 0 (expected 1)\n",
      "[9.0, 145.0, 80.0, 46.0, 130.0, 37.9, 0.637, 40.0] => 0 (expected 1)\n",
      "[2.0, 157.0, 74.0, 35.0, 440.0, 39.4, 0.134, 30.0] => 0 (expected 0)\n"
     ]
    }
   ],
   "source": [
    "# summarize the first 5 cases\n",
    "for i in range(5):\n",
    "        print('%s => %d (expected %d)' % (X_test[i].tolist(), rounded[i], y_test[i]))"
   ]
  },
  {
   "cell_type": "code",
   "execution_count": null,
   "metadata": {},
   "outputs": [],
   "source": []
  },
  {
   "cell_type": "code",
   "execution_count": null,
   "metadata": {},
   "outputs": [],
   "source": []
  },
  {
   "cell_type": "code",
   "execution_count": null,
   "metadata": {},
   "outputs": [],
   "source": []
  },
  {
   "cell_type": "code",
   "execution_count": null,
   "metadata": {},
   "outputs": [],
   "source": []
  },
  {
   "cell_type": "code",
   "execution_count": null,
   "metadata": {},
   "outputs": [],
   "source": []
  }
 ],
 "metadata": {
  "kernelspec": {
   "display_name": "Python 3 (ipykernel)",
   "language": "python",
   "name": "python3"
  },
  "language_info": {
   "codemirror_mode": {
    "name": "ipython",
    "version": 3
   },
   "file_extension": ".py",
   "mimetype": "text/x-python",
   "name": "python",
   "nbconvert_exporter": "python",
   "pygments_lexer": "ipython3",
   "version": "3.8.16"
  }
 },
 "nbformat": 4,
 "nbformat_minor": 4
}
